{
 "cells": [
  {
   "cell_type": "markdown",
   "metadata": {
    "id": "xpbAcqxvZlXd"
   },
   "source": [
    "![](https://www.miskawaanhealth.com/wp-content/uploads/2021/05/chronic-kidney-disease-stages.jpg)"
   ]
  },
  {
   "cell_type": "code",
   "execution_count": 1,
   "metadata": {
    "id": "sqMyfMAFsqtr"
   },
   "outputs": [],
   "source": [
    "# import necessary libraries like numpy, pandas, pyplot and seaborn\n",
    "import pandas as pd\n",
    "import numpy as np\n",
    "import matplotlib.pyplot as plt\n",
    "import seaborn as sns"
   ]
  },
  {
   "cell_type": "code",
   "execution_count": 2,
   "metadata": {
    "colab": {
     "base_uri": "https://localhost:8080/",
     "height": 235
    },
    "id": "s-kb-iiFs33N",
    "outputId": "2f5f6353-5c63-4573-c038-d67ac7dc68ef"
   },
   "outputs": [
    {
     "name": "stdout",
     "output_type": "stream",
     "text": [
      "(400, 26)\n"
     ]
    },
    {
     "data": {
      "text/html": [
       "<div>\n",
       "<style scoped>\n",
       "    .dataframe tbody tr th:only-of-type {\n",
       "        vertical-align: middle;\n",
       "    }\n",
       "\n",
       "    .dataframe tbody tr th {\n",
       "        vertical-align: top;\n",
       "    }\n",
       "\n",
       "    .dataframe thead th {\n",
       "        text-align: right;\n",
       "    }\n",
       "</style>\n",
       "<table border=\"1\" class=\"dataframe\">\n",
       "  <thead>\n",
       "    <tr style=\"text-align: right;\">\n",
       "      <th></th>\n",
       "      <th>id</th>\n",
       "      <th>age</th>\n",
       "      <th>bp</th>\n",
       "      <th>sg</th>\n",
       "      <th>al</th>\n",
       "      <th>su</th>\n",
       "      <th>rbc</th>\n",
       "      <th>pc</th>\n",
       "      <th>pcc</th>\n",
       "      <th>ba</th>\n",
       "      <th>...</th>\n",
       "      <th>pcv</th>\n",
       "      <th>wc</th>\n",
       "      <th>rc</th>\n",
       "      <th>htn</th>\n",
       "      <th>dm</th>\n",
       "      <th>cad</th>\n",
       "      <th>appet</th>\n",
       "      <th>pe</th>\n",
       "      <th>ane</th>\n",
       "      <th>classification</th>\n",
       "    </tr>\n",
       "  </thead>\n",
       "  <tbody>\n",
       "    <tr>\n",
       "      <th>0</th>\n",
       "      <td>0</td>\n",
       "      <td>48.0</td>\n",
       "      <td>80.0</td>\n",
       "      <td>1.020</td>\n",
       "      <td>1.0</td>\n",
       "      <td>0.0</td>\n",
       "      <td>NaN</td>\n",
       "      <td>normal</td>\n",
       "      <td>notpresent</td>\n",
       "      <td>notpresent</td>\n",
       "      <td>...</td>\n",
       "      <td>44</td>\n",
       "      <td>7800</td>\n",
       "      <td>5.2</td>\n",
       "      <td>yes</td>\n",
       "      <td>yes</td>\n",
       "      <td>no</td>\n",
       "      <td>good</td>\n",
       "      <td>no</td>\n",
       "      <td>no</td>\n",
       "      <td>ckd</td>\n",
       "    </tr>\n",
       "    <tr>\n",
       "      <th>1</th>\n",
       "      <td>1</td>\n",
       "      <td>7.0</td>\n",
       "      <td>50.0</td>\n",
       "      <td>1.020</td>\n",
       "      <td>4.0</td>\n",
       "      <td>0.0</td>\n",
       "      <td>NaN</td>\n",
       "      <td>normal</td>\n",
       "      <td>notpresent</td>\n",
       "      <td>notpresent</td>\n",
       "      <td>...</td>\n",
       "      <td>38</td>\n",
       "      <td>6000</td>\n",
       "      <td>NaN</td>\n",
       "      <td>no</td>\n",
       "      <td>no</td>\n",
       "      <td>no</td>\n",
       "      <td>good</td>\n",
       "      <td>no</td>\n",
       "      <td>no</td>\n",
       "      <td>ckd</td>\n",
       "    </tr>\n",
       "    <tr>\n",
       "      <th>2</th>\n",
       "      <td>2</td>\n",
       "      <td>62.0</td>\n",
       "      <td>80.0</td>\n",
       "      <td>1.010</td>\n",
       "      <td>2.0</td>\n",
       "      <td>3.0</td>\n",
       "      <td>normal</td>\n",
       "      <td>normal</td>\n",
       "      <td>notpresent</td>\n",
       "      <td>notpresent</td>\n",
       "      <td>...</td>\n",
       "      <td>31</td>\n",
       "      <td>7500</td>\n",
       "      <td>NaN</td>\n",
       "      <td>no</td>\n",
       "      <td>yes</td>\n",
       "      <td>no</td>\n",
       "      <td>poor</td>\n",
       "      <td>no</td>\n",
       "      <td>yes</td>\n",
       "      <td>ckd</td>\n",
       "    </tr>\n",
       "    <tr>\n",
       "      <th>3</th>\n",
       "      <td>3</td>\n",
       "      <td>48.0</td>\n",
       "      <td>70.0</td>\n",
       "      <td>1.005</td>\n",
       "      <td>4.0</td>\n",
       "      <td>0.0</td>\n",
       "      <td>normal</td>\n",
       "      <td>abnormal</td>\n",
       "      <td>present</td>\n",
       "      <td>notpresent</td>\n",
       "      <td>...</td>\n",
       "      <td>32</td>\n",
       "      <td>6700</td>\n",
       "      <td>3.9</td>\n",
       "      <td>yes</td>\n",
       "      <td>no</td>\n",
       "      <td>no</td>\n",
       "      <td>poor</td>\n",
       "      <td>yes</td>\n",
       "      <td>yes</td>\n",
       "      <td>ckd</td>\n",
       "    </tr>\n",
       "    <tr>\n",
       "      <th>4</th>\n",
       "      <td>4</td>\n",
       "      <td>51.0</td>\n",
       "      <td>80.0</td>\n",
       "      <td>1.010</td>\n",
       "      <td>2.0</td>\n",
       "      <td>0.0</td>\n",
       "      <td>normal</td>\n",
       "      <td>normal</td>\n",
       "      <td>notpresent</td>\n",
       "      <td>notpresent</td>\n",
       "      <td>...</td>\n",
       "      <td>35</td>\n",
       "      <td>7300</td>\n",
       "      <td>4.6</td>\n",
       "      <td>no</td>\n",
       "      <td>no</td>\n",
       "      <td>no</td>\n",
       "      <td>good</td>\n",
       "      <td>no</td>\n",
       "      <td>no</td>\n",
       "      <td>ckd</td>\n",
       "    </tr>\n",
       "  </tbody>\n",
       "</table>\n",
       "<p>5 rows × 26 columns</p>\n",
       "</div>"
      ],
      "text/plain": [
       "   id   age    bp     sg   al   su     rbc        pc         pcc          ba  \\\n",
       "0   0  48.0  80.0  1.020  1.0  0.0     NaN    normal  notpresent  notpresent   \n",
       "1   1   7.0  50.0  1.020  4.0  0.0     NaN    normal  notpresent  notpresent   \n",
       "2   2  62.0  80.0  1.010  2.0  3.0  normal    normal  notpresent  notpresent   \n",
       "3   3  48.0  70.0  1.005  4.0  0.0  normal  abnormal     present  notpresent   \n",
       "4   4  51.0  80.0  1.010  2.0  0.0  normal    normal  notpresent  notpresent   \n",
       "\n",
       "   ...  pcv    wc   rc  htn   dm  cad appet   pe  ane classification  \n",
       "0  ...   44  7800  5.2  yes  yes   no  good   no   no            ckd  \n",
       "1  ...   38  6000  NaN   no   no   no  good   no   no            ckd  \n",
       "2  ...   31  7500  NaN   no  yes   no  poor   no  yes            ckd  \n",
       "3  ...   32  6700  3.9  yes   no   no  poor  yes  yes            ckd  \n",
       "4  ...   35  7300  4.6   no   no   no  good   no   no            ckd  \n",
       "\n",
       "[5 rows x 26 columns]"
      ]
     },
     "execution_count": 2,
     "metadata": {},
     "output_type": "execute_result"
    }
   ],
   "source": [
    "# reading dataset\n",
    "\n",
    "chronic_df = pd.read_csv(r'C:\\Users\\Siva Reddy\\Desktop\\projects\\Chronic_Kidney_Disease\\kidney_disease.csv')\n",
    "print(chronic_df.shape)\n",
    "chronic_df.head()"
   ]
  },
  {
   "cell_type": "markdown",
   "metadata": {
    "id": "NXG51CuutWZc"
   },
   "source": [
    "Dataset link: https://www.kaggle.com/datasets/mansoordaku/ckdisease?select=kidney_disease.csv  or https://archive.ics.uci.edu/dataset/336/chronic+kidney+disease\n",
    "## **`Dataset Description`**\n",
    "- age\t\t-\tage\t\n",
    "- bp\t\t-\tblood pressure\n",
    "- sg\t\t-\tspecific gravity\n",
    "- al\t\t-   \talbumin\n",
    "- su\t\t-\tsugar\n",
    "- rbc\t\t-\tred blood cells\n",
    "- pc\t\t-\tpus cell\n",
    "- pcc\t\t-\tpus cell clumps\n",
    "- ba\t\t-\tbacteria\n",
    "- bgr\t\t-\tblood glucose random\n",
    "- bu\t\t-\tblood urea\n",
    "- sc\t\t-\tserum creatinine\n",
    "- sod\t\t-\tsodium\n",
    "- pot\t\t-\tpotassium\n",
    "- hemo\t\t-\themoglobin\n",
    "- pcv\t\t-\tpacked cell volume\n",
    "- wc\t\t-\twhite blood cell count\n",
    "- rc\t\t-\tred blood cell count\n",
    "- htn\t\t-\thypertension\n",
    "- dm\t\t-\tdiabetes mellitus\n",
    "- cad\t\t-\tcoronary artery disease\n",
    "- appet\t\t-\tappetite\n",
    "- pe\t\t-\tpedal edema\n",
    "- ane\t\t-\tanemia\n",
    "- class\t\t-\tclass\t\n",
    "- ##################################################\n",
    "%\n",
    "- Number of Attributes: 24 + class = 25 ( 11  numeric ,14  nominal) \n",
    "%\n",
    "<h3>Attribute Information :</h3>\n",
    "- 1.Age(numerical)\n",
    "  \t  \tage in years\n",
    "- \t2.Blood Pressure(numerical)\n",
    "\t       \tbp in mm/Hg\n",
    "-\t3.Specific Gravity(nominal)\n",
    "\t  \tsg - (1.005,1.010,1.015,1.020,1.025)\n",
    "- \t4.Albumin(nominal)\n",
    "\t\t  al - (0,1,2,3,4,5)\n",
    "-\t5.Sugar(nominal)\n",
    "\t\t  su - (0,1,2,3,4,5)\n",
    "- \t6.Red Blood Cells(nominal)\n",
    "\t\t  rbc - (normal,abnormal)\n",
    "- \t7.Pus Cell (nominal)\n",
    "\t\t  pc - (normal,abnormal)\n",
    "- \t8.Pus Cell clumps(nominal)\n",
    "\t\t  pcc - (present,notpresent)\n",
    "- \t9.Bacteria(nominal)\n",
    "\t\t  ba  - (present,notpresent)\n",
    "- \t10.Blood Glucose Random(numerical)\t\t\n",
    "\t\t  bgr in mgs/dl\n",
    "- \t11.Blood Urea(numerical)\t\n",
    "\t\t  bu in mgs/dl\n",
    "- \t12.Serum Creatinine(numerical)\t\n",
    "\t\t  sc in mgs/dl\n",
    "- \t13.Sodium(numerical)\n",
    "\t\t  sod in mEq/L\n",
    "- \t14.Potassium(numerical)\t\n",
    "\t\t  pot in mEq/L\n",
    "- \t15.Hemoglobin(numerical)\n",
    "\t\t  hemo in gms\n",
    "- \t16.Packed  Cell Volume(numerical)\n",
    "- \t17.White Blood Cell Count(numerical)\n",
    "\t\t  wc in cells/cumm\n",
    "- \t18.Red Blood Cell Count(numerical)\t\n",
    "\t\t  rc in millions/cmm\n",
    "- \t19.Hypertension(nominal)\t\n",
    "\t\t  htn - (yes,no)\n",
    "- \t20.Diabetes Mellitus(nominal)\t\n",
    "\t\t  dm - (yes,no)\n",
    "- \t21.Coronary Artery Disease(nominal)\n",
    "\t\t  cad - (yes,no)\n",
    "- \t22.Appetite(nominal)\t\n",
    "\t    appet - (good,poor)\n",
    "- \t23.Pedal Edema(nominal)\n",
    "\t\t  pe - (yes,no)\t\n",
    "- \t24.Anemia(nominal)\n",
    "\t\t  ane - (yes,no)\n",
    "- \t25.Class (nominal)\t\t\n",
    "\t\t  class - (ckd,notckd)"
   ]
  },
  {
   "cell_type": "code",
   "execution_count": 3,
   "metadata": {
    "colab": {
     "base_uri": "https://localhost:8080/"
    },
    "id": "MEvQhjvcuJVG",
    "outputId": "fb0da8ca-c64a-431b-d1e8-4ebd99798858"
   },
   "outputs": [
    {
     "name": "stdout",
     "output_type": "stream",
     "text": [
      "<class 'pandas.core.frame.DataFrame'>\n",
      "RangeIndex: 400 entries, 0 to 399\n",
      "Data columns (total 26 columns):\n",
      " #   Column          Non-Null Count  Dtype  \n",
      "---  ------          --------------  -----  \n",
      " 0   id              400 non-null    int64  \n",
      " 1   age             391 non-null    float64\n",
      " 2   bp              388 non-null    float64\n",
      " 3   sg              353 non-null    float64\n",
      " 4   al              354 non-null    float64\n",
      " 5   su              351 non-null    float64\n",
      " 6   rbc             248 non-null    object \n",
      " 7   pc              335 non-null    object \n",
      " 8   pcc             396 non-null    object \n",
      " 9   ba              396 non-null    object \n",
      " 10  bgr             356 non-null    float64\n",
      " 11  bu              381 non-null    float64\n",
      " 12  sc              383 non-null    float64\n",
      " 13  sod             313 non-null    float64\n",
      " 14  pot             312 non-null    float64\n",
      " 15  hemo            348 non-null    float64\n",
      " 16  pcv             330 non-null    object \n",
      " 17  wc              295 non-null    object \n",
      " 18  rc              270 non-null    object \n",
      " 19  htn             398 non-null    object \n",
      " 20  dm              398 non-null    object \n",
      " 21  cad             398 non-null    object \n",
      " 22  appet           399 non-null    object \n",
      " 23  pe              399 non-null    object \n",
      " 24  ane             399 non-null    object \n",
      " 25  classification  400 non-null    object \n",
      "dtypes: float64(11), int64(1), object(14)\n",
      "memory usage: 81.4+ KB\n"
     ]
    }
   ],
   "source": [
    "# checking info of columns and null values\n",
    "\n",
    "chronic_df.info()\n"
   ]
  },
  {
   "cell_type": "markdown",
   "metadata": {
    "id": "I-CZTlLyZu9A"
   },
   "source": [
    "## **`Data Cleaning`**"
   ]
  },
  {
   "cell_type": "code",
   "execution_count": 4,
   "metadata": {
    "id": "p_NXIjgcwX9u"
   },
   "outputs": [
    {
     "data": {
      "text/html": [
       "<div>\n",
       "<style scoped>\n",
       "    .dataframe tbody tr th:only-of-type {\n",
       "        vertical-align: middle;\n",
       "    }\n",
       "\n",
       "    .dataframe tbody tr th {\n",
       "        vertical-align: top;\n",
       "    }\n",
       "\n",
       "    .dataframe thead th {\n",
       "        text-align: right;\n",
       "    }\n",
       "</style>\n",
       "<table border=\"1\" class=\"dataframe\">\n",
       "  <thead>\n",
       "    <tr style=\"text-align: right;\">\n",
       "      <th></th>\n",
       "      <th>age</th>\n",
       "      <th>bp</th>\n",
       "      <th>sg</th>\n",
       "      <th>al</th>\n",
       "      <th>su</th>\n",
       "      <th>rbc</th>\n",
       "      <th>pc</th>\n",
       "      <th>pcc</th>\n",
       "      <th>ba</th>\n",
       "      <th>bgr</th>\n",
       "      <th>...</th>\n",
       "      <th>pcv</th>\n",
       "      <th>wc</th>\n",
       "      <th>rc</th>\n",
       "      <th>htn</th>\n",
       "      <th>dm</th>\n",
       "      <th>cad</th>\n",
       "      <th>appet</th>\n",
       "      <th>pe</th>\n",
       "      <th>ane</th>\n",
       "      <th>classification</th>\n",
       "    </tr>\n",
       "  </thead>\n",
       "  <tbody>\n",
       "    <tr>\n",
       "      <th>0</th>\n",
       "      <td>48.0</td>\n",
       "      <td>80.0</td>\n",
       "      <td>1.020</td>\n",
       "      <td>1.0</td>\n",
       "      <td>0.0</td>\n",
       "      <td>NaN</td>\n",
       "      <td>normal</td>\n",
       "      <td>notpresent</td>\n",
       "      <td>notpresent</td>\n",
       "      <td>121.0</td>\n",
       "      <td>...</td>\n",
       "      <td>44</td>\n",
       "      <td>7800</td>\n",
       "      <td>5.2</td>\n",
       "      <td>yes</td>\n",
       "      <td>yes</td>\n",
       "      <td>no</td>\n",
       "      <td>good</td>\n",
       "      <td>no</td>\n",
       "      <td>no</td>\n",
       "      <td>ckd</td>\n",
       "    </tr>\n",
       "    <tr>\n",
       "      <th>1</th>\n",
       "      <td>7.0</td>\n",
       "      <td>50.0</td>\n",
       "      <td>1.020</td>\n",
       "      <td>4.0</td>\n",
       "      <td>0.0</td>\n",
       "      <td>NaN</td>\n",
       "      <td>normal</td>\n",
       "      <td>notpresent</td>\n",
       "      <td>notpresent</td>\n",
       "      <td>NaN</td>\n",
       "      <td>...</td>\n",
       "      <td>38</td>\n",
       "      <td>6000</td>\n",
       "      <td>NaN</td>\n",
       "      <td>no</td>\n",
       "      <td>no</td>\n",
       "      <td>no</td>\n",
       "      <td>good</td>\n",
       "      <td>no</td>\n",
       "      <td>no</td>\n",
       "      <td>ckd</td>\n",
       "    </tr>\n",
       "    <tr>\n",
       "      <th>2</th>\n",
       "      <td>62.0</td>\n",
       "      <td>80.0</td>\n",
       "      <td>1.010</td>\n",
       "      <td>2.0</td>\n",
       "      <td>3.0</td>\n",
       "      <td>normal</td>\n",
       "      <td>normal</td>\n",
       "      <td>notpresent</td>\n",
       "      <td>notpresent</td>\n",
       "      <td>423.0</td>\n",
       "      <td>...</td>\n",
       "      <td>31</td>\n",
       "      <td>7500</td>\n",
       "      <td>NaN</td>\n",
       "      <td>no</td>\n",
       "      <td>yes</td>\n",
       "      <td>no</td>\n",
       "      <td>poor</td>\n",
       "      <td>no</td>\n",
       "      <td>yes</td>\n",
       "      <td>ckd</td>\n",
       "    </tr>\n",
       "    <tr>\n",
       "      <th>3</th>\n",
       "      <td>48.0</td>\n",
       "      <td>70.0</td>\n",
       "      <td>1.005</td>\n",
       "      <td>4.0</td>\n",
       "      <td>0.0</td>\n",
       "      <td>normal</td>\n",
       "      <td>abnormal</td>\n",
       "      <td>present</td>\n",
       "      <td>notpresent</td>\n",
       "      <td>117.0</td>\n",
       "      <td>...</td>\n",
       "      <td>32</td>\n",
       "      <td>6700</td>\n",
       "      <td>3.9</td>\n",
       "      <td>yes</td>\n",
       "      <td>no</td>\n",
       "      <td>no</td>\n",
       "      <td>poor</td>\n",
       "      <td>yes</td>\n",
       "      <td>yes</td>\n",
       "      <td>ckd</td>\n",
       "    </tr>\n",
       "    <tr>\n",
       "      <th>4</th>\n",
       "      <td>51.0</td>\n",
       "      <td>80.0</td>\n",
       "      <td>1.010</td>\n",
       "      <td>2.0</td>\n",
       "      <td>0.0</td>\n",
       "      <td>normal</td>\n",
       "      <td>normal</td>\n",
       "      <td>notpresent</td>\n",
       "      <td>notpresent</td>\n",
       "      <td>106.0</td>\n",
       "      <td>...</td>\n",
       "      <td>35</td>\n",
       "      <td>7300</td>\n",
       "      <td>4.6</td>\n",
       "      <td>no</td>\n",
       "      <td>no</td>\n",
       "      <td>no</td>\n",
       "      <td>good</td>\n",
       "      <td>no</td>\n",
       "      <td>no</td>\n",
       "      <td>ckd</td>\n",
       "    </tr>\n",
       "  </tbody>\n",
       "</table>\n",
       "<p>5 rows × 25 columns</p>\n",
       "</div>"
      ],
      "text/plain": [
       "    age    bp     sg   al   su     rbc        pc         pcc          ba  \\\n",
       "0  48.0  80.0  1.020  1.0  0.0     NaN    normal  notpresent  notpresent   \n",
       "1   7.0  50.0  1.020  4.0  0.0     NaN    normal  notpresent  notpresent   \n",
       "2  62.0  80.0  1.010  2.0  3.0  normal    normal  notpresent  notpresent   \n",
       "3  48.0  70.0  1.005  4.0  0.0  normal  abnormal     present  notpresent   \n",
       "4  51.0  80.0  1.010  2.0  0.0  normal    normal  notpresent  notpresent   \n",
       "\n",
       "     bgr  ...  pcv    wc   rc  htn   dm cad appet   pe  ane classification  \n",
       "0  121.0  ...   44  7800  5.2  yes  yes  no  good   no   no            ckd  \n",
       "1    NaN  ...   38  6000  NaN   no   no  no  good   no   no            ckd  \n",
       "2  423.0  ...   31  7500  NaN   no  yes  no  poor   no  yes            ckd  \n",
       "3  117.0  ...   32  6700  3.9  yes   no  no  poor  yes  yes            ckd  \n",
       "4  106.0  ...   35  7300  4.6   no   no  no  good   no   no            ckd  \n",
       "\n",
       "[5 rows x 25 columns]"
      ]
     },
     "execution_count": 4,
     "metadata": {},
     "output_type": "execute_result"
    }
   ],
   "source": [
    "# drop id column\n",
    "chronic_df = chronic_df.drop(columns='id', axis=1)\n",
    "\n",
    "chronic_df.head()"
   ]
  },
  {
   "cell_type": "code",
   "execution_count": 5,
   "metadata": {},
   "outputs": [
    {
     "data": {
      "text/html": [
       "<div>\n",
       "<style scoped>\n",
       "    .dataframe tbody tr th:only-of-type {\n",
       "        vertical-align: middle;\n",
       "    }\n",
       "\n",
       "    .dataframe tbody tr th {\n",
       "        vertical-align: top;\n",
       "    }\n",
       "\n",
       "    .dataframe thead th {\n",
       "        text-align: right;\n",
       "    }\n",
       "</style>\n",
       "<table border=\"1\" class=\"dataframe\">\n",
       "  <thead>\n",
       "    <tr style=\"text-align: right;\">\n",
       "      <th></th>\n",
       "      <th>AGE</th>\n",
       "      <th>bp</th>\n",
       "      <th>sg</th>\n",
       "      <th>al</th>\n",
       "      <th>su</th>\n",
       "      <th>rbc</th>\n",
       "      <th>pc</th>\n",
       "      <th>pcc</th>\n",
       "      <th>ba</th>\n",
       "      <th>bgr</th>\n",
       "      <th>...</th>\n",
       "      <th>pcv</th>\n",
       "      <th>wc</th>\n",
       "      <th>rc</th>\n",
       "      <th>htn</th>\n",
       "      <th>dm</th>\n",
       "      <th>cad</th>\n",
       "      <th>appet</th>\n",
       "      <th>pe</th>\n",
       "      <th>ane</th>\n",
       "      <th>classification</th>\n",
       "    </tr>\n",
       "  </thead>\n",
       "  <tbody>\n",
       "    <tr>\n",
       "      <th>0</th>\n",
       "      <td>48.0</td>\n",
       "      <td>80.0</td>\n",
       "      <td>1.02</td>\n",
       "      <td>1.0</td>\n",
       "      <td>0.0</td>\n",
       "      <td>NaN</td>\n",
       "      <td>normal</td>\n",
       "      <td>notpresent</td>\n",
       "      <td>notpresent</td>\n",
       "      <td>121.0</td>\n",
       "      <td>...</td>\n",
       "      <td>44</td>\n",
       "      <td>7800</td>\n",
       "      <td>5.2</td>\n",
       "      <td>yes</td>\n",
       "      <td>yes</td>\n",
       "      <td>no</td>\n",
       "      <td>good</td>\n",
       "      <td>no</td>\n",
       "      <td>no</td>\n",
       "      <td>ckd</td>\n",
       "    </tr>\n",
       "  </tbody>\n",
       "</table>\n",
       "<p>1 rows × 25 columns</p>\n",
       "</div>"
      ],
      "text/plain": [
       "    AGE    bp    sg   al   su  rbc      pc         pcc          ba    bgr  \\\n",
       "0  48.0  80.0  1.02  1.0  0.0  NaN  normal  notpresent  notpresent  121.0   \n",
       "\n",
       "   ...  pcv    wc   rc  htn   dm cad appet  pe ane classification  \n",
       "0  ...   44  7800  5.2  yes  yes  no  good  no  no            ckd  \n",
       "\n",
       "[1 rows x 25 columns]"
      ]
     },
     "execution_count": 5,
     "metadata": {},
     "output_type": "execute_result"
    }
   ],
   "source": [
    "# change individual column names\n",
    "chronic_df.rename(columns={'age':'AGE'}, inplace=True)\n",
    "chronic_df.head(1)"
   ]
  },
  {
   "cell_type": "code",
   "execution_count": 6,
   "metadata": {
    "id": "tvX2BcF8fAbZ"
   },
   "outputs": [],
   "source": [
    "# rename column names to make it more user-friendly\n",
    "\n",
    "chronic_df.columns = ['age', 'blood_pressure', 'specific_gravity', 'albumin', 'sugar', 'red_blood_cells', 'pus_cell',\n",
    "              'pus_cell_clumps', 'bacteria', 'blood_glucose_random', 'blood_urea', 'serum_creatinine', 'sodium',\n",
    "              'potassium', 'haemoglobin', 'packed_cell_volume', 'white_blood_cell_count', 'red_blood_cell_count',\n",
    "              'hypertension', 'diabetes_mellitus', 'coronary_artery_disease', 'appetite', 'peda_edema',\n",
    "              'aanemia', 'class']"
   ]
  },
  {
   "cell_type": "code",
   "execution_count": 7,
   "metadata": {
    "colab": {
     "base_uri": "https://localhost:8080/",
     "height": 299
    },
    "id": "yjMhni_PfJ1-",
    "outputId": "295f5009-dcb5-4a7a-9dbc-4b0ad3fb78bc"
   },
   "outputs": [
    {
     "data": {
      "text/html": [
       "<div>\n",
       "<style scoped>\n",
       "    .dataframe tbody tr th:only-of-type {\n",
       "        vertical-align: middle;\n",
       "    }\n",
       "\n",
       "    .dataframe tbody tr th {\n",
       "        vertical-align: top;\n",
       "    }\n",
       "\n",
       "    .dataframe thead th {\n",
       "        text-align: right;\n",
       "    }\n",
       "</style>\n",
       "<table border=\"1\" class=\"dataframe\">\n",
       "  <thead>\n",
       "    <tr style=\"text-align: right;\">\n",
       "      <th></th>\n",
       "      <th>age</th>\n",
       "      <th>blood_pressure</th>\n",
       "      <th>specific_gravity</th>\n",
       "      <th>albumin</th>\n",
       "      <th>sugar</th>\n",
       "      <th>red_blood_cells</th>\n",
       "      <th>pus_cell</th>\n",
       "      <th>pus_cell_clumps</th>\n",
       "      <th>bacteria</th>\n",
       "      <th>blood_glucose_random</th>\n",
       "      <th>...</th>\n",
       "      <th>packed_cell_volume</th>\n",
       "      <th>white_blood_cell_count</th>\n",
       "      <th>red_blood_cell_count</th>\n",
       "      <th>hypertension</th>\n",
       "      <th>diabetes_mellitus</th>\n",
       "      <th>coronary_artery_disease</th>\n",
       "      <th>appetite</th>\n",
       "      <th>peda_edema</th>\n",
       "      <th>aanemia</th>\n",
       "      <th>class</th>\n",
       "    </tr>\n",
       "  </thead>\n",
       "  <tbody>\n",
       "    <tr>\n",
       "      <th>0</th>\n",
       "      <td>48.0</td>\n",
       "      <td>80.0</td>\n",
       "      <td>1.020</td>\n",
       "      <td>1.0</td>\n",
       "      <td>0.0</td>\n",
       "      <td>NaN</td>\n",
       "      <td>normal</td>\n",
       "      <td>notpresent</td>\n",
       "      <td>notpresent</td>\n",
       "      <td>121.0</td>\n",
       "      <td>...</td>\n",
       "      <td>44</td>\n",
       "      <td>7800</td>\n",
       "      <td>5.2</td>\n",
       "      <td>yes</td>\n",
       "      <td>yes</td>\n",
       "      <td>no</td>\n",
       "      <td>good</td>\n",
       "      <td>no</td>\n",
       "      <td>no</td>\n",
       "      <td>ckd</td>\n",
       "    </tr>\n",
       "    <tr>\n",
       "      <th>1</th>\n",
       "      <td>7.0</td>\n",
       "      <td>50.0</td>\n",
       "      <td>1.020</td>\n",
       "      <td>4.0</td>\n",
       "      <td>0.0</td>\n",
       "      <td>NaN</td>\n",
       "      <td>normal</td>\n",
       "      <td>notpresent</td>\n",
       "      <td>notpresent</td>\n",
       "      <td>NaN</td>\n",
       "      <td>...</td>\n",
       "      <td>38</td>\n",
       "      <td>6000</td>\n",
       "      <td>NaN</td>\n",
       "      <td>no</td>\n",
       "      <td>no</td>\n",
       "      <td>no</td>\n",
       "      <td>good</td>\n",
       "      <td>no</td>\n",
       "      <td>no</td>\n",
       "      <td>ckd</td>\n",
       "    </tr>\n",
       "    <tr>\n",
       "      <th>2</th>\n",
       "      <td>62.0</td>\n",
       "      <td>80.0</td>\n",
       "      <td>1.010</td>\n",
       "      <td>2.0</td>\n",
       "      <td>3.0</td>\n",
       "      <td>normal</td>\n",
       "      <td>normal</td>\n",
       "      <td>notpresent</td>\n",
       "      <td>notpresent</td>\n",
       "      <td>423.0</td>\n",
       "      <td>...</td>\n",
       "      <td>31</td>\n",
       "      <td>7500</td>\n",
       "      <td>NaN</td>\n",
       "      <td>no</td>\n",
       "      <td>yes</td>\n",
       "      <td>no</td>\n",
       "      <td>poor</td>\n",
       "      <td>no</td>\n",
       "      <td>yes</td>\n",
       "      <td>ckd</td>\n",
       "    </tr>\n",
       "    <tr>\n",
       "      <th>3</th>\n",
       "      <td>48.0</td>\n",
       "      <td>70.0</td>\n",
       "      <td>1.005</td>\n",
       "      <td>4.0</td>\n",
       "      <td>0.0</td>\n",
       "      <td>normal</td>\n",
       "      <td>abnormal</td>\n",
       "      <td>present</td>\n",
       "      <td>notpresent</td>\n",
       "      <td>117.0</td>\n",
       "      <td>...</td>\n",
       "      <td>32</td>\n",
       "      <td>6700</td>\n",
       "      <td>3.9</td>\n",
       "      <td>yes</td>\n",
       "      <td>no</td>\n",
       "      <td>no</td>\n",
       "      <td>poor</td>\n",
       "      <td>yes</td>\n",
       "      <td>yes</td>\n",
       "      <td>ckd</td>\n",
       "    </tr>\n",
       "    <tr>\n",
       "      <th>4</th>\n",
       "      <td>51.0</td>\n",
       "      <td>80.0</td>\n",
       "      <td>1.010</td>\n",
       "      <td>2.0</td>\n",
       "      <td>0.0</td>\n",
       "      <td>normal</td>\n",
       "      <td>normal</td>\n",
       "      <td>notpresent</td>\n",
       "      <td>notpresent</td>\n",
       "      <td>106.0</td>\n",
       "      <td>...</td>\n",
       "      <td>35</td>\n",
       "      <td>7300</td>\n",
       "      <td>4.6</td>\n",
       "      <td>no</td>\n",
       "      <td>no</td>\n",
       "      <td>no</td>\n",
       "      <td>good</td>\n",
       "      <td>no</td>\n",
       "      <td>no</td>\n",
       "      <td>ckd</td>\n",
       "    </tr>\n",
       "  </tbody>\n",
       "</table>\n",
       "<p>5 rows × 25 columns</p>\n",
       "</div>"
      ],
      "text/plain": [
       "    age  blood_pressure  specific_gravity  albumin  sugar red_blood_cells  \\\n",
       "0  48.0            80.0             1.020      1.0    0.0             NaN   \n",
       "1   7.0            50.0             1.020      4.0    0.0             NaN   \n",
       "2  62.0            80.0             1.010      2.0    3.0          normal   \n",
       "3  48.0            70.0             1.005      4.0    0.0          normal   \n",
       "4  51.0            80.0             1.010      2.0    0.0          normal   \n",
       "\n",
       "   pus_cell pus_cell_clumps    bacteria  blood_glucose_random  ...  \\\n",
       "0    normal      notpresent  notpresent                 121.0  ...   \n",
       "1    normal      notpresent  notpresent                   NaN  ...   \n",
       "2    normal      notpresent  notpresent                 423.0  ...   \n",
       "3  abnormal         present  notpresent                 117.0  ...   \n",
       "4    normal      notpresent  notpresent                 106.0  ...   \n",
       "\n",
       "   packed_cell_volume  white_blood_cell_count  red_blood_cell_count  \\\n",
       "0                  44                    7800                   5.2   \n",
       "1                  38                    6000                   NaN   \n",
       "2                  31                    7500                   NaN   \n",
       "3                  32                    6700                   3.9   \n",
       "4                  35                    7300                   4.6   \n",
       "\n",
       "   hypertension  diabetes_mellitus coronary_artery_disease appetite  \\\n",
       "0           yes                yes                      no     good   \n",
       "1            no                 no                      no     good   \n",
       "2            no                yes                      no     poor   \n",
       "3           yes                 no                      no     poor   \n",
       "4            no                 no                      no     good   \n",
       "\n",
       "  peda_edema aanemia class  \n",
       "0         no      no   ckd  \n",
       "1         no      no   ckd  \n",
       "2         no     yes   ckd  \n",
       "3        yes     yes   ckd  \n",
       "4         no      no   ckd  \n",
       "\n",
       "[5 rows x 25 columns]"
      ]
     },
     "execution_count": 7,
     "metadata": {},
     "output_type": "execute_result"
    }
   ],
   "source": [
    "chronic_df.head()"
   ]
  },
  {
   "cell_type": "code",
   "execution_count": 8,
   "metadata": {},
   "outputs": [
    {
     "name": "stdout",
     "output_type": "stream",
     "text": [
      "age : 76\n",
      "blood_pressure : 10\n",
      "specific_gravity : 5\n",
      "albumin : 6\n",
      "sugar : 6\n",
      "red_blood_cells : 2\n",
      "pus_cell : 2\n",
      "pus_cell_clumps : 2\n",
      "bacteria : 2\n",
      "blood_glucose_random : 146\n",
      "blood_urea : 118\n",
      "serum_creatinine : 84\n",
      "sodium : 34\n",
      "potassium : 40\n",
      "haemoglobin : 115\n",
      "packed_cell_volume : 44\n",
      "white_blood_cell_count : 92\n",
      "red_blood_cell_count : 49\n",
      "hypertension : 2\n",
      "diabetes_mellitus : 5\n",
      "coronary_artery_disease : 3\n",
      "appetite : 2\n",
      "peda_edema : 2\n",
      "aanemia : 2\n",
      "class : 3\n"
     ]
    }
   ],
   "source": [
    "for col in chronic_df:\n",
    "    print(col, \":\",chronic_df[col].nunique())\n",
    "    "
   ]
  },
  {
   "cell_type": "markdown",
   "metadata": {
    "id": "J1Ki5Y5oUuwC"
   },
   "source": [
    "### According to the data description\n",
    "- Cols(pcv, wc and rc) needs to convert back in numerical since it is object right now\n",
    "- Cols(sg, al and su) should be nominal , convert from float to object"
   ]
  },
  {
   "cell_type": "code",
   "execution_count": 9,
   "metadata": {
    "id": "dt6N2cyfygBP"
   },
   "outputs": [],
   "source": [
    "# Categorical cols like specific_gravity, albumin and sugar which is float type right now\n",
    "# converting back to nominal data type categorical\n",
    "\n",
    "chronic_df[['specific_gravity', 'albumin', 'sugar']] = chronic_df[['specific_gravity', 'albumin', 'sugar']].astype('object')\n"
   ]
  },
  {
   "cell_type": "code",
   "execution_count": 10,
   "metadata": {
    "id": "mnWy9ZfC1BLo"
   },
   "outputs": [],
   "source": [
    "# converting necessary columns like packed_cell_volume, white-blood_cell_count and red_blood_cell_count\n",
    "# currently it is in object type and converting back to numerical type\n",
    "chronic_df['packed_cell_volume'] = pd.to_numeric(chronic_df['packed_cell_volume'], errors='coerce')\n",
    "chronic_df['white_blood_cell_count'] = pd.to_numeric(chronic_df['white_blood_cell_count'], errors='coerce')\n",
    "chronic_df['red_blood_cell_count'] = pd.to_numeric(chronic_df['red_blood_cell_count'], errors='coerce')"
   ]
  },
  {
   "cell_type": "code",
   "execution_count": 11,
   "metadata": {},
   "outputs": [
    {
     "name": "stdout",
     "output_type": "stream",
     "text": [
      "<class 'pandas.core.frame.DataFrame'>\n",
      "RangeIndex: 400 entries, 0 to 399\n",
      "Data columns (total 25 columns):\n",
      " #   Column                   Non-Null Count  Dtype  \n",
      "---  ------                   --------------  -----  \n",
      " 0   age                      391 non-null    float64\n",
      " 1   blood_pressure           388 non-null    float64\n",
      " 2   specific_gravity         353 non-null    object \n",
      " 3   albumin                  354 non-null    object \n",
      " 4   sugar                    351 non-null    object \n",
      " 5   red_blood_cells          248 non-null    object \n",
      " 6   pus_cell                 335 non-null    object \n",
      " 7   pus_cell_clumps          396 non-null    object \n",
      " 8   bacteria                 396 non-null    object \n",
      " 9   blood_glucose_random     356 non-null    float64\n",
      " 10  blood_urea               381 non-null    float64\n",
      " 11  serum_creatinine         383 non-null    float64\n",
      " 12  sodium                   313 non-null    float64\n",
      " 13  potassium                312 non-null    float64\n",
      " 14  haemoglobin              348 non-null    float64\n",
      " 15  packed_cell_volume       329 non-null    float64\n",
      " 16  white_blood_cell_count   294 non-null    float64\n",
      " 17  red_blood_cell_count     269 non-null    float64\n",
      " 18  hypertension             398 non-null    object \n",
      " 19  diabetes_mellitus        398 non-null    object \n",
      " 20  coronary_artery_disease  398 non-null    object \n",
      " 21  appetite                 399 non-null    object \n",
      " 22  peda_edema               399 non-null    object \n",
      " 23  aanemia                  399 non-null    object \n",
      " 24  class                    400 non-null    object \n",
      "dtypes: float64(11), object(14)\n",
      "memory usage: 78.2+ KB\n"
     ]
    }
   ],
   "source": [
    "chronic_df.info()"
   ]
  },
  {
   "cell_type": "code",
   "execution_count": 12,
   "metadata": {
    "id": "o0YFzgHIj1sd"
   },
   "outputs": [
    {
     "name": "stdout",
     "output_type": "stream",
     "text": [
      "['specific_gravity', 'albumin', 'sugar', 'red_blood_cells', 'pus_cell', 'pus_cell_clumps', 'bacteria', 'hypertension', 'diabetes_mellitus', 'coronary_artery_disease', 'appetite', 'peda_edema', 'aanemia', 'class']\n",
      "['age', 'blood_pressure', 'blood_glucose_random', 'blood_urea', 'serum_creatinine', 'sodium', 'potassium', 'haemoglobin', 'packed_cell_volume', 'white_blood_cell_count', 'red_blood_cell_count']\n"
     ]
    }
   ],
   "source": [
    "# Extracting categorical and numerical columns\n",
    "\n",
    "\n",
    "cat_cols = [col for col in chronic_df if chronic_df[col].dtype == 'object']\n",
    "\n",
    "num_cols = [col for col in chronic_df if chronic_df[col].dtype == 'float64']\n",
    "print(cat_cols)\n",
    "print(num_cols)"
   ]
  },
  {
   "cell_type": "code",
   "execution_count": 13,
   "metadata": {
    "colab": {
     "base_uri": "https://localhost:8080/"
    },
    "id": "y_1ShLVGlJjn",
    "outputId": "8a8c9a5e-5f96-4335-9c4c-27920b31f06e"
   },
   "outputs": [
    {
     "name": "stdout",
     "output_type": "stream",
     "text": [
      "specific_gravity ,unique values:    [1.02 1.01 1.005 1.015 nan 1.025]\n",
      "albumin ,unique values:    [1.0 4.0 2.0 3.0 0.0 nan 5.0]\n",
      "sugar ,unique values:    [0.0 3.0 4.0 1.0 nan 2.0 5.0]\n",
      "red_blood_cells ,unique values:    [nan 'normal' 'abnormal']\n",
      "pus_cell ,unique values:    ['normal' 'abnormal' nan]\n",
      "pus_cell_clumps ,unique values:    ['notpresent' 'present' nan]\n",
      "bacteria ,unique values:    ['notpresent' 'present' nan]\n",
      "hypertension ,unique values:    ['yes' 'no' nan]\n",
      "diabetes_mellitus ,unique values:    ['yes' 'no' ' yes' '\\tno' '\\tyes' nan]\n",
      "coronary_artery_disease ,unique values:    ['no' 'yes' '\\tno' nan]\n",
      "appetite ,unique values:    ['good' 'poor' nan]\n",
      "peda_edema ,unique values:    ['no' 'yes' nan]\n",
      "aanemia ,unique values:    ['no' 'yes' nan]\n",
      "class ,unique values:    ['ckd' 'ckd\\t' 'notckd']\n"
     ]
    }
   ],
   "source": [
    "# by looping & looking at unique values in categorical columns\n",
    "for i in cat_cols:\n",
    "    print(f'{i} ,unique values:    {chronic_df[i].unique()}')\n"
   ]
  },
  {
   "cell_type": "code",
   "execution_count": 14,
   "metadata": {
    "id": "n483Q9Drld9V"
   },
   "outputs": [],
   "source": [
    "# replace incorrect values like '\\tno', '\\tyes', ' yes', '\\tno', 'ckd\\t', 'notckd'  in categorical cols\n",
    "\n",
    "chronic_df['diabetes_mellitus'].replace({' yes':'yes', '\\tno' : 'no', '\\tyes':'yes'}, inplace=True)\n",
    "chronic_df['coronary_artery_disease'].replace({'\\tno' : 'no', '\\tyes':'yes'}, inplace=True)"
   ]
  },
  {
   "cell_type": "code",
   "execution_count": 15,
   "metadata": {
    "id": "ZtHkmq_jl1bu"
   },
   "outputs": [],
   "source": [
    "# Converting target col class into 0(chronic kidney) and 1(not a chronic kidney)\n",
    "\n",
    "chronic_df['class'].replace({'ckd':'0', 'ckd\\t' : '0', 'notckd':'1'}, inplace=True)\n",
    "\n",
    "\n",
    "# coverting target col into numeric to check correlation\n",
    "\n",
    "chronic_df['class'] = pd.to_numeric(chronic_df['class'], errors='coerce')\n"
   ]
  },
  {
   "cell_type": "code",
   "execution_count": 16,
   "metadata": {},
   "outputs": [
    {
     "data": {
      "text/html": [
       "<div>\n",
       "<style scoped>\n",
       "    .dataframe tbody tr th:only-of-type {\n",
       "        vertical-align: middle;\n",
       "    }\n",
       "\n",
       "    .dataframe tbody tr th {\n",
       "        vertical-align: top;\n",
       "    }\n",
       "\n",
       "    .dataframe thead th {\n",
       "        text-align: right;\n",
       "    }\n",
       "</style>\n",
       "<table border=\"1\" class=\"dataframe\">\n",
       "  <thead>\n",
       "    <tr style=\"text-align: right;\">\n",
       "      <th></th>\n",
       "      <th>age</th>\n",
       "      <th>blood_pressure</th>\n",
       "      <th>specific_gravity</th>\n",
       "      <th>albumin</th>\n",
       "      <th>sugar</th>\n",
       "      <th>red_blood_cells</th>\n",
       "      <th>pus_cell</th>\n",
       "      <th>pus_cell_clumps</th>\n",
       "      <th>bacteria</th>\n",
       "      <th>blood_glucose_random</th>\n",
       "      <th>...</th>\n",
       "      <th>packed_cell_volume</th>\n",
       "      <th>white_blood_cell_count</th>\n",
       "      <th>red_blood_cell_count</th>\n",
       "      <th>hypertension</th>\n",
       "      <th>diabetes_mellitus</th>\n",
       "      <th>coronary_artery_disease</th>\n",
       "      <th>appetite</th>\n",
       "      <th>peda_edema</th>\n",
       "      <th>aanemia</th>\n",
       "      <th>class</th>\n",
       "    </tr>\n",
       "  </thead>\n",
       "  <tbody>\n",
       "    <tr>\n",
       "      <th>0</th>\n",
       "      <td>48.0</td>\n",
       "      <td>80.0</td>\n",
       "      <td>1.02</td>\n",
       "      <td>1.0</td>\n",
       "      <td>0.0</td>\n",
       "      <td>NaN</td>\n",
       "      <td>normal</td>\n",
       "      <td>notpresent</td>\n",
       "      <td>notpresent</td>\n",
       "      <td>121.0</td>\n",
       "      <td>...</td>\n",
       "      <td>44.0</td>\n",
       "      <td>7800.0</td>\n",
       "      <td>5.2</td>\n",
       "      <td>yes</td>\n",
       "      <td>yes</td>\n",
       "      <td>no</td>\n",
       "      <td>good</td>\n",
       "      <td>no</td>\n",
       "      <td>no</td>\n",
       "      <td>0</td>\n",
       "    </tr>\n",
       "    <tr>\n",
       "      <th>1</th>\n",
       "      <td>7.0</td>\n",
       "      <td>50.0</td>\n",
       "      <td>1.02</td>\n",
       "      <td>4.0</td>\n",
       "      <td>0.0</td>\n",
       "      <td>NaN</td>\n",
       "      <td>normal</td>\n",
       "      <td>notpresent</td>\n",
       "      <td>notpresent</td>\n",
       "      <td>NaN</td>\n",
       "      <td>...</td>\n",
       "      <td>38.0</td>\n",
       "      <td>6000.0</td>\n",
       "      <td>NaN</td>\n",
       "      <td>no</td>\n",
       "      <td>no</td>\n",
       "      <td>no</td>\n",
       "      <td>good</td>\n",
       "      <td>no</td>\n",
       "      <td>no</td>\n",
       "      <td>0</td>\n",
       "    </tr>\n",
       "    <tr>\n",
       "      <th>2</th>\n",
       "      <td>62.0</td>\n",
       "      <td>80.0</td>\n",
       "      <td>1.01</td>\n",
       "      <td>2.0</td>\n",
       "      <td>3.0</td>\n",
       "      <td>normal</td>\n",
       "      <td>normal</td>\n",
       "      <td>notpresent</td>\n",
       "      <td>notpresent</td>\n",
       "      <td>423.0</td>\n",
       "      <td>...</td>\n",
       "      <td>31.0</td>\n",
       "      <td>7500.0</td>\n",
       "      <td>NaN</td>\n",
       "      <td>no</td>\n",
       "      <td>yes</td>\n",
       "      <td>no</td>\n",
       "      <td>poor</td>\n",
       "      <td>no</td>\n",
       "      <td>yes</td>\n",
       "      <td>0</td>\n",
       "    </tr>\n",
       "    <tr>\n",
       "      <th>3</th>\n",
       "      <td>48.0</td>\n",
       "      <td>70.0</td>\n",
       "      <td>1.005</td>\n",
       "      <td>4.0</td>\n",
       "      <td>0.0</td>\n",
       "      <td>normal</td>\n",
       "      <td>abnormal</td>\n",
       "      <td>present</td>\n",
       "      <td>notpresent</td>\n",
       "      <td>117.0</td>\n",
       "      <td>...</td>\n",
       "      <td>32.0</td>\n",
       "      <td>6700.0</td>\n",
       "      <td>3.9</td>\n",
       "      <td>yes</td>\n",
       "      <td>no</td>\n",
       "      <td>no</td>\n",
       "      <td>poor</td>\n",
       "      <td>yes</td>\n",
       "      <td>yes</td>\n",
       "      <td>0</td>\n",
       "    </tr>\n",
       "    <tr>\n",
       "      <th>4</th>\n",
       "      <td>51.0</td>\n",
       "      <td>80.0</td>\n",
       "      <td>1.01</td>\n",
       "      <td>2.0</td>\n",
       "      <td>0.0</td>\n",
       "      <td>normal</td>\n",
       "      <td>normal</td>\n",
       "      <td>notpresent</td>\n",
       "      <td>notpresent</td>\n",
       "      <td>106.0</td>\n",
       "      <td>...</td>\n",
       "      <td>35.0</td>\n",
       "      <td>7300.0</td>\n",
       "      <td>4.6</td>\n",
       "      <td>no</td>\n",
       "      <td>no</td>\n",
       "      <td>no</td>\n",
       "      <td>good</td>\n",
       "      <td>no</td>\n",
       "      <td>no</td>\n",
       "      <td>0</td>\n",
       "    </tr>\n",
       "  </tbody>\n",
       "</table>\n",
       "<p>5 rows × 25 columns</p>\n",
       "</div>"
      ],
      "text/plain": [
       "    age  blood_pressure specific_gravity albumin sugar red_blood_cells  \\\n",
       "0  48.0            80.0             1.02     1.0   0.0             NaN   \n",
       "1   7.0            50.0             1.02     4.0   0.0             NaN   \n",
       "2  62.0            80.0             1.01     2.0   3.0          normal   \n",
       "3  48.0            70.0            1.005     4.0   0.0          normal   \n",
       "4  51.0            80.0             1.01     2.0   0.0          normal   \n",
       "\n",
       "   pus_cell pus_cell_clumps    bacteria  blood_glucose_random  ...  \\\n",
       "0    normal      notpresent  notpresent                 121.0  ...   \n",
       "1    normal      notpresent  notpresent                   NaN  ...   \n",
       "2    normal      notpresent  notpresent                 423.0  ...   \n",
       "3  abnormal         present  notpresent                 117.0  ...   \n",
       "4    normal      notpresent  notpresent                 106.0  ...   \n",
       "\n",
       "   packed_cell_volume  white_blood_cell_count  red_blood_cell_count  \\\n",
       "0                44.0                  7800.0                   5.2   \n",
       "1                38.0                  6000.0                   NaN   \n",
       "2                31.0                  7500.0                   NaN   \n",
       "3                32.0                  6700.0                   3.9   \n",
       "4                35.0                  7300.0                   4.6   \n",
       "\n",
       "   hypertension  diabetes_mellitus  coronary_artery_disease  appetite  \\\n",
       "0           yes                yes                       no      good   \n",
       "1            no                 no                       no      good   \n",
       "2            no                yes                       no      poor   \n",
       "3           yes                 no                       no      poor   \n",
       "4            no                 no                       no      good   \n",
       "\n",
       "   peda_edema aanemia class  \n",
       "0          no      no     0  \n",
       "1          no      no     0  \n",
       "2          no     yes     0  \n",
       "3         yes     yes     0  \n",
       "4          no      no     0  \n",
       "\n",
       "[5 rows x 25 columns]"
      ]
     },
     "execution_count": 16,
     "metadata": {},
     "output_type": "execute_result"
    }
   ],
   "source": [
    "chronic_df.head()"
   ]
  },
  {
   "cell_type": "code",
   "execution_count": 17,
   "metadata": {
    "colab": {
     "base_uri": "https://localhost:8080/"
    },
    "id": "u2p0knBUN5pu",
    "outputId": "d0d7ed82-13aa-4274-8d7c-64da3d8723c8"
   },
   "outputs": [
    {
     "data": {
      "text/plain": [
       "['age',\n",
       " 'blood_pressure',\n",
       " 'blood_glucose_random',\n",
       " 'blood_urea',\n",
       " 'serum_creatinine',\n",
       " 'sodium',\n",
       " 'potassium',\n",
       " 'haemoglobin',\n",
       " 'packed_cell_volume',\n",
       " 'white_blood_cell_count',\n",
       " 'red_blood_cell_count']"
      ]
     },
     "execution_count": 17,
     "metadata": {},
     "output_type": "execute_result"
    }
   ],
   "source": [
    "# let's see the cols in numerical col list\n",
    "[col for col in chronic_df if chronic_df[col].dtype=='float64']\n"
   ]
  },
  {
   "cell_type": "markdown",
   "metadata": {
    "id": "NwGsdCvRaNg_"
   },
   "source": [
    "## **`EDA`**"
   ]
  },
  {
   "cell_type": "code",
   "execution_count": 18,
   "metadata": {
    "colab": {
     "base_uri": "https://localhost:8080/",
     "height": 1000
    },
    "id": "dkhRR-PRrfI1",
    "outputId": "a037e911-c090-49fd-dab2-1881763cba65"
   },
   "outputs": [
    {
     "data": {
      "text/plain": [
       "<Figure size 2000x1200 with 0 Axes>"
      ]
     },
     "metadata": {},
     "output_type": "display_data"
    },
    {
     "data": {
      "image/png": "[encoded data removed]",
      "text/plain": [
       "<Figure size 500x500 with 1 Axes>"
      ]
     },
     "metadata": {},
     "output_type": "display_data"
    },
    {
     "data": {
      "image/png": "[encoded data removed]",
      "text/plain": [
       "<Figure size 500x500 with 1 Axes>"
      ]
     },
     "metadata": {},
     "output_type": "display_data"
    },
    {
     "data": {
      "image/png": "[encoded data removed]",
      "text/plain": [
       "<Figure size 500x500 with 1 Axes>"
      ]
     },
     "metadata": {},
     "output_type": "display_data"
    },
    {
     "data": {
      "image/png": "[encoded data removed]",
      "text/plain": [
       "<Figure size 500x500 with 1 Axes>"
      ]
     },
     "metadata": {},
     "output_type": "display_data"
    },
    {
     "data": {
      "image/png": "[encoded data removed]",
      "text/plain": [
       "<Figure size 500x500 with 1 Axes>"
      ]
     },
     "metadata": {},
     "output_type": "display_data"
    },
    {
     "data": {
      "image/png": "[encoded data removed]",
      "text/plain": [
       "<Figure size 500x500 with 1 Axes>"
      ]
     },
     "metadata": {},
     "output_type": "display_data"
    },
    {
     "data": {
      "image/png": "[encoded data removed]",
      "text/plain": [
       "<Figure size 500x500 with 1 Axes>"
      ]
     },
     "metadata": {},
     "output_type": "display_data"
    },
    {
     "data": {
      "image/png": "[encoded data removed]",
      "text/plain": [
       "<Figure size 500x500 with 1 Axes>"
      ]
     },
     "metadata": {},
     "output_type": "display_data"
    },
    {
     "data": {
      "image/png": "[encoded data removed]",
      "text/plain": [
       "<Figure size 500x500 with 1 Axes>"
      ]
     },
     "metadata": {},
     "output_type": "display_data"
    },
    {
     "data": {
      "image/png": "[encoded data removed]",
      "text/plain": [
       "<Figure size 500x500 with 1 Axes>"
      ]
     },
     "metadata": {},
     "output_type": "display_data"
    },
    {
     "data": {
      "image/png": "[encoded data removed]",
      "text/plain": [
       "<Figure size 500x500 with 1 Axes>"
      ]
     },
     "metadata": {},
     "output_type": "display_data"
    }
   ],
   "source": [
    "# checking numerical features distribution\n",
    "\n",
    "\n",
    "plt.figure(figsize=(20,12))\n",
    "\n",
    "# looping over num cols and checking its distribution\n",
    "for col in num_cols:\n",
    "    sns.displot(chronic_df[col], kind='kde')\n",
    "\n",
    "\n"
   ]
  },
  {
   "cell_type": "code",
   "execution_count": 19,
   "metadata": {
    "colab": {
     "base_uri": "https://localhost:8080/"
    },
    "id": "Sy24epBysynk",
    "outputId": "b939b3cc-d0c8-4aca-caac-8fe39ff5e1ab"
   },
   "outputs": [
    {
     "data": {
      "text/plain": [
       "['specific_gravity',\n",
       " 'albumin',\n",
       " 'sugar',\n",
       " 'red_blood_cells',\n",
       " 'pus_cell',\n",
       " 'pus_cell_clumps',\n",
       " 'bacteria',\n",
       " 'hypertension',\n",
       " 'diabetes_mellitus',\n",
       " 'coronary_artery_disease',\n",
       " 'appetite',\n",
       " 'peda_edema',\n",
       " 'aanemia',\n",
       " 'class']"
      ]
     },
     "execution_count": 19,
     "metadata": {},
     "output_type": "execute_result"
    }
   ],
   "source": [
    "# let's see the cols in cat col list\n",
    "\n",
    "\n",
    "cat_cols"
   ]
  },
  {
   "cell_type": "code",
   "execution_count": 20,
   "metadata": {
    "colab": {
     "base_uri": "https://localhost:8080/",
     "height": 566
    },
    "id": "D9hE8grgp7a4",
    "outputId": "e93c8110-20f9-4892-be47-36f6e25d5ee7"
   },
   "outputs": [
    {
     "data": {
      "image/png": "[encoded data removed]",
      "text/plain": [
       "<Figure size 1600x800 with 15 Axes>"
      ]
     },
     "metadata": {},
     "output_type": "display_data"
    }
   ],
   "source": [
    "# checking cat features distribution\n",
    "\n",
    "# create the figure and axes\n",
    "\n",
    "fig, axes = plt.subplots(3, 5, figsize=(16,8))\n",
    "\n",
    "\n",
    "axes = axes.ravel()  # flattening the array makes indexing easier\n",
    "\n",
    "# loop over cat cols and plot countplot\n",
    "for col, ax in zip(cat_cols, axes):\n",
    "    sns.countplot(data = chronic_df, x=col, ax=ax)\n",
    "    plt.xlabel(col)\n",
    "    plt.tight_layout()\n",
    "\n"
   ]
  },
  {
   "cell_type": "code",
   "execution_count": 21,
   "metadata": {
    "colab": {
     "base_uri": "https://localhost:8080/",
     "height": 592
    },
    "id": "d3G8ekdXuTEe",
    "outputId": "1562938e-2c07-4856-a243-a8a8f4392cb9"
   },
   "outputs": [
    {
     "name": "stderr",
     "output_type": "stream",
     "text": [
      "C:\\Users\\Siva Reddy\\AppData\\Local\\Temp\\ipykernel_8224\\2703782407.py:5: FutureWarning: The default value of numeric_only in DataFrame.corr is deprecated. In a future version, it will default to False. Select only valid columns or specify the value of numeric_only to silence this warning.\n",
      "  corr = chronic_df.corr()\n"
     ]
    },
    {
     "data": {
      "image/png": "[encoded data removed]",
      "text/plain": [
       "<Figure size 1200x700 with 2 Axes>"
      ]
     },
     "metadata": {},
     "output_type": "display_data"
    }
   ],
   "source": [
    "# correlated heatmap of data\n",
    "\n",
    "plt.figure(figsize = (12, 7))\n",
    "\n",
    "corr = chronic_df.corr()\n",
    "heatmap = sns.heatmap(corr, annot=True, linecolor='white', linewidths=1)\n",
    "\n",
    "plt.savefig('chd.png', dpi=400)\n"
   ]
  },
  {
   "cell_type": "code",
   "execution_count": 22,
   "metadata": {
    "colab": {
     "base_uri": "https://localhost:8080/"
    },
    "id": "NbxUMM1fGKCm",
    "outputId": "4bbd13bc-cea7-4df0-f5ba-93baaab4b8b7"
   },
   "outputs": [
    {
     "data": {
      "text/plain": [
       "age                          9\n",
       "blood_pressure              12\n",
       "specific_gravity            47\n",
       "albumin                     46\n",
       "sugar                       49\n",
       "red_blood_cells            152\n",
       "pus_cell                    65\n",
       "pus_cell_clumps              4\n",
       "bacteria                     4\n",
       "blood_glucose_random        44\n",
       "blood_urea                  19\n",
       "serum_creatinine            17\n",
       "sodium                      87\n",
       "potassium                   88\n",
       "haemoglobin                 52\n",
       "packed_cell_volume          71\n",
       "white_blood_cell_count     106\n",
       "red_blood_cell_count       131\n",
       "hypertension                 2\n",
       "diabetes_mellitus            2\n",
       "coronary_artery_disease      2\n",
       "appetite                     1\n",
       "peda_edema                   1\n",
       "aanemia                      1\n",
       "class                        0\n",
       "dtype: int64"
      ]
     },
     "execution_count": 22,
     "metadata": {},
     "output_type": "execute_result"
    }
   ],
   "source": [
    "# let's check count of null values in whole df\n",
    "\n",
    "chronic_df.isnull().sum()\n",
    "\n"
   ]
  },
  {
   "cell_type": "code",
   "execution_count": 23,
   "metadata": {
    "colab": {
     "base_uri": "https://localhost:8080/"
    },
    "id": "ufP3qSQ4GKE-",
    "outputId": "ad3868d0-4f3a-425a-8e1c-3c7613039b9b"
   },
   "outputs": [
    {
     "data": {
      "text/plain": [
       "age                         9\n",
       "blood_pressure             12\n",
       "blood_glucose_random       44\n",
       "blood_urea                 19\n",
       "serum_creatinine           17\n",
       "sodium                     87\n",
       "potassium                  88\n",
       "haemoglobin                52\n",
       "packed_cell_volume         71\n",
       "white_blood_cell_count    106\n",
       "red_blood_cell_count      131\n",
       "dtype: int64"
      ]
     },
     "execution_count": 23,
     "metadata": {},
     "output_type": "execute_result"
    }
   ],
   "source": [
    "# let's check count of null values in num_cols\n",
    "\n",
    "chronic_df[num_cols].isnull().sum()\n"
   ]
  },
  {
   "cell_type": "code",
   "execution_count": 24,
   "metadata": {
    "colab": {
     "base_uri": "https://localhost:8080/"
    },
    "id": "u3AGTIrbGKHr",
    "outputId": "34804d2a-c833-4efd-850c-39541460fd68"
   },
   "outputs": [
    {
     "data": {
      "text/plain": [
       "red_blood_cells            152\n",
       "pus_cell                    65\n",
       "sugar                       49\n",
       "specific_gravity            47\n",
       "albumin                     46\n",
       "pus_cell_clumps              4\n",
       "bacteria                     4\n",
       "hypertension                 2\n",
       "diabetes_mellitus            2\n",
       "coronary_artery_disease      2\n",
       "appetite                     1\n",
       "peda_edema                   1\n",
       "aanemia                      1\n",
       "class                        0\n",
       "dtype: int64"
      ]
     },
     "execution_count": 24,
     "metadata": {},
     "output_type": "execute_result"
    }
   ],
   "source": [
    "# let's check count of null values in cat cols\n",
    "\n",
    "chronic_df[cat_cols].isnull().sum().sort_values(ascending=False)\n",
    "\n"
   ]
  },
  {
   "cell_type": "markdown",
   "metadata": {
    "id": "DCFx44Z4aUKm"
   },
   "source": [
    "## **`Missing Value Treatment`**"
   ]
  },
  {
   "cell_type": "code",
   "execution_count": 25,
   "metadata": {
    "id": "buEJMY-zI3Gd"
   },
   "outputs": [],
   "source": [
    "# filling null values, we will use two methods, random sampling for higher null values and \n",
    "# mean/mode sampling for lower null values\n",
    "\n",
    "# creating func for imputing random values\n",
    "def random_value_imputation(feature):\n",
    "    random_sample = chronic_df[feature].dropna().sample(chronic_df[feature].isna().sum())\n",
    "    random_sample.index = chronic_df[chronic_df[feature].isnull()].index\n",
    "    chronic_df.loc[chronic_df[feature].isnull(), feature] = random_sample\n",
    "    \n",
    "# creating func for imputing most common value(modal value)\n",
    "def impute_mode(feature):\n",
    "    mode = chronic_df[feature].mode()[0]\n",
    "    chronic_df[feature] = chronic_df[feature].fillna(mode)"
   ]
  },
  {
   "cell_type": "code",
   "execution_count": 26,
   "metadata": {
    "id": "Z5kqNycFHZtA"
   },
   "outputs": [],
   "source": [
    "# filling num_cols null values using random sampling method\n",
    "\n",
    "for col in num_cols:\n",
    "    random_value_imputation(col)\n"
   ]
  },
  {
   "cell_type": "code",
   "execution_count": 27,
   "metadata": {
    "colab": {
     "base_uri": "https://localhost:8080/"
    },
    "id": "Z04iW9wbOdnP",
    "outputId": "004c95f2-b548-426b-d0bb-e323050e5737"
   },
   "outputs": [
    {
     "data": {
      "text/plain": [
       "age                       0\n",
       "blood_pressure            0\n",
       "blood_glucose_random      0\n",
       "blood_urea                0\n",
       "serum_creatinine          0\n",
       "sodium                    0\n",
       "potassium                 0\n",
       "haemoglobin               0\n",
       "packed_cell_volume        0\n",
       "white_blood_cell_count    0\n",
       "red_blood_cell_count      0\n",
       "dtype: int64"
      ]
     },
     "execution_count": 27,
     "metadata": {},
     "output_type": "execute_result"
    }
   ],
   "source": [
    "# let's check count of null values in num_cols again\n",
    "\n",
    "chronic_df[num_cols].isnull().sum()\n"
   ]
  },
  {
   "cell_type": "code",
   "execution_count": 28,
   "metadata": {
    "id": "tUcLLYzHO84w"
   },
   "outputs": [],
   "source": [
    "# filling \"red_blood_cells\" and \"pus_cell\" using random sampling method and rest of cat_cols using mode imputation\n",
    "\n",
    "random_value_imputation('red_blood_cells')\n",
    "random_value_imputation('pus_cell')\n",
    "\n",
    "\n",
    "for col in cat_cols:\n",
    "    impute_mode(col)\n",
    "    "
   ]
  },
  {
   "cell_type": "code",
   "execution_count": 29,
   "metadata": {
    "colab": {
     "base_uri": "https://localhost:8080/"
    },
    "id": "d8yhGGtwPCQg",
    "outputId": "a16c02e9-1e17-43bf-e52b-51d2d2492079"
   },
   "outputs": [
    {
     "data": {
      "text/plain": [
       "specific_gravity           0\n",
       "albumin                    0\n",
       "sugar                      0\n",
       "red_blood_cells            0\n",
       "pus_cell                   0\n",
       "pus_cell_clumps            0\n",
       "bacteria                   0\n",
       "hypertension               0\n",
       "diabetes_mellitus          0\n",
       "coronary_artery_disease    0\n",
       "appetite                   0\n",
       "peda_edema                 0\n",
       "aanemia                    0\n",
       "class                      0\n",
       "dtype: int64"
      ]
     },
     "execution_count": 29,
     "metadata": {},
     "output_type": "execute_result"
    }
   ],
   "source": [
    "# let's check count of null values in cat_cols again\n",
    "\n",
    "chronic_df[cat_cols].isnull().sum()"
   ]
  },
  {
   "cell_type": "code",
   "execution_count": 30,
   "metadata": {
    "colab": {
     "base_uri": "https://localhost:8080/"
    },
    "id": "D5cabWuhPQgL",
    "outputId": "5fe9bba2-2d30-4189-972c-9725498df476",
    "scrolled": true
   },
   "outputs": [
    {
     "name": "stdout",
     "output_type": "stream",
     "text": [
      "specific_gravity : [1.02  1.01  1.005 1.015 1.025]\n",
      "albumin : [1. 4. 2. 3. 0. 5.]\n",
      "sugar : [0. 3. 4. 1. 2. 5.]\n",
      "red_blood_cells : ['normal' 'abnormal']\n",
      "pus_cell : ['normal' 'abnormal']\n",
      "pus_cell_clumps : ['notpresent' 'present']\n",
      "bacteria : ['notpresent' 'present']\n",
      "hypertension : ['yes' 'no']\n",
      "diabetes_mellitus : ['yes' 'no']\n",
      "coronary_artery_disease : ['no' 'yes']\n",
      "appetite : ['good' 'poor']\n",
      "peda_edema : ['no' 'yes']\n",
      "aanemia : ['no' 'yes']\n",
      "class : [0 1]\n"
     ]
    }
   ],
   "source": [
    "# check unique values in each cat col by looping over cat cols\n",
    "\n",
    "for col in cat_cols:\n",
    "    print(col, ':' ,chronic_df[col].unique())\n",
    "    #print(chronic_df[col].value_counts())\n",
    "\n"
   ]
  },
  {
   "cell_type": "markdown",
   "metadata": {},
   "source": [
    "# Label Encoding"
   ]
  },
  {
   "cell_type": "code",
   "execution_count": 31,
   "metadata": {
    "id": "5JFcdCK_O0F9"
   },
   "outputs": [],
   "source": [
    "# using labelencoder and applying on cat cols\n",
    "from sklearn.preprocessing import LabelEncoder\n",
    "\n",
    "le = LabelEncoder()\n",
    "\n",
    "for col in cat_cols[3:]:\n",
    "    chronic_df[col] = le.fit_transform(chronic_df[col])"
   ]
  },
  {
   "cell_type": "code",
   "execution_count": 32,
   "metadata": {},
   "outputs": [
    {
     "name": "stdout",
     "output_type": "stream",
     "text": [
      "<class 'pandas.core.series.Series'>\n",
      "float64\n"
     ]
    }
   ],
   "source": [
    "\n",
    "print(type(chronic_df['specific_gravity']))\n",
    "print(chronic_df['specific_gravity'].dtype)"
   ]
  },
  {
   "cell_type": "code",
   "execution_count": 33,
   "metadata": {
    "colab": {
     "base_uri": "https://localhost:8080/",
     "height": 299
    },
    "id": "geuRlFO8QGhw",
    "outputId": "4a6e08ed-b3fb-4a6b-faa7-d980ed239b8b"
   },
   "outputs": [
    {
     "name": "stdout",
     "output_type": "stream",
     "text": [
      "specific_gravity : [1.02  1.01  1.005 1.015 1.025]\n",
      "albumin : [1. 4. 2. 3. 0. 5.]\n",
      "sugar : [0. 3. 4. 1. 2. 5.]\n",
      "red_blood_cells : [1 0]\n",
      "pus_cell : [1 0]\n",
      "pus_cell_clumps : [0 1]\n",
      "bacteria : [0 1]\n",
      "hypertension : [1 0]\n",
      "diabetes_mellitus : [1 0]\n",
      "coronary_artery_disease : [0 1]\n",
      "appetite : [0 1]\n",
      "peda_edema : [0 1]\n",
      "aanemia : [0 1]\n",
      "class : [0 1]\n"
     ]
    }
   ],
   "source": [
    "# check chronic df after transforming cat cols\n",
    "for col in cat_cols:\n",
    "    print(col, ':' ,chronic_df[col].unique())\n",
    "\n"
   ]
  },
  {
   "cell_type": "code",
   "execution_count": 34,
   "metadata": {},
   "outputs": [
    {
     "name": "stdout",
     "output_type": "stream",
     "text": [
      "<class 'pandas.core.frame.DataFrame'>\n",
      "RangeIndex: 400 entries, 0 to 399\n",
      "Data columns (total 25 columns):\n",
      " #   Column                   Non-Null Count  Dtype  \n",
      "---  ------                   --------------  -----  \n",
      " 0   age                      400 non-null    float64\n",
      " 1   blood_pressure           400 non-null    float64\n",
      " 2   specific_gravity         400 non-null    float64\n",
      " 3   albumin                  400 non-null    float64\n",
      " 4   sugar                    400 non-null    float64\n",
      " 5   red_blood_cells          400 non-null    int32  \n",
      " 6   pus_cell                 400 non-null    int32  \n",
      " 7   pus_cell_clumps          400 non-null    int32  \n",
      " 8   bacteria                 400 non-null    int32  \n",
      " 9   blood_glucose_random     400 non-null    float64\n",
      " 10  blood_urea               400 non-null    float64\n",
      " 11  serum_creatinine         400 non-null    float64\n",
      " 12  sodium                   400 non-null    float64\n",
      " 13  potassium                400 non-null    float64\n",
      " 14  haemoglobin              400 non-null    float64\n",
      " 15  packed_cell_volume       400 non-null    float64\n",
      " 16  white_blood_cell_count   400 non-null    float64\n",
      " 17  red_blood_cell_count     400 non-null    float64\n",
      " 18  hypertension             400 non-null    int32  \n",
      " 19  diabetes_mellitus        400 non-null    int32  \n",
      " 20  coronary_artery_disease  400 non-null    int32  \n",
      " 21  appetite                 400 non-null    int32  \n",
      " 22  peda_edema               400 non-null    int32  \n",
      " 23  aanemia                  400 non-null    int32  \n",
      " 24  class                    400 non-null    int64  \n",
      "dtypes: float64(14), int32(10), int64(1)\n",
      "memory usage: 62.6 KB\n"
     ]
    }
   ],
   "source": [
    "chronic_df.info()"
   ]
  },
  {
   "cell_type": "code",
   "execution_count": 35,
   "metadata": {
    "id": "YnDl9QJT12I_"
   },
   "outputs": [],
   "source": [
    "# Split data into features and target variables (X and y)\n",
    "X = chronic_df.drop('class', axis=1)\n",
    "y = chronic_df['class']\n"
   ]
  },
  {
   "cell_type": "code",
   "execution_count": 36,
   "metadata": {
    "id": "08XQNI2QaKul"
   },
   "outputs": [
    {
     "name": "stdout",
     "output_type": "stream",
     "text": [
      "x_train : (320, 24), x_test : (80, 24), y_train : (320,), y_test: (80,)\n"
     ]
    }
   ],
   "source": [
    "# splitting data intp training and test set, so import train_test_split\n",
    "\n",
    "from sklearn.model_selection import train_test_split\n",
    "\n",
    "X_train, X_test, y_train, y_test = train_test_split(X, y, test_size=0.2, random_state=1)\n",
    "\n",
    "print(f'x_train : {X_train.shape}, x_test : {X_test.shape}, y_train : {y_train.shape}, y_test: {y_test.shape}')\n",
    "\n"
   ]
  },
  {
   "cell_type": "markdown",
   "metadata": {
    "id": "bE2YlHFcaiJF"
   },
   "source": [
    "## **`Model Building`**"
   ]
  },
  {
   "cell_type": "code",
   "execution_count": 37,
   "metadata": {
    "colab": {
     "base_uri": "https://localhost:8080/"
    },
    "id": "nioveCSWaa3g",
    "outputId": "8ecf36f0-4ba6-45dd-8d09-aeda89884c56"
   },
   "outputs": [
    {
     "name": "stdout",
     "output_type": "stream",
     "text": [
      "Train accuracy score of knn_model is 0.796875\n",
      "Test accuracy score of knn_model is 0.65\n",
      "confusion_matrix score of knn_model is \n",
      "[[32 15]\n",
      " [13 20]]\n",
      "classification_report score of knn_model is \n",
      "              precision    recall  f1-score   support\n",
      "\n",
      "           0       0.71      0.68      0.70        47\n",
      "           1       0.57      0.61      0.59        33\n",
      "\n",
      "    accuracy                           0.65        80\n",
      "   macro avg       0.64      0.64      0.64        80\n",
      "weighted avg       0.65      0.65      0.65        80\n",
      "\n"
     ]
    }
   ],
   "source": [
    "# import KNeighborsClassifier, accuracy_score, confusion_matrix, classification_report\n",
    "from sklearn.neighbors import KNeighborsClassifier\n",
    "from sklearn.metrics import accuracy_score, confusion_matrix, classification_report\n",
    "\n",
    "knn_model = KNeighborsClassifier()\n",
    "\n",
    "knn_model.fit(X_train, y_train)\n",
    "\n",
    "# accuracy score, confusion matrix and classification report of knn\n",
    "\n",
    "knn_model_acc = accuracy_score(y_test, knn_model.predict(X_test))\n",
    "\n",
    "print(f'Train accuracy score of knn_model is {accuracy_score(y_train, knn_model.predict(X_train))}')\n",
    "\n",
    "print(f'Test accuracy score of knn_model is {knn_model_acc}')\n",
    "\n",
    "print(f'confusion_matrix score of knn_model is \\n{confusion_matrix(y_test, knn_model.predict(X_test))}')\n",
    "\n",
    "print(f'classification_report score of knn_model is \\n{classification_report(y_test, knn_model.predict(X_test))}')\n"
   ]
  },
  {
   "cell_type": "code",
   "execution_count": 38,
   "metadata": {
    "colab": {
     "base_uri": "https://localhost:8080/"
    },
    "id": "a1JZEu8Ia0Bx",
    "outputId": "02554980-f79a-4e9b-929a-efb2033942b1"
   },
   "outputs": [
    {
     "name": "stdout",
     "output_type": "stream",
     "text": [
      "Train accuracy score of dtc_model is 1.0\n",
      "Test accuracy score of dtc_model is 0.9875\n",
      "confusion_matrix score of dtc_model is \n",
      "[[47  0]\n",
      " [ 1 32]]\n",
      "classification_report score of dtc_model is \n",
      "              precision    recall  f1-score   support\n",
      "\n",
      "           0       0.98      1.00      0.99        47\n",
      "           1       1.00      0.97      0.98        33\n",
      "\n",
      "    accuracy                           0.99        80\n",
      "   macro avg       0.99      0.98      0.99        80\n",
      "weighted avg       0.99      0.99      0.99        80\n",
      "\n"
     ]
    }
   ],
   "source": [
    "# import DecisionTreeClassifer\n",
    "from sklearn.tree import DecisionTreeClassifier\n",
    "\n",
    "dtc_model = DecisionTreeClassifier()\n",
    "\n",
    "dtc_model.fit(X_train, y_train)\n",
    "\n",
    "y_pred = dtc_model.predict(X_test)\n",
    "# accuracy score, confusion matrix and classification report of decision tree\n",
    "\n",
    "print(f'Train accuracy score of dtc_model is {accuracy_score(y_train, dtc_model.predict(X_train))}')\n",
    "\n",
    "print(f'Test accuracy score of dtc_model is {accuracy_score(y_test, y_pred)}')\n",
    "\n",
    "print(f'confusion_matrix score of dtc_model is \\n{confusion_matrix(y_test, y_pred)}')\n",
    "\n",
    "print(f'classification_report score of dtc_model is \\n{classification_report(y_test, y_pred)}')\n"
   ]
  },
  {
   "cell_type": "code",
   "execution_count": 39,
   "metadata": {
    "colab": {
     "base_uri": "https://localhost:8080/"
    },
    "id": "-PgtfvfabCls",
    "outputId": "02a3e30c-ab48-427b-d052-9a5d0b307657"
   },
   "outputs": [
    {
     "name": "stdout",
     "output_type": "stream",
     "text": [
      "Fitting 5 folds for each of 1200 candidates, totalling 6000 fits\n"
     ]
    },
    {
     "name": "stderr",
     "output_type": "stream",
     "text": [
      "C:\\Users\\Siva Reddy\\anaconda3\\lib\\site-packages\\sklearn\\model_selection\\_validation.py:378: FitFailedWarning: \n",
      "1200 fits failed out of a total of 6000.\n",
      "The score on these train-test partitions for these parameters will be set to nan.\n",
      "If these failures are not expected, you can try to debug them by setting error_score='raise'.\n",
      "\n",
      "Below are more details about the failures:\n",
      "--------------------------------------------------------------------------------\n",
      "1200 fits failed with the following error:\n",
      "Traceback (most recent call last):\n",
      "  File \"C:\\Users\\Siva Reddy\\anaconda3\\lib\\site-packages\\sklearn\\model_selection\\_validation.py\", line 686, in _fit_and_score\n",
      "    estimator.fit(X_train, y_train, **fit_params)\n",
      "  File \"C:\\Users\\Siva Reddy\\anaconda3\\lib\\site-packages\\sklearn\\tree\\_classes.py\", line 889, in fit\n",
      "    super().fit(\n",
      "  File \"C:\\Users\\Siva Reddy\\anaconda3\\lib\\site-packages\\sklearn\\tree\\_classes.py\", line 177, in fit\n",
      "    self._validate_params()\n",
      "  File \"C:\\Users\\Siva Reddy\\anaconda3\\lib\\site-packages\\sklearn\\base.py\", line 600, in _validate_params\n",
      "    validate_parameter_constraints(\n",
      "  File \"C:\\Users\\Siva Reddy\\anaconda3\\lib\\site-packages\\sklearn\\utils\\_param_validation.py\", line 97, in validate_parameter_constraints\n",
      "    raise InvalidParameterError(\n",
      "sklearn.utils._param_validation.InvalidParameterError: The 'min_samples_split' parameter of DecisionTreeClassifier must be an int in the range [2, inf) or a float in the range (0.0, 1.0]. Got 1 instead.\n",
      "\n",
      "  warnings.warn(some_fits_failed_message, FitFailedWarning)\n",
      "C:\\Users\\Siva Reddy\\anaconda3\\lib\\site-packages\\sklearn\\model_selection\\_search.py:952: UserWarning: One or more of the test scores are non-finite: [     nan      nan 0.940625 ... 0.95     0.953125 0.934375]\n",
      "  warnings.warn(\n",
      "C:\\Users\\Siva Reddy\\anaconda3\\lib\\site-packages\\sklearn\\tree\\_classes.py:269: FutureWarning: `max_features='auto'` has been deprecated in 1.1 and will be removed in 1.3. To keep the past behaviour, explicitly set `max_features='sqrt'`.\n",
      "  warnings.warn(\n"
     ]
    },
    {
     "data": {
      "text/html": [
       "<style>#sk-container-id-1 {color: black;background-color: white;}#sk-container-id-1 pre{padding: 0;}#sk-container-id-1 div.sk-toggleable {background-color: white;}#sk-container-id-1 label.sk-toggleable__label {cursor: pointer;display: block;width: 100%;margin-bottom: 0;padding: 0.3em;box-sizing: border-box;text-align: center;}#sk-container-id-1 label.sk-toggleable__label-arrow:before {content: \"▸\";float: left;margin-right: 0.25em;color: #696969;}#sk-container-id-1 label.sk-toggleable__label-arrow:hover:before {color: black;}#sk-container-id-1 div.sk-estimator:hover label.sk-toggleable__label-arrow:before {color: black;}#sk-container-id-1 div.sk-toggleable__content {max-height: 0;max-width: 0;overflow: hidden;text-align: left;background-color: #f0f8ff;}#sk-container-id-1 div.sk-toggleable__content pre {margin: 0.2em;color: black;border-radius: 0.25em;background-color: #f0f8ff;}#sk-container-id-1 input.sk-toggleable__control:checked~div.sk-toggleable__content {max-height: 200px;max-width: 100%;overflow: auto;}#sk-container-id-1 input.sk-toggleable__control:checked~label.sk-toggleable__label-arrow:before {content: \"▾\";}#sk-container-id-1 div.sk-estimator input.sk-toggleable__control:checked~label.sk-toggleable__label {background-color: #d4ebff;}#sk-container-id-1 div.sk-label input.sk-toggleable__control:checked~label.sk-toggleable__label {background-color: #d4ebff;}#sk-container-id-1 input.sk-hidden--visually {border: 0;clip: rect(1px 1px 1px 1px);clip: rect(1px, 1px, 1px, 1px);height: 1px;margin: -1px;overflow: hidden;padding: 0;position: absolute;width: 1px;}#sk-container-id-1 div.sk-estimator {font-family: monospace;background-color: #f0f8ff;border: 1px dotted black;border-radius: 0.25em;box-sizing: border-box;margin-bottom: 0.5em;}#sk-container-id-1 div.sk-estimator:hover {background-color: #d4ebff;}#sk-container-id-1 div.sk-parallel-item::after {content: \"\";width: 100%;border-bottom: 1px solid gray;flex-grow: 1;}#sk-container-id-1 div.sk-label:hover label.sk-toggleable__label {background-color: #d4ebff;}#sk-container-id-1 div.sk-serial::before {content: \"\";position: absolute;border-left: 1px solid gray;box-sizing: border-box;top: 0;bottom: 0;left: 50%;z-index: 0;}#sk-container-id-1 div.sk-serial {display: flex;flex-direction: column;align-items: center;background-color: white;padding-right: 0.2em;padding-left: 0.2em;position: relative;}#sk-container-id-1 div.sk-item {position: relative;z-index: 1;}#sk-container-id-1 div.sk-parallel {display: flex;align-items: stretch;justify-content: center;background-color: white;position: relative;}#sk-container-id-1 div.sk-item::before, #sk-container-id-1 div.sk-parallel-item::before {content: \"\";position: absolute;border-left: 1px solid gray;box-sizing: border-box;top: 0;bottom: 0;left: 50%;z-index: -1;}#sk-container-id-1 div.sk-parallel-item {display: flex;flex-direction: column;z-index: 1;position: relative;background-color: white;}#sk-container-id-1 div.sk-parallel-item:first-child::after {align-self: flex-end;width: 50%;}#sk-container-id-1 div.sk-parallel-item:last-child::after {align-self: flex-start;width: 50%;}#sk-container-id-1 div.sk-parallel-item:only-child::after {width: 0;}#sk-container-id-1 div.sk-dashed-wrapped {border: 1px dashed gray;margin: 0 0.4em 0.5em 0.4em;box-sizing: border-box;padding-bottom: 0.4em;background-color: white;}#sk-container-id-1 div.sk-label label {font-family: monospace;font-weight: bold;display: inline-block;line-height: 1.2em;}#sk-container-id-1 div.sk-label-container {text-align: center;}#sk-container-id-1 div.sk-container {/* jupyter's `normalize.less` sets `[hidden] { display: none; }` but bootstrap.min.css set `[hidden] { display: none !important; }` so we also need the `!important` here to be able to override the default hidden behavior on the sphinx rendered scikit-learn.org. See: https://github.com/scikit-learn/scikit-learn/issues/21755 */display: inline-block !important;position: relative;}#sk-container-id-1 div.sk-text-repr-fallback {display: none;}</style><div id=\"sk-container-id-1\" class=\"sk-top-container\"><div class=\"sk-text-repr-fallback\"><pre>GridSearchCV(cv=5, estimator=DecisionTreeClassifier(), n_jobs=-1,\n",
       "             param_grid={&#x27;criterion&#x27;: [&#x27;gini&#x27;, &#x27;entropy&#x27;],\n",
       "                         &#x27;max_depth&#x27;: [3, 5, 7, 10],\n",
       "                         &#x27;max_features&#x27;: [&#x27;auto&#x27;, &#x27;sqrt&#x27;, &#x27;log2&#x27;],\n",
       "                         &#x27;min_samples_leaf&#x27;: [1, 2, 3, 5, 7],\n",
       "                         &#x27;min_samples_split&#x27;: [1, 2, 3, 5, 7],\n",
       "                         &#x27;splitter&#x27;: [&#x27;best&#x27;, &#x27;random&#x27;]},\n",
       "             verbose=1)</pre><b>In a Jupyter environment, please rerun this cell to show the HTML representation or trust the notebook. <br />On GitHub, the HTML representation is unable to render, please try loading this page with nbviewer.org.</b></div><div class=\"sk-container\" hidden><div class=\"sk-item sk-dashed-wrapped\"><div class=\"sk-label-container\"><div class=\"sk-label sk-toggleable\"><input class=\"sk-toggleable__control sk-hidden--visually\" id=\"sk-estimator-id-1\" type=\"checkbox\" ><label for=\"sk-estimator-id-1\" class=\"sk-toggleable__label sk-toggleable__label-arrow\">GridSearchCV</label><div class=\"sk-toggleable__content\"><pre>GridSearchCV(cv=5, estimator=DecisionTreeClassifier(), n_jobs=-1,\n",
       "             param_grid={&#x27;criterion&#x27;: [&#x27;gini&#x27;, &#x27;entropy&#x27;],\n",
       "                         &#x27;max_depth&#x27;: [3, 5, 7, 10],\n",
       "                         &#x27;max_features&#x27;: [&#x27;auto&#x27;, &#x27;sqrt&#x27;, &#x27;log2&#x27;],\n",
       "                         &#x27;min_samples_leaf&#x27;: [1, 2, 3, 5, 7],\n",
       "                         &#x27;min_samples_split&#x27;: [1, 2, 3, 5, 7],\n",
       "                         &#x27;splitter&#x27;: [&#x27;best&#x27;, &#x27;random&#x27;]},\n",
       "             verbose=1)</pre></div></div></div><div class=\"sk-parallel\"><div class=\"sk-parallel-item\"><div class=\"sk-item\"><div class=\"sk-label-container\"><div class=\"sk-label sk-toggleable\"><input class=\"sk-toggleable__control sk-hidden--visually\" id=\"sk-estimator-id-2\" type=\"checkbox\" ><label for=\"sk-estimator-id-2\" class=\"sk-toggleable__label sk-toggleable__label-arrow\">estimator: DecisionTreeClassifier</label><div class=\"sk-toggleable__content\"><pre>DecisionTreeClassifier()</pre></div></div></div><div class=\"sk-serial\"><div class=\"sk-item\"><div class=\"sk-estimator sk-toggleable\"><input class=\"sk-toggleable__control sk-hidden--visually\" id=\"sk-estimator-id-3\" type=\"checkbox\" ><label for=\"sk-estimator-id-3\" class=\"sk-toggleable__label sk-toggleable__label-arrow\">DecisionTreeClassifier</label><div class=\"sk-toggleable__content\"><pre>DecisionTreeClassifier()</pre></div></div></div></div></div></div></div></div></div></div>"
      ],
      "text/plain": [
       "GridSearchCV(cv=5, estimator=DecisionTreeClassifier(), n_jobs=-1,\n",
       "             param_grid={'criterion': ['gini', 'entropy'],\n",
       "                         'max_depth': [3, 5, 7, 10],\n",
       "                         'max_features': ['auto', 'sqrt', 'log2'],\n",
       "                         'min_samples_leaf': [1, 2, 3, 5, 7],\n",
       "                         'min_samples_split': [1, 2, 3, 5, 7],\n",
       "                         'splitter': ['best', 'random']},\n",
       "             verbose=1)"
      ]
     },
     "execution_count": 39,
     "metadata": {},
     "output_type": "execute_result"
    }
   ],
   "source": [
    "# hyper parameter tuning of decision tree , import GridSearchCV\n",
    "\n",
    "from sklearn.model_selection import GridSearchCV\n",
    "\n",
    "\"\"\"\n",
    "Use this param\n",
    " {\n",
    "    'criterion' : ['gini', 'entropy'],\n",
    "    'max_depth' : [3, 5, 7, 10],\n",
    "    'splitter' : ['best', 'random'],\n",
    "    'min_samples_leaf' : [1, 2, 3, 5, 7],\n",
    "    'min_samples_split' : [1, 2, 3, 5, 7],\n",
    "    'max_features' : ['auto', 'sqrt', 'log2']\n",
    "}\n",
    "\n",
    "\"\"\"\n",
    "\n",
    "grid_param = {\n",
    "    'criterion' : ['gini', 'entropy'],\n",
    "    'max_depth' : [3, 5, 7, 10],\n",
    "    'splitter' : ['best', 'random'],\n",
    "    'min_samples_leaf' : [1, 2, 3, 5, 7],\n",
    "    'min_samples_split' : [1, 2, 3, 5, 7],\n",
    "    'max_features' : ['auto', 'sqrt', 'log2']\n",
    "}\n",
    "\n",
    "\n",
    "# Apply gridsearchcv with cv = 5, n_jobs = -1, verbose = 1\n",
    "grid_search_dtc = GridSearchCV(dtc_model, grid_param, cv=5, n_jobs= -1, verbose=1)\n",
    "\n",
    "grid_search_dtc.fit(X_train, y_train)\n"
   ]
  },
  {
   "cell_type": "code",
   "execution_count": 40,
   "metadata": {
    "colab": {
     "base_uri": "https://localhost:8080/"
    },
    "id": "0BMgFN20bEjo",
    "outputId": "ffd07414-571c-4326-f98f-1236672b48b8"
   },
   "outputs": [
    {
     "name": "stdout",
     "output_type": "stream",
     "text": [
      "{'criterion': 'gini', 'max_depth': 5, 'max_features': 'auto', 'min_samples_leaf': 2, 'min_samples_split': 3, 'splitter': 'best'}\n",
      "0.990625\n"
     ]
    }
   ],
   "source": [
    "# print best parameters and best score in grid search dtc\n",
    "\n",
    "print(grid_search_dtc.best_params_)\n",
    "\n",
    "print(grid_search_dtc.best_score_)"
   ]
  },
  {
   "cell_type": "code",
   "execution_count": 41,
   "metadata": {
    "colab": {
     "base_uri": "https://localhost:8080/"
    },
    "id": "HrRF1_U3bkjx",
    "outputId": "1c47f8df-9e61-4fe2-88b5-af1be1dcbf1b"
   },
   "outputs": [
    {
     "name": "stdout",
     "output_type": "stream",
     "text": [
      "Train accuracy score of dtc is 0.975\n",
      "Test accuracy score of dtc is 0.9875\n",
      "confusion_matrix score of dtc is \n",
      "[[47  0]\n",
      " [ 1 32]]\n",
      "classification_report score of dtc is \n",
      "              precision    recall  f1-score   support\n",
      "\n",
      "           0       0.98      1.00      0.99        47\n",
      "           1       1.00      0.97      0.98        33\n",
      "\n",
      "    accuracy                           0.99        80\n",
      "   macro avg       0.99      0.98      0.99        80\n",
      "weighted avg       0.99      0.99      0.99        80\n",
      "\n"
     ]
    },
    {
     "name": "stderr",
     "output_type": "stream",
     "text": [
      "C:\\Users\\Siva Reddy\\anaconda3\\lib\\site-packages\\sklearn\\tree\\_classes.py:269: FutureWarning: `max_features='auto'` has been deprecated in 1.1 and will be removed in 1.3. To keep the past behaviour, explicitly set `max_features='sqrt'`.\n",
      "  warnings.warn(\n"
     ]
    }
   ],
   "source": [
    "# storing best estimator\n",
    "\n",
    "dtc_model = grid_search_dtc.best_estimator_\n",
    "dtc_model.fit(X_train, y_train)\n",
    "# accuracy score, confusion matrix and classification report of decision tree\n",
    "\n",
    "dtc_model_acc = accuracy_score(y_test, dtc_model.predict(X_test))\n",
    "print(f'Train accuracy score of dtc is {accuracy_score(y_train, dtc_model.predict(X_train))}')\n",
    "\n",
    "print(f'Test accuracy score of dtc is {dtc_model_acc}')\n",
    "\n",
    "print(f'confusion_matrix score of dtc is \\n{confusion_matrix(y_test, dtc_model.predict(X_test))}')\n",
    "\n",
    "print(f'classification_report score of dtc is \\n{classification_report(y_test, dtc_model.predict(X_test))}')\n"
   ]
  },
  {
   "cell_type": "code",
   "execution_count": 42,
   "metadata": {},
   "outputs": [
    {
     "name": "stdout",
     "output_type": "stream",
     "text": [
      "age: 0.0\n",
      "blood_pressure: 0.00016253214123702176\n",
      "specific_gravity: 0.054149812276303874\n",
      "albumin: 0.0\n",
      "sugar: 0.0\n",
      "red_blood_cells: 0.0\n",
      "pus_cell: 0.03139645264872057\n",
      "pus_cell_clumps: 0.0\n",
      "bacteria: 0.0\n",
      "blood_glucose_random: 0.0\n",
      "blood_urea: 0.0019503856948447902\n",
      "serum_creatinine: 0.5985553750204088\n",
      "sodium: 0.0004276143239689316\n",
      "potassium: 0.0\n",
      "haemoglobin: 0.010832476977483782\n",
      "packed_cell_volume: 0.21648217326314717\n",
      "white_blood_cell_count: 0.0\n",
      "red_blood_cell_count: 0.0\n",
      "hypertension: 0.004842103374354179\n",
      "diabetes_mellitus: 0.08120107427953085\n",
      "coronary_artery_disease: 0.0\n",
      "appetite: 0.0\n",
      "peda_edema: 0.0\n",
      "aanemia: 0.0\n"
     ]
    }
   ],
   "source": [
    "#checking important features\n",
    "for feature_name, importance in zip(X_train.columns, dtc_model.feature_importances_ ):\n",
    "    print(f\"{feature_name}: {importance}\")"
   ]
  },
  {
   "cell_type": "code",
   "execution_count": 43,
   "metadata": {},
   "outputs": [
    {
     "name": "stdout",
     "output_type": "stream",
     "text": [
      "Top 5 Feature Importances:\n",
      "serum_creatinine: 0.5985553750204088\n",
      "packed_cell_volume: 0.21648217326314717\n",
      "diabetes_mellitus: 0.08120107427953085\n",
      "specific_gravity: 0.054149812276303874\n",
      "pus_cell: 0.03139645264872057\n"
     ]
    }
   ],
   "source": [
    "# Create a list of (feature_name, importance) pairs\n",
    "importance_list = [(feature_name, importance) for feature_name, importance in zip(X_train.columns, dtc_model.feature_importances_ )]\n",
    "\n",
    "# Sort the list in descending order based on importance\n",
    "importance_list.sort(key=lambda x: x[1], reverse=True)\n",
    "\n",
    "# Print the top 5 feature importances\n",
    "print(\"Top 5 Feature Importances:\")\n",
    "for feature_name, importance in importance_list[:5]:\n",
    "    print(f\"{feature_name}: {importance}\")"
   ]
  },
  {
   "cell_type": "code",
   "execution_count": 44,
   "metadata": {
    "colab": {
     "base_uri": "https://localhost:8080/"
    },
    "id": "mBNtVkhmbt9V",
    "outputId": "c9f53783-0ff9-47d2-d8c7-f562aa8395c5"
   },
   "outputs": [
    {
     "name": "stdout",
     "output_type": "stream",
     "text": [
      "Train accuracy score of rd_clf is 1.0\n",
      "Test accuracy score of rd_clf is 0.9875\n",
      "confusion_matrix score of rd_clf is \n",
      "[[47  0]\n",
      " [ 1 32]]\n",
      "classification_report score of rd_clf is \n",
      "              precision    recall  f1-score   support\n",
      "\n",
      "           0       0.98      1.00      0.99        47\n",
      "           1       1.00      0.97      0.98        33\n",
      "\n",
      "    accuracy                           0.99        80\n",
      "   macro avg       0.99      0.98      0.99        80\n",
      "weighted avg       0.99      0.99      0.99        80\n",
      "\n"
     ]
    }
   ],
   "source": [
    "# import RandomForestClassifier\n",
    "\n",
    "from sklearn.ensemble import RandomForestClassifier\n",
    "\n",
    "rd_clf = RandomForestClassifier()\n",
    "\n",
    "rd_clf.fit(X_train, y_train)\n",
    "\n",
    "# accuracy score, confusion matrix and classification report of random forest\n",
    "\n",
    "rd_clf_acc = accuracy_score(y_test, rd_clf.predict(X_test))\n",
    "\n",
    "print(f'Train accuracy score of rd_clf is {accuracy_score(y_train, rd_clf.predict(X_train))}')\n",
    "\n",
    "print(f'Test accuracy score of rd_clf is {rd_clf_acc}')\n",
    "\n",
    "print(f'confusion_matrix score of rd_clf is \\n{confusion_matrix(y_test, rd_clf.predict(X_test))}')\n",
    "\n",
    "print(f'classification_report score of rd_clf is \\n{classification_report(y_test, rd_clf.predict(X_test))}')\n"
   ]
  },
  {
   "cell_type": "code",
   "execution_count": 45,
   "metadata": {},
   "outputs": [
    {
     "name": "stdout",
     "output_type": "stream",
     "text": [
      "Top 5 Feature Importances:\n",
      "serum_creatinine: 0.18245167515120062\n",
      "haemoglobin: 0.17773549642961126\n",
      "specific_gravity: 0.10764322000583103\n",
      "packed_cell_volume: 0.10097483971264343\n",
      "albumin: 0.08979266225077497\n"
     ]
    }
   ],
   "source": [
    "# Create a list of (feature_name, importance) pairs\n",
    "importance_list = [(feature_name, importance) for feature_name, importance in zip(X_train.columns, rd_clf.feature_importances_ )]\n",
    "\n",
    "# Sort the list in descending order based on importance\n",
    "importance_list.sort(key=lambda x: x[1], reverse=True)\n",
    "\n",
    "# Print the top 5 feature importances\n",
    "print(\"Top 5 Feature Importances:\")\n",
    "for feature_name, importance in importance_list[:5]:\n",
    "    print(f\"{feature_name}: {importance}\")"
   ]
  },
  {
   "cell_type": "code",
   "execution_count": 46,
   "metadata": {
    "colab": {
     "base_uri": "https://localhost:8080/"
    },
    "id": "LJv9sgk5fWZZ",
    "outputId": "d74e60b1-f0db-4b49-e91d-bb14da7f5b0a"
   },
   "outputs": [
    {
     "name": "stdout",
     "output_type": "stream",
     "text": [
      "Train accuracy score of ada_model is 1.0\n",
      "Test accuracy score of ada_model is 0.9875\n",
      "confusion_matrix score of ada_model is \n",
      "[[47  0]\n",
      " [ 1 32]]\n",
      "classification_report score of ada_model is \n",
      "              precision    recall  f1-score   support\n",
      "\n",
      "           0       0.98      1.00      0.99        47\n",
      "           1       1.00      0.97      0.98        33\n",
      "\n",
      "    accuracy                           0.99        80\n",
      "   macro avg       0.99      0.98      0.99        80\n",
      "weighted avg       0.99      0.99      0.99        80\n",
      "\n"
     ]
    }
   ],
   "source": [
    "# import AdaBoostClassifier\n",
    "from sklearn.ensemble import AdaBoostClassifier\n",
    "\n",
    "ada_model = AdaBoostClassifier()\n",
    "\n",
    "ada_model.fit(X_train, y_train)\n",
    "# accuracy score, confusion matrix and classification report of ada boost\n",
    "ada_model_acc = accuracy_score(y_test, ada_model.predict(X_test))\n",
    "\n",
    "print(f'Train accuracy score of ada_model is {accuracy_score(y_train, ada_model.pr+edict(X_train))}')\n",
    "\n",
    "print(f'Test accuracy score of ada_model is {ada_model_acc}')\n",
    "\n",
    "print(f'confusion_matrix score of ada_model is \\n{confusion_matrix(y_test, ada_model.predict(X_test))}')\n",
    "\n",
    "print(f'classification_report score of ada_model is \\n{classification_report(y_test, ada_model.predict(X_test))}')"
   ]
  },
  {
   "cell_type": "code",
   "execution_count": 47,
   "metadata": {
    "colab": {
     "base_uri": "https://localhost:8080/"
    },
    "id": "Bj8a3Atvfb9k",
    "outputId": "a6b90f58-e054-4da1-85bc-aef983aa94d5"
   },
   "outputs": [
    {
     "name": "stdout",
     "output_type": "stream",
     "text": [
      "Train accuracy score of gb_model is 1.0\n",
      "Test accuracy score of gb_model is 0.9875\n",
      "confusion_matrix score of gb_model is \n",
      "[[47  0]\n",
      " [ 1 32]]\n",
      "classification_report score of gb_model is \n",
      "              precision    recall  f1-score   support\n",
      "\n",
      "           0       0.98      1.00      0.99        47\n",
      "           1       1.00      0.97      0.98        33\n",
      "\n",
      "    accuracy                           0.99        80\n",
      "   macro avg       0.99      0.98      0.99        80\n",
      "weighted avg       0.99      0.99      0.99        80\n",
      "\n"
     ]
    }
   ],
   "source": [
    "# import GradientBoostingClassifier\n",
    "from sklearn.ensemble import GradientBoostingClassifier\n",
    "\n",
    "gb_model = GradientBoostingClassifier()\n",
    "\n",
    "gb_model.fit(X_train ,y_train)\n",
    "# accuracy score, confusion matrix and classification report of gradient boosting classifier\n",
    "\n",
    "print(f'Train accuracy score of gb_model is {accuracy_score(y_train, gb_model.predict(X_train))}')\n",
    "\n",
    "print(f'Test accuracy score of gb_model is {accuracy_score(y_test, gb_model.predict(X_test))}')\n",
    "\n",
    "print(f'confusion_matrix score of gb_model is \\n{confusion_matrix(y_test, gb_model.predict(X_test))}')\n",
    "\n",
    "print(f'classification_report score of gb_model is \\n{classification_report(y_test, gb_model.predict(X_test))}')\n"
   ]
  },
  {
   "cell_type": "code",
   "execution_count": 48,
   "metadata": {
    "colab": {
     "base_uri": "https://localhost:8080/"
    },
    "id": "XQjU5X-zfhFC",
    "outputId": "17db9187-8ccb-4a7b-bf8d-b3d1339613f5"
   },
   "outputs": [
    {
     "name": "stdout",
     "output_type": "stream",
     "text": [
      "Train accuracy score of sgb is 1.0\n",
      "Test accuracy score of sgb is 0.975\n",
      "confusion_matrix score of sgb is \n",
      "[[47  0]\n",
      " [ 2 31]]\n",
      "classification_report score of sgb is \n",
      "              precision    recall  f1-score   support\n",
      "\n",
      "           0       0.96      1.00      0.98        47\n",
      "           1       1.00      0.94      0.97        33\n",
      "\n",
      "    accuracy                           0.97        80\n",
      "   macro avg       0.98      0.97      0.97        80\n",
      "weighted avg       0.98      0.97      0.97        80\n",
      "\n"
     ]
    }
   ],
   "source": [
    "# using max_depth = 4, subsample = 0.90, max_features = 0.75, n_estimators = 200\n",
    "\n",
    "sgb = GradientBoostingClassifier(max_depth = 4, subsample = 0.90, max_features = 0.75, n_estimators = 200)\n",
    "\n",
    "sgb.fit(X_train, y_train)\n",
    "\n",
    "# accuracy score, confusion matrix and classification report of stochastic gradient boosting classifier\n",
    "sgb_acc = accuracy_score(y_test, sgb.predict(X_test))\n",
    "\n",
    "print(f'Train accuracy score of sgb is {accuracy_score(y_train, sgb.predict(X_train))}')\n",
    "\n",
    "print(f'Test accuracy score of sgb is {sgb_acc}')\n",
    "\n",
    "print(f'confusion_matrix score of sgb is \\n{confusion_matrix(y_test, sgb.predict(X_test))}')\n",
    "\n",
    "print(f'classification_report score of sgb is \\n{classification_report(y_test, sgb.predict(X_test))}')\n",
    "\n"
   ]
  },
  {
   "cell_type": "code",
   "execution_count": 49,
   "metadata": {},
   "outputs": [
    {
     "name": "stdout",
     "output_type": "stream",
     "text": [
      "Requirement already satisfied: xgboost in c:\\users\\siva reddy\\anaconda3\\lib\\site-packages (1.7.5)Note: you may need to restart the kernel to use updated packages.\n",
      "\n",
      "Requirement already satisfied: scipy in c:\\users\\siva reddy\\anaconda3\\lib\\site-packages (from xgboost) (1.10.0)\n",
      "Requirement already satisfied: numpy in c:\\users\\siva reddy\\anaconda3\\lib\\site-packages (from xgboost) (1.23.5)\n"
     ]
    }
   ],
   "source": [
    "pip install xgboost"
   ]
  },
  {
   "cell_type": "code",
   "execution_count": 50,
   "metadata": {
    "colab": {
     "base_uri": "https://localhost:8080/"
    },
    "id": "KO7z2GwQfm-k",
    "outputId": "f3f08cf5-8197-493a-cc5f-b14d245eb93f"
   },
   "outputs": [
    {
     "name": "stdout",
     "output_type": "stream",
     "text": [
      "Train accuracy score of xgb_model is 1.0\n",
      "Test accuracy score of xgb_model is 0.9875\n",
      "confusion_matrix score of xgb_model is \n",
      "[[47  0]\n",
      " [ 1 32]]\n",
      "classification_report score of xgb_model is \n",
      "              precision    recall  f1-score   support\n",
      "\n",
      "           0       0.98      1.00      0.99        47\n",
      "           1       1.00      0.97      0.98        33\n",
      "\n",
      "    accuracy                           0.99        80\n",
      "   macro avg       0.99      0.98      0.99        80\n",
      "weighted avg       0.99      0.99      0.99        80\n",
      "\n"
     ]
    }
   ],
   "source": [
    "# import XGBClassifier\n",
    "from xgboost import XGBClassifier\n",
    "\n",
    "xgb_model = XGBClassifier()\n",
    "xgb_model.fit(X_train, y_train)\n",
    "\n",
    "# accuracy score, confusion matrix and classification report of xgboost\n",
    "xgb_model_acc = accuracy_score(y_test, xgb_model.predict(X_test))\n",
    "\n",
    "print(f'Train accuracy score of xgb_model is {accuracy_score(y_train, xgb_model.predict(X_train))}')\n",
    "\n",
    "print(f'Test accuracy score of xgb_model is {xgb_model_acc}')\n",
    "\n",
    "print(f'confusion_matrix score of xgb_model is \\n{confusion_matrix(y_test, xgb_model.predict(X_test))}')\n",
    "\n",
    "print(f'classification_report score of xgb_model is \\n{classification_report(y_test, xgb_model.predict(X_test))}')\n"
   ]
  },
  {
   "cell_type": "code",
   "execution_count": 51,
   "metadata": {
    "colab": {
     "base_uri": "https://localhost:8080/"
    },
    "id": "clmWYLjlf6aL",
    "outputId": "7c242642-4a1e-406f-a764-679ef8989237"
   },
   "outputs": [
    {
     "name": "stdout",
     "output_type": "stream",
     "text": [
      "Requirement already satisfied: catboost in c:\\users\\siva reddy\\anaconda3\\lib\\site-packages (1.2)\n",
      "Requirement already satisfied: matplotlib in c:\\users\\siva reddy\\anaconda3\\lib\\site-packages (from catboost) (3.7.0)\n",
      "Requirement already satisfied: pandas>=0.24 in c:\\users\\siva reddy\\anaconda3\\lib\\site-packages (from catboost) (1.5.3)\n",
      "Requirement already satisfied: scipy in c:\\users\\siva reddy\\anaconda3\\lib\\site-packages (from catboost) (1.10.0)\n",
      "Requirement already satisfied: plotly in c:\\users\\siva reddy\\anaconda3\\lib\\site-packages (from catboost) (5.9.0)\n",
      "Requirement already satisfied: six in c:\\users\\siva reddy\\anaconda3\\lib\\site-packages (from catboost) (1.16.0)\n",
      "Requirement already satisfied: numpy>=1.16.0 in c:\\users\\siva reddy\\anaconda3\\lib\\site-packages (from catboost) (1.23.5)\n",
      "Requirement already satisfied: graphviz in c:\\users\\siva reddy\\anaconda3\\lib\\site-packages (from catboost) (0.20.1)\n",
      "Requirement already satisfied: python-dateutil>=2.8.1 in c:\\users\\siva reddy\\anaconda3\\lib\\site-packages (from pandas>=0.24->catboost) (2.8.2)\n",
      "Requirement already satisfied: pytz>=2020.1 in c:\\users\\siva reddy\\anaconda3\\lib\\site-packages (from pandas>=0.24->catboost) (2022.7)\n",
      "Requirement already satisfied: fonttools>=4.22.0 in c:\\users\\siva reddy\\anaconda3\\lib\\site-packages (from matplotlib->catboost) (4.25.0)\n",
      "Requirement already satisfied: contourpy>=1.0.1 in c:\\users\\siva reddy\\anaconda3\\lib\\site-packages (from matplotlib->catboost) (1.0.5)\n",
      "Requirement already satisfied: pillow>=6.2.0 in c:\\users\\siva reddy\\anaconda3\\lib\\site-packages (from matplotlib->catboost) (9.4.0)\n",
      "Requirement already satisfied: kiwisolver>=1.0.1 in c:\\users\\siva reddy\\anaconda3\\lib\\site-packages (from matplotlib->catboost) (1.4.4)\n",
      "Requirement already satisfied: pyparsing>=2.3.1 in c:\\users\\siva reddy\\anaconda3\\lib\\site-packages (from matplotlib->catboost) (3.0.9)\n",
      "Requirement already satisfied: cycler>=0.10 in c:\\users\\siva reddy\\anaconda3\\lib\\site-packages (from matplotlib->catboost) (0.11.0)\n",
      "Requirement already satisfied: packaging>=20.0 in c:\\users\\siva reddy\\anaconda3\\lib\\site-packages (from matplotlib->catboost) (22.0)\n",
      "Requirement already satisfied: tenacity>=6.2.0 in c:\\users\\siva reddy\\anaconda3\\lib\\site-packages (from plotly->catboost) (8.0.1)\n",
      "Note: you may need to restart the kernel to use updated packages.\n"
     ]
    }
   ],
   "source": [
    "pip install catboost"
   ]
  },
  {
   "cell_type": "code",
   "execution_count": 52,
   "metadata": {
    "colab": {
     "base_uri": "https://localhost:8080/"
    },
    "id": "ZJRNARFNfy8j",
    "outputId": "bcb58570-8ef5-4557-98b1-1b3ef568bdce"
   },
   "outputs": [
    {
     "name": "stdout",
     "output_type": "stream",
     "text": [
      "Learning rate set to 0.006333\n",
      "0:\tlearn: 0.6831557\ttotal: 162ms\tremaining: 2m 42s\n",
      "1:\tlearn: 0.6747408\ttotal: 165ms\tremaining: 1m 22s\n",
      "2:\tlearn: 0.6651079\ttotal: 167ms\tremaining: 55.5s\n",
      "3:\tlearn: 0.6551836\ttotal: 169ms\tremaining: 42.2s\n",
      "4:\tlearn: 0.6473971\ttotal: 172ms\tremaining: 34.2s\n",
      "5:\tlearn: 0.6395426\ttotal: 174ms\tremaining: 28.9s\n",
      "6:\tlearn: 0.6290937\ttotal: 177ms\tremaining: 25.1s\n",
      "7:\tlearn: 0.6201560\ttotal: 179ms\tremaining: 22.2s\n",
      "8:\tlearn: 0.6125831\ttotal: 182ms\tremaining: 20s\n",
      "9:\tlearn: 0.6031802\ttotal: 184ms\tremaining: 18.2s\n",
      "10:\tlearn: 0.5948814\ttotal: 186ms\tremaining: 16.7s\n",
      "11:\tlearn: 0.5873987\ttotal: 189ms\tremaining: 15.5s\n",
      "12:\tlearn: 0.5791306\ttotal: 191ms\tremaining: 14.5s\n",
      "13:\tlearn: 0.5703076\ttotal: 193ms\tremaining: 13.6s\n",
      "14:\tlearn: 0.5612616\ttotal: 195ms\tremaining: 12.8s\n",
      "15:\tlearn: 0.5548717\ttotal: 197ms\tremaining: 12.1s\n",
      "16:\tlearn: 0.5470135\ttotal: 200ms\tremaining: 11.6s\n",
      "17:\tlearn: 0.5397174\ttotal: 203ms\tremaining: 11.1s\n",
      "18:\tlearn: 0.5330108\ttotal: 205ms\tremaining: 10.6s\n",
      "19:\tlearn: 0.5263406\ttotal: 208ms\tremaining: 10.2s\n",
      "20:\tlearn: 0.5186304\ttotal: 211ms\tremaining: 9.83s\n",
      "21:\tlearn: 0.5118282\ttotal: 213ms\tremaining: 9.49s\n",
      "22:\tlearn: 0.5040007\ttotal: 216ms\tremaining: 9.16s\n",
      "23:\tlearn: 0.4966175\ttotal: 218ms\tremaining: 8.86s\n",
      "24:\tlearn: 0.4905665\ttotal: 220ms\tremaining: 8.59s\n",
      "25:\tlearn: 0.4850888\ttotal: 223ms\tremaining: 8.34s\n",
      "26:\tlearn: 0.4780349\ttotal: 224ms\tremaining: 8.08s\n",
      "27:\tlearn: 0.4720090\ttotal: 227ms\tremaining: 7.87s\n",
      "28:\tlearn: 0.4664168\ttotal: 230ms\tremaining: 7.69s\n",
      "29:\tlearn: 0.4609509\ttotal: 232ms\tremaining: 7.5s\n",
      "30:\tlearn: 0.4538112\ttotal: 234ms\tremaining: 7.33s\n",
      "31:\tlearn: 0.4487915\ttotal: 237ms\tremaining: 7.17s\n",
      "32:\tlearn: 0.4417675\ttotal: 240ms\tremaining: 7.02s\n",
      "33:\tlearn: 0.4360068\ttotal: 242ms\tremaining: 6.88s\n",
      "34:\tlearn: 0.4302008\ttotal: 245ms\tremaining: 6.74s\n",
      "35:\tlearn: 0.4242939\ttotal: 247ms\tremaining: 6.62s\n",
      "36:\tlearn: 0.4191086\ttotal: 250ms\tremaining: 6.5s\n",
      "37:\tlearn: 0.4129971\ttotal: 252ms\tremaining: 6.38s\n",
      "38:\tlearn: 0.4076128\ttotal: 254ms\tremaining: 6.27s\n",
      "39:\tlearn: 0.4015203\ttotal: 257ms\tremaining: 6.17s\n",
      "40:\tlearn: 0.3949471\ttotal: 259ms\tremaining: 6.06s\n",
      "41:\tlearn: 0.3883176\ttotal: 261ms\tremaining: 5.95s\n",
      "42:\tlearn: 0.3832691\ttotal: 263ms\tremaining: 5.86s\n",
      "43:\tlearn: 0.3781855\ttotal: 266ms\tremaining: 5.77s\n",
      "44:\tlearn: 0.3736320\ttotal: 268ms\tremaining: 5.69s\n",
      "45:\tlearn: 0.3693186\ttotal: 271ms\tremaining: 5.62s\n",
      "46:\tlearn: 0.3652283\ttotal: 274ms\tremaining: 5.55s\n",
      "47:\tlearn: 0.3598016\ttotal: 276ms\tremaining: 5.48s\n",
      "48:\tlearn: 0.3558360\ttotal: 279ms\tremaining: 5.41s\n",
      "49:\tlearn: 0.3513926\ttotal: 281ms\tremaining: 5.35s\n",
      "50:\tlearn: 0.3475390\ttotal: 284ms\tremaining: 5.28s\n",
      "51:\tlearn: 0.3428536\ttotal: 287ms\tremaining: 5.22s\n",
      "52:\tlearn: 0.3388205\ttotal: 288ms\tremaining: 5.15s\n",
      "53:\tlearn: 0.3356206\ttotal: 291ms\tremaining: 5.09s\n",
      "54:\tlearn: 0.3319728\ttotal: 293ms\tremaining: 5.04s\n",
      "55:\tlearn: 0.3273109\ttotal: 296ms\tremaining: 4.98s\n",
      "56:\tlearn: 0.3236132\ttotal: 298ms\tremaining: 4.93s\n",
      "57:\tlearn: 0.3194735\ttotal: 300ms\tremaining: 4.88s\n",
      "58:\tlearn: 0.3153512\ttotal: 303ms\tremaining: 4.83s\n",
      "59:\tlearn: 0.3109846\ttotal: 305ms\tremaining: 4.79s\n",
      "60:\tlearn: 0.3075316\ttotal: 308ms\tremaining: 4.74s\n",
      "61:\tlearn: 0.3041979\ttotal: 310ms\tremaining: 4.7s\n",
      "62:\tlearn: 0.3005749\ttotal: 313ms\tremaining: 4.65s\n",
      "63:\tlearn: 0.2970094\ttotal: 315ms\tremaining: 4.61s\n",
      "64:\tlearn: 0.2933342\ttotal: 318ms\tremaining: 4.57s\n",
      "65:\tlearn: 0.2903851\ttotal: 320ms\tremaining: 4.53s\n",
      "66:\tlearn: 0.2863355\ttotal: 323ms\tremaining: 4.49s\n",
      "67:\tlearn: 0.2830361\ttotal: 325ms\tremaining: 4.46s\n",
      "68:\tlearn: 0.2794932\ttotal: 328ms\tremaining: 4.42s\n",
      "69:\tlearn: 0.2762628\ttotal: 330ms\tremaining: 4.39s\n",
      "70:\tlearn: 0.2730505\ttotal: 333ms\tremaining: 4.35s\n",
      "71:\tlearn: 0.2703118\ttotal: 335ms\tremaining: 4.32s\n",
      "72:\tlearn: 0.2671211\ttotal: 338ms\tremaining: 4.29s\n",
      "73:\tlearn: 0.2632304\ttotal: 339ms\tremaining: 4.25s\n",
      "74:\tlearn: 0.2606902\ttotal: 342ms\tremaining: 4.21s\n",
      "75:\tlearn: 0.2581191\ttotal: 344ms\tremaining: 4.19s\n",
      "76:\tlearn: 0.2558657\ttotal: 347ms\tremaining: 4.16s\n",
      "77:\tlearn: 0.2525629\ttotal: 349ms\tremaining: 4.13s\n",
      "78:\tlearn: 0.2500972\ttotal: 352ms\tremaining: 4.1s\n",
      "79:\tlearn: 0.2472638\ttotal: 354ms\tremaining: 4.08s\n",
      "80:\tlearn: 0.2448706\ttotal: 357ms\tremaining: 4.05s\n",
      "81:\tlearn: 0.2427459\ttotal: 359ms\tremaining: 4.02s\n",
      "82:\tlearn: 0.2398176\ttotal: 361ms\tremaining: 3.99s\n",
      "83:\tlearn: 0.2372486\ttotal: 363ms\tremaining: 3.96s\n",
      "84:\tlearn: 0.2349085\ttotal: 366ms\tremaining: 3.94s\n",
      "85:\tlearn: 0.2322063\ttotal: 368ms\tremaining: 3.91s\n",
      "86:\tlearn: 0.2301567\ttotal: 371ms\tremaining: 3.89s\n",
      "87:\tlearn: 0.2272266\ttotal: 373ms\tremaining: 3.87s\n",
      "88:\tlearn: 0.2245704\ttotal: 376ms\tremaining: 3.84s\n",
      "89:\tlearn: 0.2221948\ttotal: 378ms\tremaining: 3.82s\n",
      "90:\tlearn: 0.2195705\ttotal: 380ms\tremaining: 3.8s\n",
      "91:\tlearn: 0.2166808\ttotal: 383ms\tremaining: 3.77s\n",
      "92:\tlearn: 0.2148132\ttotal: 385ms\tremaining: 3.75s\n",
      "93:\tlearn: 0.2122446\ttotal: 387ms\tremaining: 3.73s\n",
      "94:\tlearn: 0.2103240\ttotal: 390ms\tremaining: 3.71s\n",
      "95:\tlearn: 0.2079011\ttotal: 393ms\tremaining: 3.7s\n",
      "96:\tlearn: 0.2060236\ttotal: 395ms\tremaining: 3.68s\n",
      "97:\tlearn: 0.2038493\ttotal: 398ms\tremaining: 3.66s\n",
      "98:\tlearn: 0.2018719\ttotal: 400ms\tremaining: 3.64s\n",
      "99:\tlearn: 0.2001216\ttotal: 403ms\tremaining: 3.63s\n",
      "100:\tlearn: 0.1980617\ttotal: 406ms\tremaining: 3.62s\n",
      "101:\tlearn: 0.1963055\ttotal: 409ms\tremaining: 3.6s\n",
      "102:\tlearn: 0.1939805\ttotal: 411ms\tremaining: 3.58s\n",
      "103:\tlearn: 0.1924085\ttotal: 413ms\tremaining: 3.56s\n",
      "104:\tlearn: 0.1908171\ttotal: 416ms\tremaining: 3.55s\n",
      "105:\tlearn: 0.1888269\ttotal: 419ms\tremaining: 3.53s\n",
      "106:\tlearn: 0.1870218\ttotal: 421ms\tremaining: 3.51s\n",
      "107:\tlearn: 0.1851347\ttotal: 423ms\tremaining: 3.5s\n",
      "108:\tlearn: 0.1836290\ttotal: 426ms\tremaining: 3.48s\n",
      "109:\tlearn: 0.1821106\ttotal: 428ms\tremaining: 3.46s\n",
      "110:\tlearn: 0.1797282\ttotal: 431ms\tremaining: 3.45s\n",
      "111:\tlearn: 0.1776541\ttotal: 433ms\tremaining: 3.44s\n",
      "112:\tlearn: 0.1761052\ttotal: 436ms\tremaining: 3.42s\n",
      "113:\tlearn: 0.1743329\ttotal: 438ms\tremaining: 3.41s\n",
      "114:\tlearn: 0.1727230\ttotal: 441ms\tremaining: 3.39s\n",
      "115:\tlearn: 0.1708637\ttotal: 443ms\tremaining: 3.38s\n",
      "116:\tlearn: 0.1691562\ttotal: 446ms\tremaining: 3.36s\n",
      "117:\tlearn: 0.1672373\ttotal: 448ms\tremaining: 3.35s\n",
      "118:\tlearn: 0.1657140\ttotal: 450ms\tremaining: 3.33s\n",
      "119:\tlearn: 0.1643194\ttotal: 453ms\tremaining: 3.32s\n",
      "120:\tlearn: 0.1626151\ttotal: 455ms\tremaining: 3.31s\n",
      "121:\tlearn: 0.1608879\ttotal: 458ms\tremaining: 3.29s\n",
      "122:\tlearn: 0.1595080\ttotal: 460ms\tremaining: 3.28s\n",
      "123:\tlearn: 0.1578467\ttotal: 463ms\tremaining: 3.27s\n",
      "124:\tlearn: 0.1566537\ttotal: 466ms\tremaining: 3.26s\n",
      "125:\tlearn: 0.1554789\ttotal: 468ms\tremaining: 3.25s\n",
      "126:\tlearn: 0.1541786\ttotal: 470ms\tremaining: 3.23s\n",
      "127:\tlearn: 0.1527802\ttotal: 473ms\tremaining: 3.22s\n",
      "128:\tlearn: 0.1513228\ttotal: 475ms\tremaining: 3.21s\n",
      "129:\tlearn: 0.1500485\ttotal: 478ms\tremaining: 3.2s\n",
      "130:\tlearn: 0.1489066\ttotal: 480ms\tremaining: 3.18s\n",
      "131:\tlearn: 0.1475961\ttotal: 483ms\tremaining: 3.17s\n",
      "132:\tlearn: 0.1460415\ttotal: 485ms\tremaining: 3.16s\n",
      "133:\tlearn: 0.1448806\ttotal: 487ms\tremaining: 3.15s\n",
      "134:\tlearn: 0.1435462\ttotal: 490ms\tremaining: 3.14s\n",
      "135:\tlearn: 0.1417218\ttotal: 507ms\tremaining: 3.22s\n",
      "136:\tlearn: 0.1404701\ttotal: 510ms\tremaining: 3.21s\n",
      "137:\tlearn: 0.1394642\ttotal: 513ms\tremaining: 3.2s\n",
      "138:\tlearn: 0.1382573\ttotal: 515ms\tremaining: 3.19s\n",
      "139:\tlearn: 0.1370371\ttotal: 518ms\tremaining: 3.18s\n",
      "140:\tlearn: 0.1357513\ttotal: 520ms\tremaining: 3.17s\n",
      "141:\tlearn: 0.1347457\ttotal: 522ms\tremaining: 3.15s\n",
      "142:\tlearn: 0.1336496\ttotal: 525ms\tremaining: 3.14s\n",
      "143:\tlearn: 0.1326141\ttotal: 527ms\tremaining: 3.13s\n",
      "144:\tlearn: 0.1312484\ttotal: 530ms\tremaining: 3.12s\n",
      "145:\tlearn: 0.1303924\ttotal: 532ms\tremaining: 3.11s\n",
      "146:\tlearn: 0.1293617\ttotal: 534ms\tremaining: 3.1s\n",
      "147:\tlearn: 0.1280134\ttotal: 537ms\tremaining: 3.09s\n",
      "148:\tlearn: 0.1267115\ttotal: 539ms\tremaining: 3.08s\n",
      "149:\tlearn: 0.1255756\ttotal: 542ms\tremaining: 3.07s\n",
      "150:\tlearn: 0.1244370\ttotal: 544ms\tremaining: 3.06s\n",
      "151:\tlearn: 0.1235986\ttotal: 547ms\tremaining: 3.05s\n",
      "152:\tlearn: 0.1226110\ttotal: 549ms\tremaining: 3.04s\n",
      "153:\tlearn: 0.1216374\ttotal: 551ms\tremaining: 3.03s\n",
      "154:\tlearn: 0.1207333\ttotal: 554ms\tremaining: 3.02s\n",
      "155:\tlearn: 0.1196728\ttotal: 556ms\tremaining: 3.01s\n",
      "156:\tlearn: 0.1186370\ttotal: 559ms\tremaining: 3s\n",
      "157:\tlearn: 0.1177799\ttotal: 561ms\tremaining: 2.99s\n",
      "158:\tlearn: 0.1168762\ttotal: 564ms\tremaining: 2.98s\n",
      "159:\tlearn: 0.1158403\ttotal: 566ms\tremaining: 2.97s\n",
      "160:\tlearn: 0.1148307\ttotal: 568ms\tremaining: 2.96s\n",
      "161:\tlearn: 0.1139755\ttotal: 571ms\tremaining: 2.95s\n",
      "162:\tlearn: 0.1130078\ttotal: 573ms\tremaining: 2.94s\n",
      "163:\tlearn: 0.1121955\ttotal: 576ms\tremaining: 2.94s\n",
      "164:\tlearn: 0.1113949\ttotal: 578ms\tremaining: 2.93s\n"
     ]
    },
    {
     "name": "stdout",
     "output_type": "stream",
     "text": [
      "165:\tlearn: 0.1104508\ttotal: 581ms\tremaining: 2.92s\n",
      "166:\tlearn: 0.1095204\ttotal: 584ms\tremaining: 2.92s\n",
      "167:\tlearn: 0.1087838\ttotal: 587ms\tremaining: 2.91s\n",
      "168:\tlearn: 0.1079138\ttotal: 590ms\tremaining: 2.9s\n",
      "169:\tlearn: 0.1069492\ttotal: 592ms\tremaining: 2.89s\n",
      "170:\tlearn: 0.1058780\ttotal: 595ms\tremaining: 2.88s\n",
      "171:\tlearn: 0.1048366\ttotal: 598ms\tremaining: 2.88s\n",
      "172:\tlearn: 0.1039757\ttotal: 601ms\tremaining: 2.87s\n",
      "173:\tlearn: 0.1029828\ttotal: 604ms\tremaining: 2.87s\n",
      "174:\tlearn: 0.1021660\ttotal: 607ms\tremaining: 2.86s\n",
      "175:\tlearn: 0.1013291\ttotal: 609ms\tremaining: 2.85s\n",
      "176:\tlearn: 0.1004759\ttotal: 612ms\tremaining: 2.84s\n",
      "177:\tlearn: 0.0996557\ttotal: 614ms\tremaining: 2.84s\n",
      "178:\tlearn: 0.0990797\ttotal: 617ms\tremaining: 2.83s\n",
      "179:\tlearn: 0.0981301\ttotal: 620ms\tremaining: 2.82s\n",
      "180:\tlearn: 0.0973864\ttotal: 622ms\tremaining: 2.81s\n",
      "181:\tlearn: 0.0967478\ttotal: 625ms\tremaining: 2.81s\n",
      "182:\tlearn: 0.0959135\ttotal: 627ms\tremaining: 2.8s\n",
      "183:\tlearn: 0.0950194\ttotal: 629ms\tremaining: 2.79s\n",
      "184:\tlearn: 0.0944047\ttotal: 632ms\tremaining: 2.78s\n",
      "185:\tlearn: 0.0936520\ttotal: 634ms\tremaining: 2.77s\n",
      "186:\tlearn: 0.0929974\ttotal: 637ms\tremaining: 2.77s\n",
      "187:\tlearn: 0.0922129\ttotal: 639ms\tremaining: 2.76s\n",
      "188:\tlearn: 0.0914779\ttotal: 642ms\tremaining: 2.75s\n",
      "189:\tlearn: 0.0907534\ttotal: 644ms\tremaining: 2.75s\n",
      "190:\tlearn: 0.0901992\ttotal: 647ms\tremaining: 2.74s\n",
      "191:\tlearn: 0.0895705\ttotal: 649ms\tremaining: 2.73s\n",
      "192:\tlearn: 0.0890554\ttotal: 652ms\tremaining: 2.72s\n",
      "193:\tlearn: 0.0884843\ttotal: 654ms\tremaining: 2.72s\n",
      "194:\tlearn: 0.0880023\ttotal: 656ms\tremaining: 2.71s\n",
      "195:\tlearn: 0.0873737\ttotal: 658ms\tremaining: 2.7s\n",
      "196:\tlearn: 0.0868150\ttotal: 661ms\tremaining: 2.69s\n",
      "197:\tlearn: 0.0862441\ttotal: 664ms\tremaining: 2.69s\n",
      "198:\tlearn: 0.0855817\ttotal: 666ms\tremaining: 2.68s\n",
      "199:\tlearn: 0.0850567\ttotal: 669ms\tremaining: 2.67s\n",
      "200:\tlearn: 0.0844977\ttotal: 671ms\tremaining: 2.67s\n",
      "201:\tlearn: 0.0839467\ttotal: 673ms\tremaining: 2.66s\n",
      "202:\tlearn: 0.0833928\ttotal: 676ms\tremaining: 2.65s\n",
      "203:\tlearn: 0.0830277\ttotal: 678ms\tremaining: 2.65s\n",
      "204:\tlearn: 0.0824084\ttotal: 680ms\tremaining: 2.64s\n",
      "205:\tlearn: 0.0819277\ttotal: 683ms\tremaining: 2.63s\n",
      "206:\tlearn: 0.0815006\ttotal: 685ms\tremaining: 2.62s\n",
      "207:\tlearn: 0.0809322\ttotal: 687ms\tremaining: 2.62s\n",
      "208:\tlearn: 0.0805056\ttotal: 690ms\tremaining: 2.61s\n",
      "209:\tlearn: 0.0799164\ttotal: 692ms\tremaining: 2.6s\n",
      "210:\tlearn: 0.0792465\ttotal: 694ms\tremaining: 2.6s\n",
      "211:\tlearn: 0.0786977\ttotal: 697ms\tremaining: 2.59s\n",
      "212:\tlearn: 0.0782580\ttotal: 699ms\tremaining: 2.58s\n",
      "213:\tlearn: 0.0776903\ttotal: 702ms\tremaining: 2.58s\n",
      "214:\tlearn: 0.0770490\ttotal: 704ms\tremaining: 2.57s\n",
      "215:\tlearn: 0.0765889\ttotal: 706ms\tremaining: 2.56s\n",
      "216:\tlearn: 0.0762015\ttotal: 709ms\tremaining: 2.56s\n",
      "217:\tlearn: 0.0757089\ttotal: 711ms\tremaining: 2.55s\n",
      "218:\tlearn: 0.0751815\ttotal: 714ms\tremaining: 2.54s\n",
      "219:\tlearn: 0.0748432\ttotal: 716ms\tremaining: 2.54s\n",
      "220:\tlearn: 0.0743096\ttotal: 718ms\tremaining: 2.53s\n",
      "221:\tlearn: 0.0738707\ttotal: 721ms\tremaining: 2.52s\n",
      "222:\tlearn: 0.0732965\ttotal: 723ms\tremaining: 2.52s\n",
      "223:\tlearn: 0.0729367\ttotal: 725ms\tremaining: 2.51s\n",
      "224:\tlearn: 0.0724103\ttotal: 728ms\tremaining: 2.51s\n",
      "225:\tlearn: 0.0719667\ttotal: 730ms\tremaining: 2.5s\n",
      "226:\tlearn: 0.0715310\ttotal: 733ms\tremaining: 2.5s\n",
      "227:\tlearn: 0.0712129\ttotal: 735ms\tremaining: 2.49s\n",
      "228:\tlearn: 0.0706362\ttotal: 738ms\tremaining: 2.48s\n",
      "229:\tlearn: 0.0701087\ttotal: 740ms\tremaining: 2.48s\n",
      "230:\tlearn: 0.0695617\ttotal: 743ms\tremaining: 2.47s\n",
      "231:\tlearn: 0.0691446\ttotal: 745ms\tremaining: 2.47s\n",
      "232:\tlearn: 0.0687479\ttotal: 748ms\tremaining: 2.46s\n",
      "233:\tlearn: 0.0683349\ttotal: 750ms\tremaining: 2.46s\n",
      "234:\tlearn: 0.0679532\ttotal: 753ms\tremaining: 2.45s\n",
      "235:\tlearn: 0.0675985\ttotal: 768ms\tremaining: 2.49s\n",
      "236:\tlearn: 0.0672107\ttotal: 771ms\tremaining: 2.48s\n",
      "237:\tlearn: 0.0667342\ttotal: 773ms\tremaining: 2.48s\n",
      "238:\tlearn: 0.0664464\ttotal: 775ms\tremaining: 2.47s\n",
      "239:\tlearn: 0.0660999\ttotal: 783ms\tremaining: 2.48s\n",
      "240:\tlearn: 0.0656530\ttotal: 786ms\tremaining: 2.48s\n",
      "241:\tlearn: 0.0652816\ttotal: 789ms\tremaining: 2.47s\n",
      "242:\tlearn: 0.0650133\ttotal: 792ms\tremaining: 2.47s\n",
      "243:\tlearn: 0.0647059\ttotal: 794ms\tremaining: 2.46s\n",
      "244:\tlearn: 0.0643884\ttotal: 797ms\tremaining: 2.46s\n",
      "245:\tlearn: 0.0639796\ttotal: 800ms\tremaining: 2.45s\n",
      "246:\tlearn: 0.0636340\ttotal: 802ms\tremaining: 2.44s\n",
      "247:\tlearn: 0.0631886\ttotal: 804ms\tremaining: 2.44s\n",
      "248:\tlearn: 0.0626828\ttotal: 806ms\tremaining: 2.43s\n",
      "249:\tlearn: 0.0622391\ttotal: 809ms\tremaining: 2.43s\n",
      "250:\tlearn: 0.0618527\ttotal: 812ms\tremaining: 2.42s\n",
      "251:\tlearn: 0.0613826\ttotal: 814ms\tremaining: 2.42s\n",
      "252:\tlearn: 0.0610608\ttotal: 816ms\tremaining: 2.41s\n",
      "253:\tlearn: 0.0606898\ttotal: 819ms\tremaining: 2.4s\n",
      "254:\tlearn: 0.0602820\ttotal: 821ms\tremaining: 2.4s\n",
      "255:\tlearn: 0.0597710\ttotal: 824ms\tremaining: 2.39s\n",
      "256:\tlearn: 0.0594326\ttotal: 826ms\tremaining: 2.39s\n",
      "257:\tlearn: 0.0591819\ttotal: 829ms\tremaining: 2.38s\n",
      "258:\tlearn: 0.0588689\ttotal: 831ms\tremaining: 2.38s\n",
      "259:\tlearn: 0.0585254\ttotal: 834ms\tremaining: 2.37s\n",
      "260:\tlearn: 0.0582032\ttotal: 836ms\tremaining: 2.37s\n",
      "261:\tlearn: 0.0579526\ttotal: 839ms\tremaining: 2.36s\n",
      "262:\tlearn: 0.0576527\ttotal: 841ms\tremaining: 2.36s\n",
      "263:\tlearn: 0.0572642\ttotal: 844ms\tremaining: 2.35s\n",
      "264:\tlearn: 0.0568953\ttotal: 846ms\tremaining: 2.35s\n",
      "265:\tlearn: 0.0565345\ttotal: 849ms\tremaining: 2.34s\n",
      "266:\tlearn: 0.0562250\ttotal: 851ms\tremaining: 2.34s\n",
      "267:\tlearn: 0.0559020\ttotal: 854ms\tremaining: 2.33s\n",
      "268:\tlearn: 0.0556484\ttotal: 857ms\tremaining: 2.33s\n",
      "269:\tlearn: 0.0552344\ttotal: 860ms\tremaining: 2.32s\n",
      "270:\tlearn: 0.0549547\ttotal: 863ms\tremaining: 2.32s\n",
      "271:\tlearn: 0.0546844\ttotal: 865ms\tremaining: 2.31s\n",
      "272:\tlearn: 0.0544148\ttotal: 868ms\tremaining: 2.31s\n",
      "273:\tlearn: 0.0540418\ttotal: 870ms\tremaining: 2.31s\n",
      "274:\tlearn: 0.0536760\ttotal: 873ms\tremaining: 2.3s\n",
      "275:\tlearn: 0.0533743\ttotal: 875ms\tremaining: 2.3s\n",
      "276:\tlearn: 0.0529768\ttotal: 878ms\tremaining: 2.29s\n",
      "277:\tlearn: 0.0526986\ttotal: 881ms\tremaining: 2.29s\n",
      "278:\tlearn: 0.0523260\ttotal: 884ms\tremaining: 2.28s\n",
      "279:\tlearn: 0.0519577\ttotal: 886ms\tremaining: 2.28s\n",
      "280:\tlearn: 0.0517136\ttotal: 889ms\tremaining: 2.27s\n",
      "281:\tlearn: 0.0514468\ttotal: 891ms\tremaining: 2.27s\n",
      "282:\tlearn: 0.0512113\ttotal: 894ms\tremaining: 2.26s\n",
      "283:\tlearn: 0.0509595\ttotal: 896ms\tremaining: 2.26s\n",
      "284:\tlearn: 0.0507756\ttotal: 899ms\tremaining: 2.26s\n",
      "285:\tlearn: 0.0504238\ttotal: 902ms\tremaining: 2.25s\n",
      "286:\tlearn: 0.0501362\ttotal: 904ms\tremaining: 2.25s\n",
      "287:\tlearn: 0.0498904\ttotal: 907ms\tremaining: 2.24s\n",
      "288:\tlearn: 0.0496072\ttotal: 910ms\tremaining: 2.24s\n",
      "289:\tlearn: 0.0493587\ttotal: 912ms\tremaining: 2.23s\n",
      "290:\tlearn: 0.0491377\ttotal: 915ms\tremaining: 2.23s\n",
      "291:\tlearn: 0.0489325\ttotal: 917ms\tremaining: 2.22s\n",
      "292:\tlearn: 0.0486460\ttotal: 920ms\tremaining: 2.22s\n",
      "293:\tlearn: 0.0484017\ttotal: 922ms\tremaining: 2.21s\n",
      "294:\tlearn: 0.0481584\ttotal: 925ms\tremaining: 2.21s\n",
      "295:\tlearn: 0.0479890\ttotal: 928ms\tremaining: 2.21s\n",
      "296:\tlearn: 0.0476974\ttotal: 930ms\tremaining: 2.2s\n",
      "297:\tlearn: 0.0474572\ttotal: 932ms\tremaining: 2.2s\n",
      "298:\tlearn: 0.0472279\ttotal: 935ms\tremaining: 2.19s\n",
      "299:\tlearn: 0.0469560\ttotal: 937ms\tremaining: 2.19s\n",
      "300:\tlearn: 0.0467214\ttotal: 940ms\tremaining: 2.18s\n",
      "301:\tlearn: 0.0464727\ttotal: 942ms\tremaining: 2.18s\n",
      "302:\tlearn: 0.0462233\ttotal: 945ms\tremaining: 2.17s\n",
      "303:\tlearn: 0.0459936\ttotal: 947ms\tremaining: 2.17s\n",
      "304:\tlearn: 0.0457369\ttotal: 949ms\tremaining: 2.16s\n",
      "305:\tlearn: 0.0455477\ttotal: 952ms\tremaining: 2.16s\n",
      "306:\tlearn: 0.0453400\ttotal: 954ms\tremaining: 2.15s\n",
      "307:\tlearn: 0.0450961\ttotal: 956ms\tremaining: 2.15s\n",
      "308:\tlearn: 0.0449111\ttotal: 959ms\tremaining: 2.14s\n",
      "309:\tlearn: 0.0446558\ttotal: 961ms\tremaining: 2.14s\n",
      "310:\tlearn: 0.0444295\ttotal: 964ms\tremaining: 2.13s\n",
      "311:\tlearn: 0.0442198\ttotal: 966ms\tremaining: 2.13s\n",
      "312:\tlearn: 0.0439808\ttotal: 968ms\tremaining: 2.13s\n",
      "313:\tlearn: 0.0437630\ttotal: 971ms\tremaining: 2.12s\n",
      "314:\tlearn: 0.0435925\ttotal: 974ms\tremaining: 2.12s\n",
      "315:\tlearn: 0.0433664\ttotal: 976ms\tremaining: 2.11s\n",
      "316:\tlearn: 0.0431242\ttotal: 979ms\tremaining: 2.11s\n",
      "317:\tlearn: 0.0429051\ttotal: 981ms\tremaining: 2.1s\n",
      "318:\tlearn: 0.0427097\ttotal: 984ms\tremaining: 2.1s\n",
      "319:\tlearn: 0.0425392\ttotal: 987ms\tremaining: 2.1s\n",
      "320:\tlearn: 0.0423453\ttotal: 989ms\tremaining: 2.09s\n",
      "321:\tlearn: 0.0421202\ttotal: 992ms\tremaining: 2.09s\n",
      "322:\tlearn: 0.0419340\ttotal: 994ms\tremaining: 2.08s\n",
      "323:\tlearn: 0.0417262\ttotal: 997ms\tremaining: 2.08s\n",
      "324:\tlearn: 0.0414834\ttotal: 999ms\tremaining: 2.07s\n",
      "325:\tlearn: 0.0412781\ttotal: 1s\tremaining: 2.07s\n",
      "326:\tlearn: 0.0410491\ttotal: 1s\tremaining: 2.06s\n",
      "327:\tlearn: 0.0408804\ttotal: 1s\tremaining: 2.06s\n",
      "328:\tlearn: 0.0407188\ttotal: 1.01s\tremaining: 2.06s\n",
      "329:\tlearn: 0.0405533\ttotal: 1.01s\tremaining: 2.05s\n",
      "330:\tlearn: 0.0403569\ttotal: 1.01s\tremaining: 2.05s\n",
      "331:\tlearn: 0.0401710\ttotal: 1.01s\tremaining: 2.04s\n",
      "332:\tlearn: 0.0400006\ttotal: 1.02s\tremaining: 2.04s\n",
      "333:\tlearn: 0.0397301\ttotal: 1.02s\tremaining: 2.03s\n",
      "334:\tlearn: 0.0395837\ttotal: 1.02s\tremaining: 2.03s\n",
      "335:\tlearn: 0.0394098\ttotal: 1.02s\tremaining: 2.02s\n",
      "336:\tlearn: 0.0391692\ttotal: 1.03s\tremaining: 2.02s\n",
      "337:\tlearn: 0.0389633\ttotal: 1.03s\tremaining: 2.02s\n",
      "338:\tlearn: 0.0387865\ttotal: 1.03s\tremaining: 2.01s\n",
      "339:\tlearn: 0.0386131\ttotal: 1.03s\tremaining: 2.01s\n",
      "340:\tlearn: 0.0383857\ttotal: 1.04s\tremaining: 2s\n",
      "341:\tlearn: 0.0382240\ttotal: 1.04s\tremaining: 2s\n",
      "342:\tlearn: 0.0379871\ttotal: 1.04s\tremaining: 1.99s\n",
      "343:\tlearn: 0.0378072\ttotal: 1.04s\tremaining: 1.99s\n",
      "344:\tlearn: 0.0376345\ttotal: 1.04s\tremaining: 1.98s\n",
      "345:\tlearn: 0.0374605\ttotal: 1.05s\tremaining: 1.98s\n",
      "346:\tlearn: 0.0372477\ttotal: 1.05s\tremaining: 1.98s\n",
      "347:\tlearn: 0.0370546\ttotal: 1.05s\tremaining: 1.97s\n",
      "348:\tlearn: 0.0368788\ttotal: 1.05s\tremaining: 1.97s\n",
      "349:\tlearn: 0.0366874\ttotal: 1.06s\tremaining: 1.96s\n",
      "350:\tlearn: 0.0365571\ttotal: 1.06s\tremaining: 1.96s\n",
      "351:\tlearn: 0.0364748\ttotal: 1.06s\tremaining: 1.95s\n",
      "352:\tlearn: 0.0362369\ttotal: 1.06s\tremaining: 1.95s\n",
      "353:\tlearn: 0.0360963\ttotal: 1.06s\tremaining: 1.95s\n",
      "354:\tlearn: 0.0359376\ttotal: 1.07s\tremaining: 1.94s\n",
      "355:\tlearn: 0.0357498\ttotal: 1.07s\tremaining: 1.94s\n",
      "356:\tlearn: 0.0356135\ttotal: 1.07s\tremaining: 1.93s\n",
      "357:\tlearn: 0.0354846\ttotal: 1.07s\tremaining: 1.93s\n",
      "358:\tlearn: 0.0353269\ttotal: 1.08s\tremaining: 1.92s\n",
      "359:\tlearn: 0.0351967\ttotal: 1.08s\tremaining: 1.92s\n",
      "360:\tlearn: 0.0350561\ttotal: 1.08s\tremaining: 1.92s\n",
      "361:\tlearn: 0.0349494\ttotal: 1.08s\tremaining: 1.91s\n",
      "362:\tlearn: 0.0348130\ttotal: 1.09s\tremaining: 1.91s\n",
      "363:\tlearn: 0.0346626\ttotal: 1.09s\tremaining: 1.9s\n",
      "364:\tlearn: 0.0344654\ttotal: 1.09s\tremaining: 1.9s\n",
      "365:\tlearn: 0.0343127\ttotal: 1.09s\tremaining: 1.9s\n",
      "366:\tlearn: 0.0341807\ttotal: 1.1s\tremaining: 1.89s\n",
      "367:\tlearn: 0.0340403\ttotal: 1.1s\tremaining: 1.89s\n",
      "368:\tlearn: 0.0339038\ttotal: 1.1s\tremaining: 1.88s\n",
      "369:\tlearn: 0.0338005\ttotal: 1.1s\tremaining: 1.88s\n",
      "370:\tlearn: 0.0336534\ttotal: 1.11s\tremaining: 1.88s\n",
      "371:\tlearn: 0.0335533\ttotal: 1.11s\tremaining: 1.87s\n",
      "372:\tlearn: 0.0334532\ttotal: 1.11s\tremaining: 1.87s\n",
      "373:\tlearn: 0.0333035\ttotal: 1.11s\tremaining: 1.86s\n",
      "374:\tlearn: 0.0331777\ttotal: 1.11s\tremaining: 1.86s\n",
      "375:\tlearn: 0.0330642\ttotal: 1.12s\tremaining: 1.85s\n",
      "376:\tlearn: 0.0329270\ttotal: 1.12s\tremaining: 1.85s\n",
      "377:\tlearn: 0.0327755\ttotal: 1.12s\tremaining: 1.85s\n",
      "378:\tlearn: 0.0326178\ttotal: 1.13s\tremaining: 1.84s\n",
      "379:\tlearn: 0.0324824\ttotal: 1.13s\tremaining: 1.84s\n",
      "380:\tlearn: 0.0323659\ttotal: 1.13s\tremaining: 1.84s\n",
      "381:\tlearn: 0.0322315\ttotal: 1.13s\tremaining: 1.83s\n",
      "382:\tlearn: 0.0321372\ttotal: 1.13s\tremaining: 1.83s\n",
      "383:\tlearn: 0.0320384\ttotal: 1.14s\tremaining: 1.82s\n",
      "384:\tlearn: 0.0319139\ttotal: 1.14s\tremaining: 1.82s\n",
      "385:\tlearn: 0.0318078\ttotal: 1.14s\tremaining: 1.82s\n",
      "386:\tlearn: 0.0316983\ttotal: 1.14s\tremaining: 1.81s\n",
      "387:\tlearn: 0.0315462\ttotal: 1.15s\tremaining: 1.81s\n",
      "388:\tlearn: 0.0314593\ttotal: 1.15s\tremaining: 1.8s\n",
      "389:\tlearn: 0.0313563\ttotal: 1.15s\tremaining: 1.8s\n",
      "390:\tlearn: 0.0311852\ttotal: 1.15s\tremaining: 1.8s\n",
      "391:\tlearn: 0.0310651\ttotal: 1.16s\tremaining: 1.79s\n",
      "392:\tlearn: 0.0308945\ttotal: 1.16s\tremaining: 1.79s\n",
      "393:\tlearn: 0.0307907\ttotal: 1.16s\tremaining: 1.78s\n",
      "394:\tlearn: 0.0306609\ttotal: 1.16s\tremaining: 1.78s\n",
      "395:\tlearn: 0.0305435\ttotal: 1.17s\tremaining: 1.78s\n",
      "396:\tlearn: 0.0304199\ttotal: 1.17s\tremaining: 1.77s\n",
      "397:\tlearn: 0.0302711\ttotal: 1.17s\tremaining: 1.77s\n",
      "398:\tlearn: 0.0301413\ttotal: 1.17s\tremaining: 1.77s\n"
     ]
    },
    {
     "name": "stdout",
     "output_type": "stream",
     "text": [
      "399:\tlearn: 0.0300518\ttotal: 1.18s\tremaining: 1.76s\n",
      "400:\tlearn: 0.0299250\ttotal: 1.18s\tremaining: 1.76s\n",
      "401:\tlearn: 0.0298131\ttotal: 1.18s\tremaining: 1.76s\n",
      "402:\tlearn: 0.0297386\ttotal: 1.18s\tremaining: 1.75s\n",
      "403:\tlearn: 0.0296135\ttotal: 1.19s\tremaining: 1.75s\n",
      "404:\tlearn: 0.0295069\ttotal: 1.19s\tremaining: 1.75s\n",
      "405:\tlearn: 0.0294119\ttotal: 1.19s\tremaining: 1.74s\n",
      "406:\tlearn: 0.0293190\ttotal: 1.19s\tremaining: 1.74s\n",
      "407:\tlearn: 0.0292372\ttotal: 1.2s\tremaining: 1.74s\n",
      "408:\tlearn: 0.0290934\ttotal: 1.2s\tremaining: 1.73s\n",
      "409:\tlearn: 0.0289484\ttotal: 1.2s\tremaining: 1.73s\n",
      "410:\tlearn: 0.0288181\ttotal: 1.2s\tremaining: 1.73s\n",
      "411:\tlearn: 0.0287228\ttotal: 1.21s\tremaining: 1.72s\n",
      "412:\tlearn: 0.0286295\ttotal: 1.21s\tremaining: 1.72s\n",
      "413:\tlearn: 0.0285438\ttotal: 1.21s\tremaining: 1.72s\n",
      "414:\tlearn: 0.0284512\ttotal: 1.21s\tremaining: 1.71s\n",
      "415:\tlearn: 0.0283436\ttotal: 1.22s\tremaining: 1.71s\n",
      "416:\tlearn: 0.0282598\ttotal: 1.22s\tremaining: 1.7s\n",
      "417:\tlearn: 0.0281690\ttotal: 1.22s\tremaining: 1.7s\n",
      "418:\tlearn: 0.0280594\ttotal: 1.22s\tremaining: 1.7s\n",
      "419:\tlearn: 0.0279410\ttotal: 1.23s\tremaining: 1.69s\n",
      "420:\tlearn: 0.0278449\ttotal: 1.23s\tremaining: 1.69s\n",
      "421:\tlearn: 0.0277621\ttotal: 1.23s\tremaining: 1.69s\n",
      "422:\tlearn: 0.0276439\ttotal: 1.23s\tremaining: 1.68s\n",
      "423:\tlearn: 0.0275332\ttotal: 1.24s\tremaining: 1.68s\n",
      "424:\tlearn: 0.0273975\ttotal: 1.24s\tremaining: 1.68s\n",
      "425:\tlearn: 0.0273057\ttotal: 1.24s\tremaining: 1.67s\n",
      "426:\tlearn: 0.0272181\ttotal: 1.24s\tremaining: 1.67s\n",
      "427:\tlearn: 0.0271256\ttotal: 1.25s\tremaining: 1.67s\n",
      "428:\tlearn: 0.0270148\ttotal: 1.25s\tremaining: 1.66s\n",
      "429:\tlearn: 0.0269031\ttotal: 1.25s\tremaining: 1.66s\n",
      "430:\tlearn: 0.0267936\ttotal: 1.25s\tremaining: 1.66s\n",
      "431:\tlearn: 0.0266968\ttotal: 1.26s\tremaining: 1.65s\n",
      "432:\tlearn: 0.0266027\ttotal: 1.26s\tremaining: 1.65s\n",
      "433:\tlearn: 0.0264894\ttotal: 1.26s\tremaining: 1.64s\n",
      "434:\tlearn: 0.0264055\ttotal: 1.26s\tremaining: 1.64s\n",
      "435:\tlearn: 0.0263303\ttotal: 1.27s\tremaining: 1.64s\n",
      "436:\tlearn: 0.0262117\ttotal: 1.27s\tremaining: 1.63s\n",
      "437:\tlearn: 0.0261258\ttotal: 1.27s\tremaining: 1.63s\n",
      "438:\tlearn: 0.0259928\ttotal: 1.27s\tremaining: 1.63s\n",
      "439:\tlearn: 0.0259149\ttotal: 1.28s\tremaining: 1.62s\n",
      "440:\tlearn: 0.0258298\ttotal: 1.28s\tremaining: 1.62s\n",
      "441:\tlearn: 0.0257485\ttotal: 1.28s\tremaining: 1.62s\n",
      "442:\tlearn: 0.0256394\ttotal: 1.28s\tremaining: 1.61s\n",
      "443:\tlearn: 0.0255082\ttotal: 1.28s\tremaining: 1.61s\n",
      "444:\tlearn: 0.0254258\ttotal: 1.29s\tremaining: 1.61s\n",
      "445:\tlearn: 0.0253511\ttotal: 1.29s\tremaining: 1.6s\n",
      "446:\tlearn: 0.0252731\ttotal: 1.29s\tremaining: 1.6s\n",
      "447:\tlearn: 0.0252017\ttotal: 1.29s\tremaining: 1.59s\n",
      "448:\tlearn: 0.0250621\ttotal: 1.3s\tremaining: 1.59s\n",
      "449:\tlearn: 0.0249735\ttotal: 1.3s\tremaining: 1.59s\n",
      "450:\tlearn: 0.0248885\ttotal: 1.3s\tremaining: 1.58s\n",
      "451:\tlearn: 0.0247985\ttotal: 1.3s\tremaining: 1.58s\n",
      "452:\tlearn: 0.0247118\ttotal: 1.31s\tremaining: 1.58s\n",
      "453:\tlearn: 0.0246432\ttotal: 1.31s\tremaining: 1.57s\n",
      "454:\tlearn: 0.0245381\ttotal: 1.31s\tremaining: 1.57s\n",
      "455:\tlearn: 0.0244719\ttotal: 1.31s\tremaining: 1.57s\n",
      "456:\tlearn: 0.0244229\ttotal: 1.32s\tremaining: 1.56s\n",
      "457:\tlearn: 0.0243049\ttotal: 1.32s\tremaining: 1.56s\n",
      "458:\tlearn: 0.0242187\ttotal: 1.32s\tremaining: 1.56s\n",
      "459:\tlearn: 0.0241466\ttotal: 1.32s\tremaining: 1.55s\n",
      "460:\tlearn: 0.0240569\ttotal: 1.33s\tremaining: 1.55s\n",
      "461:\tlearn: 0.0239814\ttotal: 1.33s\tremaining: 1.55s\n",
      "462:\tlearn: 0.0239129\ttotal: 1.33s\tremaining: 1.54s\n",
      "463:\tlearn: 0.0238200\ttotal: 1.33s\tremaining: 1.54s\n",
      "464:\tlearn: 0.0237457\ttotal: 1.34s\tremaining: 1.54s\n",
      "465:\tlearn: 0.0236752\ttotal: 1.34s\tremaining: 1.53s\n",
      "466:\tlearn: 0.0236053\ttotal: 1.34s\tremaining: 1.53s\n",
      "467:\tlearn: 0.0235186\ttotal: 1.34s\tremaining: 1.53s\n",
      "468:\tlearn: 0.0234529\ttotal: 1.35s\tremaining: 1.52s\n",
      "469:\tlearn: 0.0233742\ttotal: 1.35s\tremaining: 1.52s\n",
      "470:\tlearn: 0.0232778\ttotal: 1.35s\tremaining: 1.52s\n",
      "471:\tlearn: 0.0231884\ttotal: 1.35s\tremaining: 1.51s\n",
      "472:\tlearn: 0.0231266\ttotal: 1.36s\tremaining: 1.51s\n",
      "473:\tlearn: 0.0230428\ttotal: 1.36s\tremaining: 1.51s\n",
      "474:\tlearn: 0.0229765\ttotal: 1.36s\tremaining: 1.5s\n",
      "475:\tlearn: 0.0228926\ttotal: 1.36s\tremaining: 1.5s\n",
      "476:\tlearn: 0.0227892\ttotal: 1.37s\tremaining: 1.5s\n",
      "477:\tlearn: 0.0227175\ttotal: 1.37s\tremaining: 1.5s\n",
      "478:\tlearn: 0.0226719\ttotal: 1.37s\tremaining: 1.49s\n",
      "479:\tlearn: 0.0225986\ttotal: 1.37s\tremaining: 1.49s\n",
      "480:\tlearn: 0.0224975\ttotal: 1.38s\tremaining: 1.49s\n",
      "481:\tlearn: 0.0224289\ttotal: 1.38s\tremaining: 1.48s\n",
      "482:\tlearn: 0.0223379\ttotal: 1.38s\tremaining: 1.48s\n",
      "483:\tlearn: 0.0222624\ttotal: 1.38s\tremaining: 1.48s\n",
      "484:\tlearn: 0.0221796\ttotal: 1.39s\tremaining: 1.47s\n",
      "485:\tlearn: 0.0221181\ttotal: 1.39s\tremaining: 1.47s\n",
      "486:\tlearn: 0.0220518\ttotal: 1.39s\tremaining: 1.47s\n",
      "487:\tlearn: 0.0219956\ttotal: 1.39s\tremaining: 1.46s\n",
      "488:\tlearn: 0.0219156\ttotal: 1.4s\tremaining: 1.46s\n",
      "489:\tlearn: 0.0218562\ttotal: 1.4s\tremaining: 1.46s\n",
      "490:\tlearn: 0.0218016\ttotal: 1.4s\tremaining: 1.45s\n",
      "491:\tlearn: 0.0217434\ttotal: 1.4s\tremaining: 1.45s\n",
      "492:\tlearn: 0.0216719\ttotal: 1.41s\tremaining: 1.45s\n",
      "493:\tlearn: 0.0216192\ttotal: 1.41s\tremaining: 1.44s\n",
      "494:\tlearn: 0.0215469\ttotal: 1.41s\tremaining: 1.44s\n",
      "495:\tlearn: 0.0215010\ttotal: 1.41s\tremaining: 1.44s\n",
      "496:\tlearn: 0.0214196\ttotal: 1.42s\tremaining: 1.43s\n",
      "497:\tlearn: 0.0213466\ttotal: 1.42s\tremaining: 1.43s\n",
      "498:\tlearn: 0.0212224\ttotal: 1.42s\tremaining: 1.43s\n",
      "499:\tlearn: 0.0211663\ttotal: 1.42s\tremaining: 1.42s\n",
      "500:\tlearn: 0.0210990\ttotal: 1.43s\tremaining: 1.42s\n",
      "501:\tlearn: 0.0210603\ttotal: 1.43s\tremaining: 1.42s\n",
      "502:\tlearn: 0.0209876\ttotal: 1.43s\tremaining: 1.41s\n",
      "503:\tlearn: 0.0209226\ttotal: 1.43s\tremaining: 1.41s\n",
      "504:\tlearn: 0.0208595\ttotal: 1.44s\tremaining: 1.41s\n",
      "505:\tlearn: 0.0208041\ttotal: 1.44s\tremaining: 1.41s\n",
      "506:\tlearn: 0.0207310\ttotal: 1.44s\tremaining: 1.4s\n",
      "507:\tlearn: 0.0206690\ttotal: 1.44s\tremaining: 1.4s\n",
      "508:\tlearn: 0.0206099\ttotal: 1.45s\tremaining: 1.4s\n",
      "509:\tlearn: 0.0205320\ttotal: 1.45s\tremaining: 1.39s\n",
      "510:\tlearn: 0.0204776\ttotal: 1.45s\tremaining: 1.39s\n",
      "511:\tlearn: 0.0204185\ttotal: 1.46s\tremaining: 1.39s\n",
      "512:\tlearn: 0.0203585\ttotal: 1.46s\tremaining: 1.38s\n",
      "513:\tlearn: 0.0202909\ttotal: 1.46s\tremaining: 1.38s\n",
      "514:\tlearn: 0.0202323\ttotal: 1.46s\tremaining: 1.38s\n",
      "515:\tlearn: 0.0201820\ttotal: 1.47s\tremaining: 1.37s\n",
      "516:\tlearn: 0.0201209\ttotal: 1.47s\tremaining: 1.37s\n",
      "517:\tlearn: 0.0200775\ttotal: 1.47s\tremaining: 1.37s\n",
      "518:\tlearn: 0.0200203\ttotal: 1.47s\tremaining: 1.36s\n",
      "519:\tlearn: 0.0199478\ttotal: 1.47s\tremaining: 1.36s\n",
      "520:\tlearn: 0.0198705\ttotal: 1.48s\tremaining: 1.36s\n",
      "521:\tlearn: 0.0198193\ttotal: 1.48s\tremaining: 1.35s\n",
      "522:\tlearn: 0.0197530\ttotal: 1.48s\tremaining: 1.35s\n",
      "523:\tlearn: 0.0196910\ttotal: 1.48s\tremaining: 1.35s\n",
      "524:\tlearn: 0.0196406\ttotal: 1.49s\tremaining: 1.34s\n",
      "525:\tlearn: 0.0195744\ttotal: 1.49s\tremaining: 1.34s\n",
      "526:\tlearn: 0.0195303\ttotal: 1.49s\tremaining: 1.34s\n",
      "527:\tlearn: 0.0194394\ttotal: 1.49s\tremaining: 1.34s\n",
      "528:\tlearn: 0.0193750\ttotal: 1.5s\tremaining: 1.33s\n",
      "529:\tlearn: 0.0193343\ttotal: 1.5s\tremaining: 1.33s\n",
      "530:\tlearn: 0.0192879\ttotal: 1.5s\tremaining: 1.33s\n",
      "531:\tlearn: 0.0192314\ttotal: 1.5s\tremaining: 1.32s\n",
      "532:\tlearn: 0.0191895\ttotal: 1.51s\tremaining: 1.32s\n",
      "533:\tlearn: 0.0191476\ttotal: 1.51s\tremaining: 1.32s\n",
      "534:\tlearn: 0.0190991\ttotal: 1.51s\tremaining: 1.31s\n",
      "535:\tlearn: 0.0190427\ttotal: 1.51s\tremaining: 1.31s\n",
      "536:\tlearn: 0.0190023\ttotal: 1.52s\tremaining: 1.31s\n",
      "537:\tlearn: 0.0189384\ttotal: 1.52s\tremaining: 1.3s\n",
      "538:\tlearn: 0.0188814\ttotal: 1.52s\tremaining: 1.3s\n",
      "539:\tlearn: 0.0188414\ttotal: 1.52s\tremaining: 1.3s\n",
      "540:\tlearn: 0.0187907\ttotal: 1.53s\tremaining: 1.29s\n",
      "541:\tlearn: 0.0187467\ttotal: 1.53s\tremaining: 1.29s\n",
      "542:\tlearn: 0.0186990\ttotal: 1.53s\tremaining: 1.29s\n",
      "543:\tlearn: 0.0186527\ttotal: 1.53s\tremaining: 1.28s\n",
      "544:\tlearn: 0.0186161\ttotal: 1.54s\tremaining: 1.28s\n",
      "545:\tlearn: 0.0185700\ttotal: 1.54s\tremaining: 1.28s\n",
      "546:\tlearn: 0.0185235\ttotal: 1.54s\tremaining: 1.28s\n",
      "547:\tlearn: 0.0184588\ttotal: 1.54s\tremaining: 1.27s\n",
      "548:\tlearn: 0.0184206\ttotal: 1.54s\tremaining: 1.27s\n",
      "549:\tlearn: 0.0183498\ttotal: 1.55s\tremaining: 1.27s\n",
      "550:\tlearn: 0.0183046\ttotal: 1.55s\tremaining: 1.26s\n",
      "551:\tlearn: 0.0182554\ttotal: 1.55s\tremaining: 1.26s\n",
      "552:\tlearn: 0.0182016\ttotal: 1.55s\tremaining: 1.26s\n",
      "553:\tlearn: 0.0181573\ttotal: 1.56s\tremaining: 1.25s\n",
      "554:\tlearn: 0.0181128\ttotal: 1.56s\tremaining: 1.25s\n",
      "555:\tlearn: 0.0180602\ttotal: 1.56s\tremaining: 1.25s\n",
      "556:\tlearn: 0.0180193\ttotal: 1.56s\tremaining: 1.24s\n",
      "557:\tlearn: 0.0179704\ttotal: 1.57s\tremaining: 1.24s\n",
      "558:\tlearn: 0.0179380\ttotal: 1.57s\tremaining: 1.24s\n",
      "559:\tlearn: 0.0178677\ttotal: 1.57s\tremaining: 1.24s\n",
      "560:\tlearn: 0.0178110\ttotal: 1.58s\tremaining: 1.23s\n",
      "561:\tlearn: 0.0177436\ttotal: 1.58s\tremaining: 1.23s\n",
      "562:\tlearn: 0.0177045\ttotal: 1.58s\tremaining: 1.23s\n",
      "563:\tlearn: 0.0176625\ttotal: 1.58s\tremaining: 1.23s\n",
      "564:\tlearn: 0.0176046\ttotal: 1.59s\tremaining: 1.22s\n",
      "565:\tlearn: 0.0175502\ttotal: 1.59s\tremaining: 1.22s\n",
      "566:\tlearn: 0.0175127\ttotal: 1.59s\tremaining: 1.22s\n",
      "567:\tlearn: 0.0174517\ttotal: 1.59s\tremaining: 1.21s\n",
      "568:\tlearn: 0.0173857\ttotal: 1.6s\tremaining: 1.21s\n",
      "569:\tlearn: 0.0173508\ttotal: 1.6s\tremaining: 1.21s\n",
      "570:\tlearn: 0.0173031\ttotal: 1.6s\tremaining: 1.2s\n",
      "571:\tlearn: 0.0172606\ttotal: 1.6s\tremaining: 1.2s\n",
      "572:\tlearn: 0.0172017\ttotal: 1.61s\tremaining: 1.2s\n",
      "573:\tlearn: 0.0171666\ttotal: 1.61s\tremaining: 1.19s\n",
      "574:\tlearn: 0.0171273\ttotal: 1.61s\tremaining: 1.19s\n",
      "575:\tlearn: 0.0170783\ttotal: 1.61s\tremaining: 1.19s\n",
      "576:\tlearn: 0.0170285\ttotal: 1.62s\tremaining: 1.19s\n",
      "577:\tlearn: 0.0169707\ttotal: 1.62s\tremaining: 1.18s\n",
      "578:\tlearn: 0.0169155\ttotal: 1.62s\tremaining: 1.18s\n",
      "579:\tlearn: 0.0168766\ttotal: 1.63s\tremaining: 1.18s\n",
      "580:\tlearn: 0.0168330\ttotal: 1.63s\tremaining: 1.17s\n",
      "581:\tlearn: 0.0168024\ttotal: 1.63s\tremaining: 1.17s\n",
      "582:\tlearn: 0.0167453\ttotal: 1.63s\tremaining: 1.17s\n",
      "583:\tlearn: 0.0167075\ttotal: 1.64s\tremaining: 1.16s\n",
      "584:\tlearn: 0.0166562\ttotal: 1.64s\tremaining: 1.16s\n",
      "585:\tlearn: 0.0166096\ttotal: 1.64s\tremaining: 1.16s\n",
      "586:\tlearn: 0.0165837\ttotal: 1.64s\tremaining: 1.16s\n",
      "587:\tlearn: 0.0165529\ttotal: 1.64s\tremaining: 1.15s\n",
      "588:\tlearn: 0.0165150\ttotal: 1.65s\tremaining: 1.15s\n",
      "589:\tlearn: 0.0164794\ttotal: 1.65s\tremaining: 1.15s\n",
      "590:\tlearn: 0.0164355\ttotal: 1.65s\tremaining: 1.14s\n",
      "591:\tlearn: 0.0163926\ttotal: 1.65s\tremaining: 1.14s\n",
      "592:\tlearn: 0.0163522\ttotal: 1.66s\tremaining: 1.14s\n",
      "593:\tlearn: 0.0162943\ttotal: 1.66s\tremaining: 1.13s\n",
      "594:\tlearn: 0.0162453\ttotal: 1.66s\tremaining: 1.13s\n",
      "595:\tlearn: 0.0162050\ttotal: 1.66s\tremaining: 1.13s\n",
      "596:\tlearn: 0.0161648\ttotal: 1.67s\tremaining: 1.13s\n",
      "597:\tlearn: 0.0161174\ttotal: 1.67s\tremaining: 1.12s\n",
      "598:\tlearn: 0.0160751\ttotal: 1.67s\tremaining: 1.12s\n",
      "599:\tlearn: 0.0160176\ttotal: 1.67s\tremaining: 1.11s\n",
      "600:\tlearn: 0.0159795\ttotal: 1.68s\tremaining: 1.11s\n",
      "601:\tlearn: 0.0159354\ttotal: 1.68s\tremaining: 1.11s\n",
      "602:\tlearn: 0.0158994\ttotal: 1.68s\tremaining: 1.11s\n",
      "603:\tlearn: 0.0158667\ttotal: 1.68s\tremaining: 1.1s\n",
      "604:\tlearn: 0.0158139\ttotal: 1.69s\tremaining: 1.1s\n",
      "605:\tlearn: 0.0157645\ttotal: 1.69s\tremaining: 1.1s\n",
      "606:\tlearn: 0.0157193\ttotal: 1.69s\tremaining: 1.09s\n",
      "607:\tlearn: 0.0156857\ttotal: 1.69s\tremaining: 1.09s\n",
      "608:\tlearn: 0.0156455\ttotal: 1.7s\tremaining: 1.09s\n",
      "609:\tlearn: 0.0155909\ttotal: 1.7s\tremaining: 1.08s\n",
      "610:\tlearn: 0.0155511\ttotal: 1.7s\tremaining: 1.08s\n",
      "611:\tlearn: 0.0155174\ttotal: 1.7s\tremaining: 1.08s\n",
      "612:\tlearn: 0.0154785\ttotal: 1.71s\tremaining: 1.08s\n",
      "613:\tlearn: 0.0154398\ttotal: 1.71s\tremaining: 1.07s\n",
      "614:\tlearn: 0.0153993\ttotal: 1.71s\tremaining: 1.07s\n",
      "615:\tlearn: 0.0153698\ttotal: 1.71s\tremaining: 1.07s\n",
      "616:\tlearn: 0.0153369\ttotal: 1.72s\tremaining: 1.06s\n",
      "617:\tlearn: 0.0153019\ttotal: 1.72s\tremaining: 1.06s\n",
      "618:\tlearn: 0.0152667\ttotal: 1.72s\tremaining: 1.06s\n",
      "619:\tlearn: 0.0152288\ttotal: 1.72s\tremaining: 1.05s\n",
      "620:\tlearn: 0.0151894\ttotal: 1.73s\tremaining: 1.05s\n",
      "621:\tlearn: 0.0151376\ttotal: 1.73s\tremaining: 1.05s\n",
      "622:\tlearn: 0.0151107\ttotal: 1.73s\tremaining: 1.05s\n",
      "623:\tlearn: 0.0150800\ttotal: 1.73s\tremaining: 1.04s\n",
      "624:\tlearn: 0.0150283\ttotal: 1.74s\tremaining: 1.04s\n",
      "625:\tlearn: 0.0149888\ttotal: 1.74s\tremaining: 1.04s\n",
      "626:\tlearn: 0.0149523\ttotal: 1.74s\tremaining: 1.03s\n",
      "627:\tlearn: 0.0149230\ttotal: 1.74s\tremaining: 1.03s\n",
      "628:\tlearn: 0.0148882\ttotal: 1.74s\tremaining: 1.03s\n",
      "629:\tlearn: 0.0148538\ttotal: 1.75s\tremaining: 1.03s\n",
      "630:\tlearn: 0.0148016\ttotal: 1.75s\tremaining: 1.02s\n",
      "631:\tlearn: 0.0147724\ttotal: 1.75s\tremaining: 1.02s\n",
      "632:\tlearn: 0.0147340\ttotal: 1.75s\tremaining: 1.02s\n",
      "633:\tlearn: 0.0147054\ttotal: 1.76s\tremaining: 1.01s\n",
      "634:\tlearn: 0.0146652\ttotal: 1.76s\tremaining: 1.01s\n",
      "635:\tlearn: 0.0146324\ttotal: 1.76s\tremaining: 1.01s\n",
      "636:\tlearn: 0.0146030\ttotal: 1.76s\tremaining: 1s\n",
      "637:\tlearn: 0.0145663\ttotal: 1.77s\tremaining: 1s\n",
      "638:\tlearn: 0.0145328\ttotal: 1.77s\tremaining: 999ms\n"
     ]
    },
    {
     "name": "stdout",
     "output_type": "stream",
     "text": [
      "639:\tlearn: 0.0144974\ttotal: 1.77s\tremaining: 997ms\n",
      "640:\tlearn: 0.0144623\ttotal: 1.77s\tremaining: 994ms\n",
      "641:\tlearn: 0.0144361\ttotal: 1.78s\tremaining: 991ms\n",
      "642:\tlearn: 0.0144067\ttotal: 1.78s\tremaining: 988ms\n",
      "643:\tlearn: 0.0143670\ttotal: 1.78s\tremaining: 985ms\n",
      "644:\tlearn: 0.0143353\ttotal: 1.79s\tremaining: 984ms\n",
      "645:\tlearn: 0.0143059\ttotal: 1.79s\tremaining: 981ms\n",
      "646:\tlearn: 0.0142735\ttotal: 1.79s\tremaining: 978ms\n",
      "647:\tlearn: 0.0142239\ttotal: 1.79s\tremaining: 975ms\n",
      "648:\tlearn: 0.0141959\ttotal: 1.8s\tremaining: 973ms\n",
      "649:\tlearn: 0.0141591\ttotal: 1.8s\tremaining: 970ms\n",
      "650:\tlearn: 0.0141169\ttotal: 1.8s\tremaining: 967ms\n",
      "651:\tlearn: 0.0140778\ttotal: 1.8s\tremaining: 964ms\n",
      "652:\tlearn: 0.0140427\ttotal: 1.81s\tremaining: 961ms\n",
      "653:\tlearn: 0.0140030\ttotal: 1.81s\tremaining: 958ms\n",
      "654:\tlearn: 0.0139697\ttotal: 1.81s\tremaining: 955ms\n",
      "655:\tlearn: 0.0139346\ttotal: 1.81s\tremaining: 952ms\n",
      "656:\tlearn: 0.0138946\ttotal: 1.82s\tremaining: 949ms\n",
      "657:\tlearn: 0.0138714\ttotal: 1.82s\tremaining: 946ms\n",
      "658:\tlearn: 0.0138402\ttotal: 1.82s\tremaining: 943ms\n",
      "659:\tlearn: 0.0138080\ttotal: 1.82s\tremaining: 940ms\n",
      "660:\tlearn: 0.0137818\ttotal: 1.83s\tremaining: 937ms\n",
      "661:\tlearn: 0.0137467\ttotal: 1.83s\tremaining: 934ms\n",
      "662:\tlearn: 0.0137110\ttotal: 1.83s\tremaining: 932ms\n",
      "663:\tlearn: 0.0136778\ttotal: 1.83s\tremaining: 929ms\n",
      "664:\tlearn: 0.0136426\ttotal: 1.84s\tremaining: 926ms\n",
      "665:\tlearn: 0.0136167\ttotal: 1.84s\tremaining: 923ms\n",
      "666:\tlearn: 0.0135860\ttotal: 1.84s\tremaining: 920ms\n",
      "667:\tlearn: 0.0135538\ttotal: 1.84s\tremaining: 917ms\n",
      "668:\tlearn: 0.0135279\ttotal: 1.85s\tremaining: 914ms\n",
      "669:\tlearn: 0.0135023\ttotal: 1.85s\tremaining: 911ms\n",
      "670:\tlearn: 0.0134656\ttotal: 1.85s\tremaining: 908ms\n",
      "671:\tlearn: 0.0134303\ttotal: 1.85s\tremaining: 905ms\n",
      "672:\tlearn: 0.0134049\ttotal: 1.86s\tremaining: 902ms\n",
      "673:\tlearn: 0.0133718\ttotal: 1.86s\tremaining: 899ms\n",
      "674:\tlearn: 0.0133506\ttotal: 1.86s\tremaining: 896ms\n",
      "675:\tlearn: 0.0133287\ttotal: 1.86s\tremaining: 893ms\n",
      "676:\tlearn: 0.0132991\ttotal: 1.87s\tremaining: 890ms\n",
      "677:\tlearn: 0.0132651\ttotal: 1.87s\tremaining: 888ms\n",
      "678:\tlearn: 0.0132298\ttotal: 1.87s\tremaining: 885ms\n",
      "679:\tlearn: 0.0132019\ttotal: 1.87s\tremaining: 882ms\n",
      "680:\tlearn: 0.0131739\ttotal: 1.88s\tremaining: 879ms\n",
      "681:\tlearn: 0.0131391\ttotal: 1.88s\tremaining: 876ms\n",
      "682:\tlearn: 0.0131067\ttotal: 1.88s\tremaining: 873ms\n",
      "683:\tlearn: 0.0130793\ttotal: 1.88s\tremaining: 870ms\n",
      "684:\tlearn: 0.0130540\ttotal: 1.89s\tremaining: 867ms\n",
      "685:\tlearn: 0.0130287\ttotal: 1.89s\tremaining: 864ms\n",
      "686:\tlearn: 0.0130056\ttotal: 1.89s\tremaining: 861ms\n",
      "687:\tlearn: 0.0129869\ttotal: 1.89s\tremaining: 858ms\n",
      "688:\tlearn: 0.0129482\ttotal: 1.9s\tremaining: 856ms\n",
      "689:\tlearn: 0.0129189\ttotal: 1.9s\tremaining: 853ms\n",
      "690:\tlearn: 0.0128972\ttotal: 1.9s\tremaining: 850ms\n",
      "691:\tlearn: 0.0128709\ttotal: 1.9s\tremaining: 847ms\n",
      "692:\tlearn: 0.0128299\ttotal: 1.91s\tremaining: 844ms\n",
      "693:\tlearn: 0.0127997\ttotal: 1.91s\tremaining: 841ms\n",
      "694:\tlearn: 0.0127706\ttotal: 1.91s\tremaining: 838ms\n",
      "695:\tlearn: 0.0127428\ttotal: 1.91s\tremaining: 835ms\n",
      "696:\tlearn: 0.0127115\ttotal: 1.91s\tremaining: 832ms\n",
      "697:\tlearn: 0.0126730\ttotal: 1.92s\tremaining: 830ms\n",
      "698:\tlearn: 0.0126397\ttotal: 1.92s\tremaining: 827ms\n",
      "699:\tlearn: 0.0126208\ttotal: 1.92s\tremaining: 824ms\n",
      "700:\tlearn: 0.0125925\ttotal: 1.92s\tremaining: 821ms\n",
      "701:\tlearn: 0.0125731\ttotal: 1.93s\tremaining: 818ms\n",
      "702:\tlearn: 0.0125520\ttotal: 1.93s\tremaining: 815ms\n",
      "703:\tlearn: 0.0125267\ttotal: 1.93s\tremaining: 812ms\n",
      "704:\tlearn: 0.0125032\ttotal: 1.93s\tremaining: 809ms\n",
      "705:\tlearn: 0.0124672\ttotal: 1.94s\tremaining: 806ms\n",
      "706:\tlearn: 0.0124439\ttotal: 1.94s\tremaining: 804ms\n",
      "707:\tlearn: 0.0124141\ttotal: 1.94s\tremaining: 801ms\n",
      "708:\tlearn: 0.0123829\ttotal: 1.94s\tremaining: 798ms\n",
      "709:\tlearn: 0.0123376\ttotal: 1.95s\tremaining: 795ms\n",
      "710:\tlearn: 0.0123096\ttotal: 1.95s\tremaining: 792ms\n",
      "711:\tlearn: 0.0122747\ttotal: 1.95s\tremaining: 789ms\n",
      "712:\tlearn: 0.0122529\ttotal: 1.95s\tremaining: 786ms\n",
      "713:\tlearn: 0.0122286\ttotal: 1.96s\tremaining: 783ms\n",
      "714:\tlearn: 0.0122049\ttotal: 1.96s\tremaining: 781ms\n",
      "715:\tlearn: 0.0121795\ttotal: 1.96s\tremaining: 778ms\n",
      "716:\tlearn: 0.0121579\ttotal: 1.96s\tremaining: 775ms\n",
      "717:\tlearn: 0.0121247\ttotal: 1.97s\tremaining: 772ms\n",
      "718:\tlearn: 0.0120836\ttotal: 1.97s\tremaining: 769ms\n",
      "719:\tlearn: 0.0120642\ttotal: 1.97s\tremaining: 766ms\n",
      "720:\tlearn: 0.0120263\ttotal: 1.97s\tremaining: 763ms\n",
      "721:\tlearn: 0.0120015\ttotal: 1.98s\tremaining: 761ms\n",
      "722:\tlearn: 0.0119829\ttotal: 1.98s\tremaining: 758ms\n",
      "723:\tlearn: 0.0119625\ttotal: 1.98s\tremaining: 755ms\n",
      "724:\tlearn: 0.0119450\ttotal: 1.98s\tremaining: 752ms\n",
      "725:\tlearn: 0.0119147\ttotal: 1.99s\tremaining: 750ms\n",
      "726:\tlearn: 0.0118926\ttotal: 1.99s\tremaining: 747ms\n",
      "727:\tlearn: 0.0118772\ttotal: 1.99s\tremaining: 744ms\n",
      "728:\tlearn: 0.0118526\ttotal: 1.99s\tremaining: 741ms\n",
      "729:\tlearn: 0.0118358\ttotal: 2s\tremaining: 738ms\n",
      "730:\tlearn: 0.0118101\ttotal: 2s\tremaining: 736ms\n",
      "731:\tlearn: 0.0117850\ttotal: 2s\tremaining: 733ms\n",
      "732:\tlearn: 0.0117628\ttotal: 2s\tremaining: 730ms\n",
      "733:\tlearn: 0.0117356\ttotal: 2s\tremaining: 727ms\n",
      "734:\tlearn: 0.0117085\ttotal: 2.01s\tremaining: 724ms\n",
      "735:\tlearn: 0.0116796\ttotal: 2.01s\tremaining: 721ms\n",
      "736:\tlearn: 0.0116544\ttotal: 2.01s\tremaining: 718ms\n",
      "737:\tlearn: 0.0116293\ttotal: 2.02s\tremaining: 716ms\n",
      "738:\tlearn: 0.0115969\ttotal: 2.02s\tremaining: 713ms\n",
      "739:\tlearn: 0.0115710\ttotal: 2.02s\tremaining: 710ms\n",
      "740:\tlearn: 0.0115423\ttotal: 2.02s\tremaining: 707ms\n",
      "741:\tlearn: 0.0115212\ttotal: 2.02s\tremaining: 704ms\n",
      "742:\tlearn: 0.0115022\ttotal: 2.03s\tremaining: 701ms\n",
      "743:\tlearn: 0.0114640\ttotal: 2.03s\tremaining: 699ms\n",
      "744:\tlearn: 0.0114409\ttotal: 2.03s\tremaining: 696ms\n",
      "745:\tlearn: 0.0114159\ttotal: 2.04s\tremaining: 693ms\n",
      "746:\tlearn: 0.0113818\ttotal: 2.04s\tremaining: 690ms\n",
      "747:\tlearn: 0.0113600\ttotal: 2.04s\tremaining: 687ms\n",
      "748:\tlearn: 0.0113277\ttotal: 2.04s\tremaining: 684ms\n",
      "749:\tlearn: 0.0112856\ttotal: 2.04s\tremaining: 681ms\n",
      "750:\tlearn: 0.0112559\ttotal: 2.05s\tremaining: 679ms\n",
      "751:\tlearn: 0.0112413\ttotal: 2.05s\tremaining: 676ms\n",
      "752:\tlearn: 0.0112266\ttotal: 2.05s\tremaining: 673ms\n",
      "753:\tlearn: 0.0112088\ttotal: 2.05s\tremaining: 670ms\n",
      "754:\tlearn: 0.0111854\ttotal: 2.06s\tremaining: 667ms\n",
      "755:\tlearn: 0.0111666\ttotal: 2.06s\tremaining: 664ms\n",
      "756:\tlearn: 0.0111406\ttotal: 2.08s\tremaining: 667ms\n",
      "757:\tlearn: 0.0111187\ttotal: 2.08s\tremaining: 664ms\n",
      "758:\tlearn: 0.0110931\ttotal: 2.08s\tremaining: 661ms\n",
      "759:\tlearn: 0.0110695\ttotal: 2.08s\tremaining: 658ms\n",
      "760:\tlearn: 0.0110467\ttotal: 2.09s\tremaining: 655ms\n",
      "761:\tlearn: 0.0110340\ttotal: 2.09s\tremaining: 652ms\n",
      "762:\tlearn: 0.0110108\ttotal: 2.09s\tremaining: 649ms\n",
      "763:\tlearn: 0.0109917\ttotal: 2.09s\tremaining: 647ms\n",
      "764:\tlearn: 0.0109770\ttotal: 2.1s\tremaining: 644ms\n",
      "765:\tlearn: 0.0109574\ttotal: 2.1s\tremaining: 641ms\n",
      "766:\tlearn: 0.0109291\ttotal: 2.1s\tremaining: 638ms\n",
      "767:\tlearn: 0.0109115\ttotal: 2.1s\tremaining: 635ms\n",
      "768:\tlearn: 0.0108866\ttotal: 2.1s\tremaining: 632ms\n",
      "769:\tlearn: 0.0108623\ttotal: 2.11s\tremaining: 630ms\n",
      "770:\tlearn: 0.0108328\ttotal: 2.11s\tremaining: 627ms\n",
      "771:\tlearn: 0.0108138\ttotal: 2.11s\tremaining: 624ms\n",
      "772:\tlearn: 0.0107896\ttotal: 2.11s\tremaining: 621ms\n",
      "773:\tlearn: 0.0107691\ttotal: 2.12s\tremaining: 618ms\n",
      "774:\tlearn: 0.0107374\ttotal: 2.12s\tremaining: 615ms\n",
      "775:\tlearn: 0.0107074\ttotal: 2.12s\tremaining: 612ms\n",
      "776:\tlearn: 0.0106905\ttotal: 2.12s\tremaining: 610ms\n",
      "777:\tlearn: 0.0106686\ttotal: 2.13s\tremaining: 607ms\n",
      "778:\tlearn: 0.0106429\ttotal: 2.13s\tremaining: 604ms\n",
      "779:\tlearn: 0.0106236\ttotal: 2.13s\tremaining: 601ms\n",
      "780:\tlearn: 0.0106007\ttotal: 2.13s\tremaining: 598ms\n",
      "781:\tlearn: 0.0105716\ttotal: 2.13s\tremaining: 595ms\n",
      "782:\tlearn: 0.0105526\ttotal: 2.14s\tremaining: 592ms\n",
      "783:\tlearn: 0.0105336\ttotal: 2.14s\tremaining: 590ms\n",
      "784:\tlearn: 0.0105132\ttotal: 2.14s\tremaining: 587ms\n",
      "785:\tlearn: 0.0104969\ttotal: 2.14s\tremaining: 584ms\n",
      "786:\tlearn: 0.0104770\ttotal: 2.15s\tremaining: 581ms\n",
      "787:\tlearn: 0.0104599\ttotal: 2.15s\tremaining: 578ms\n",
      "788:\tlearn: 0.0104344\ttotal: 2.15s\tremaining: 576ms\n",
      "789:\tlearn: 0.0104135\ttotal: 2.15s\tremaining: 573ms\n",
      "790:\tlearn: 0.0103923\ttotal: 2.16s\tremaining: 570ms\n",
      "791:\tlearn: 0.0103679\ttotal: 2.16s\tremaining: 567ms\n",
      "792:\tlearn: 0.0103492\ttotal: 2.16s\tremaining: 564ms\n",
      "793:\tlearn: 0.0103282\ttotal: 2.16s\tremaining: 561ms\n",
      "794:\tlearn: 0.0102921\ttotal: 2.17s\tremaining: 559ms\n",
      "795:\tlearn: 0.0102757\ttotal: 2.17s\tremaining: 556ms\n",
      "796:\tlearn: 0.0102577\ttotal: 2.17s\tremaining: 553ms\n",
      "797:\tlearn: 0.0102382\ttotal: 2.17s\tremaining: 550ms\n",
      "798:\tlearn: 0.0102154\ttotal: 2.18s\tremaining: 547ms\n"
     ]
    },
    {
     "name": "stdout",
     "output_type": "stream",
     "text": [
      "799:\tlearn: 0.0102009\ttotal: 2.18s\tremaining: 545ms\n",
      "800:\tlearn: 0.0101862\ttotal: 2.18s\tremaining: 542ms\n",
      "801:\tlearn: 0.0101652\ttotal: 2.18s\tremaining: 539ms\n",
      "802:\tlearn: 0.0101413\ttotal: 2.19s\tremaining: 536ms\n",
      "803:\tlearn: 0.0101153\ttotal: 2.19s\tremaining: 534ms\n",
      "804:\tlearn: 0.0100974\ttotal: 2.19s\tremaining: 531ms\n",
      "805:\tlearn: 0.0100832\ttotal: 2.19s\tremaining: 528ms\n",
      "806:\tlearn: 0.0100622\ttotal: 2.2s\tremaining: 525ms\n",
      "807:\tlearn: 0.0100418\ttotal: 2.2s\tremaining: 523ms\n",
      "808:\tlearn: 0.0100277\ttotal: 2.2s\tremaining: 520ms\n",
      "809:\tlearn: 0.0100135\ttotal: 2.2s\tremaining: 517ms\n",
      "810:\tlearn: 0.0100005\ttotal: 2.21s\tremaining: 514ms\n",
      "811:\tlearn: 0.0099828\ttotal: 2.21s\tremaining: 511ms\n",
      "812:\tlearn: 0.0099666\ttotal: 2.21s\tremaining: 509ms\n",
      "813:\tlearn: 0.0099470\ttotal: 2.21s\tremaining: 506ms\n",
      "814:\tlearn: 0.0099227\ttotal: 2.21s\tremaining: 503ms\n",
      "815:\tlearn: 0.0099057\ttotal: 2.22s\tremaining: 500ms\n",
      "816:\tlearn: 0.0098851\ttotal: 2.22s\tremaining: 497ms\n",
      "817:\tlearn: 0.0098662\ttotal: 2.22s\tremaining: 495ms\n",
      "818:\tlearn: 0.0098528\ttotal: 2.23s\tremaining: 492ms\n",
      "819:\tlearn: 0.0098392\ttotal: 2.23s\tremaining: 489ms\n",
      "820:\tlearn: 0.0098189\ttotal: 2.23s\tremaining: 486ms\n",
      "821:\tlearn: 0.0098013\ttotal: 2.23s\tremaining: 484ms\n",
      "822:\tlearn: 0.0097785\ttotal: 2.23s\tremaining: 481ms\n",
      "823:\tlearn: 0.0097646\ttotal: 2.24s\tremaining: 478ms\n",
      "824:\tlearn: 0.0097491\ttotal: 2.24s\tremaining: 475ms\n",
      "825:\tlearn: 0.0097286\ttotal: 2.24s\tremaining: 472ms\n",
      "826:\tlearn: 0.0097109\ttotal: 2.25s\tremaining: 470ms\n",
      "827:\tlearn: 0.0096924\ttotal: 2.25s\tremaining: 467ms\n",
      "828:\tlearn: 0.0096761\ttotal: 2.25s\tremaining: 464ms\n",
      "829:\tlearn: 0.0096594\ttotal: 2.25s\tremaining: 461ms\n",
      "830:\tlearn: 0.0096401\ttotal: 2.25s\tremaining: 459ms\n",
      "831:\tlearn: 0.0096246\ttotal: 2.26s\tremaining: 456ms\n",
      "832:\tlearn: 0.0096082\ttotal: 2.26s\tremaining: 453ms\n",
      "833:\tlearn: 0.0095903\ttotal: 2.26s\tremaining: 450ms\n",
      "834:\tlearn: 0.0095754\ttotal: 2.26s\tremaining: 447ms\n",
      "835:\tlearn: 0.0095548\ttotal: 2.28s\tremaining: 448ms\n",
      "836:\tlearn: 0.0095307\ttotal: 2.28s\tremaining: 445ms\n",
      "837:\tlearn: 0.0095108\ttotal: 2.29s\tremaining: 442ms\n",
      "838:\tlearn: 0.0094935\ttotal: 2.29s\tremaining: 439ms\n",
      "839:\tlearn: 0.0094780\ttotal: 2.29s\tremaining: 437ms\n",
      "840:\tlearn: 0.0094522\ttotal: 2.29s\tremaining: 434ms\n",
      "841:\tlearn: 0.0094310\ttotal: 2.29s\tremaining: 431ms\n",
      "842:\tlearn: 0.0094152\ttotal: 2.3s\tremaining: 428ms\n",
      "843:\tlearn: 0.0094002\ttotal: 2.3s\tremaining: 425ms\n",
      "844:\tlearn: 0.0093874\ttotal: 2.3s\tremaining: 422ms\n",
      "845:\tlearn: 0.0093724\ttotal: 2.31s\tremaining: 420ms\n",
      "846:\tlearn: 0.0093579\ttotal: 2.31s\tremaining: 417ms\n",
      "847:\tlearn: 0.0093399\ttotal: 2.31s\tremaining: 414ms\n",
      "848:\tlearn: 0.0093225\ttotal: 2.31s\tremaining: 411ms\n",
      "849:\tlearn: 0.0093037\ttotal: 2.31s\tremaining: 409ms\n",
      "850:\tlearn: 0.0092831\ttotal: 2.32s\tremaining: 406ms\n",
      "851:\tlearn: 0.0092623\ttotal: 2.32s\tremaining: 403ms\n",
      "852:\tlearn: 0.0092413\ttotal: 2.32s\tremaining: 400ms\n",
      "853:\tlearn: 0.0092211\ttotal: 2.32s\tremaining: 397ms\n",
      "854:\tlearn: 0.0092060\ttotal: 2.33s\tremaining: 395ms\n",
      "855:\tlearn: 0.0091936\ttotal: 2.33s\tremaining: 392ms\n",
      "856:\tlearn: 0.0091772\ttotal: 2.33s\tremaining: 389ms\n",
      "857:\tlearn: 0.0091637\ttotal: 2.33s\tremaining: 386ms\n",
      "858:\tlearn: 0.0091491\ttotal: 2.34s\tremaining: 383ms\n",
      "859:\tlearn: 0.0091305\ttotal: 2.34s\tremaining: 381ms\n",
      "860:\tlearn: 0.0091119\ttotal: 2.34s\tremaining: 378ms\n",
      "861:\tlearn: 0.0090929\ttotal: 2.34s\tremaining: 375ms\n",
      "862:\tlearn: 0.0090766\ttotal: 2.35s\tremaining: 372ms\n",
      "863:\tlearn: 0.0090581\ttotal: 2.35s\tremaining: 370ms\n",
      "864:\tlearn: 0.0090448\ttotal: 2.35s\tremaining: 367ms\n",
      "865:\tlearn: 0.0090243\ttotal: 2.35s\tremaining: 364ms\n",
      "866:\tlearn: 0.0090034\ttotal: 2.35s\tremaining: 361ms\n",
      "867:\tlearn: 0.0089887\ttotal: 2.36s\tremaining: 359ms\n",
      "868:\tlearn: 0.0089751\ttotal: 2.36s\tremaining: 356ms\n",
      "869:\tlearn: 0.0089642\ttotal: 2.36s\tremaining: 353ms\n",
      "870:\tlearn: 0.0089490\ttotal: 2.36s\tremaining: 350ms\n",
      "871:\tlearn: 0.0089368\ttotal: 2.37s\tremaining: 347ms\n",
      "872:\tlearn: 0.0089192\ttotal: 2.37s\tremaining: 345ms\n",
      "873:\tlearn: 0.0089004\ttotal: 2.37s\tremaining: 342ms\n",
      "874:\tlearn: 0.0088882\ttotal: 2.38s\tremaining: 339ms\n",
      "875:\tlearn: 0.0088663\ttotal: 2.38s\tremaining: 337ms\n",
      "876:\tlearn: 0.0088452\ttotal: 2.38s\tremaining: 334ms\n",
      "877:\tlearn: 0.0088312\ttotal: 2.38s\tremaining: 331ms\n",
      "878:\tlearn: 0.0088161\ttotal: 2.38s\tremaining: 328ms\n",
      "879:\tlearn: 0.0088045\ttotal: 2.39s\tremaining: 326ms\n",
      "880:\tlearn: 0.0087891\ttotal: 2.39s\tremaining: 323ms\n",
      "881:\tlearn: 0.0087775\ttotal: 2.39s\tremaining: 320ms\n",
      "882:\tlearn: 0.0087628\ttotal: 2.4s\tremaining: 317ms\n",
      "883:\tlearn: 0.0087454\ttotal: 2.4s\tremaining: 315ms\n",
      "884:\tlearn: 0.0087246\ttotal: 2.4s\tremaining: 312ms\n",
      "885:\tlearn: 0.0087032\ttotal: 2.4s\tremaining: 309ms\n",
      "886:\tlearn: 0.0086864\ttotal: 2.4s\tremaining: 306ms\n",
      "887:\tlearn: 0.0086701\ttotal: 2.41s\tremaining: 304ms\n",
      "888:\tlearn: 0.0086521\ttotal: 2.41s\tremaining: 301ms\n",
      "889:\tlearn: 0.0086417\ttotal: 2.41s\tremaining: 298ms\n",
      "890:\tlearn: 0.0086260\ttotal: 2.41s\tremaining: 295ms\n",
      "891:\tlearn: 0.0086161\ttotal: 2.42s\tremaining: 293ms\n",
      "892:\tlearn: 0.0085997\ttotal: 2.42s\tremaining: 290ms\n",
      "893:\tlearn: 0.0085834\ttotal: 2.42s\tremaining: 287ms\n",
      "894:\tlearn: 0.0085715\ttotal: 2.42s\tremaining: 285ms\n",
      "895:\tlearn: 0.0085557\ttotal: 2.43s\tremaining: 282ms\n",
      "896:\tlearn: 0.0085381\ttotal: 2.44s\tremaining: 281ms\n",
      "897:\tlearn: 0.0085263\ttotal: 2.45s\tremaining: 278ms\n",
      "898:\tlearn: 0.0085037\ttotal: 2.46s\tremaining: 276ms\n",
      "899:\tlearn: 0.0084905\ttotal: 2.46s\tremaining: 274ms\n",
      "900:\tlearn: 0.0084725\ttotal: 2.47s\tremaining: 271ms\n",
      "901:\tlearn: 0.0084557\ttotal: 2.47s\tremaining: 268ms\n",
      "902:\tlearn: 0.0084431\ttotal: 2.47s\tremaining: 266ms\n",
      "903:\tlearn: 0.0084292\ttotal: 2.48s\tremaining: 263ms\n",
      "904:\tlearn: 0.0084163\ttotal: 2.48s\tremaining: 260ms\n",
      "905:\tlearn: 0.0083992\ttotal: 2.48s\tremaining: 257ms\n",
      "906:\tlearn: 0.0083832\ttotal: 2.48s\tremaining: 255ms\n",
      "907:\tlearn: 0.0083694\ttotal: 2.49s\tremaining: 252ms\n",
      "908:\tlearn: 0.0083554\ttotal: 2.49s\tremaining: 249ms\n",
      "909:\tlearn: 0.0083390\ttotal: 2.49s\tremaining: 246ms\n",
      "910:\tlearn: 0.0083246\ttotal: 2.49s\tremaining: 244ms\n",
      "911:\tlearn: 0.0083076\ttotal: 2.5s\tremaining: 241ms\n",
      "912:\tlearn: 0.0082870\ttotal: 2.5s\tremaining: 238ms\n",
      "913:\tlearn: 0.0082778\ttotal: 2.5s\tremaining: 235ms\n",
      "914:\tlearn: 0.0082669\ttotal: 2.5s\tremaining: 233ms\n",
      "915:\tlearn: 0.0082525\ttotal: 2.51s\tremaining: 230ms\n",
      "916:\tlearn: 0.0082410\ttotal: 2.51s\tremaining: 227ms\n",
      "917:\tlearn: 0.0082290\ttotal: 2.51s\tremaining: 224ms\n",
      "918:\tlearn: 0.0082116\ttotal: 2.51s\tremaining: 222ms\n",
      "919:\tlearn: 0.0081978\ttotal: 2.52s\tremaining: 219ms\n",
      "920:\tlearn: 0.0081884\ttotal: 2.52s\tremaining: 216ms\n",
      "921:\tlearn: 0.0081745\ttotal: 2.52s\tremaining: 213ms\n",
      "922:\tlearn: 0.0081601\ttotal: 2.52s\tremaining: 211ms\n",
      "923:\tlearn: 0.0081489\ttotal: 2.52s\tremaining: 208ms\n",
      "924:\tlearn: 0.0081339\ttotal: 2.53s\tremaining: 205ms\n",
      "925:\tlearn: 0.0081131\ttotal: 2.53s\tremaining: 202ms\n",
      "926:\tlearn: 0.0081021\ttotal: 2.53s\tremaining: 199ms\n",
      "927:\tlearn: 0.0080873\ttotal: 2.54s\tremaining: 197ms\n",
      "928:\tlearn: 0.0080716\ttotal: 2.54s\tremaining: 194ms\n",
      "929:\tlearn: 0.0080559\ttotal: 2.54s\tremaining: 191ms\n",
      "930:\tlearn: 0.0080434\ttotal: 2.54s\tremaining: 188ms\n",
      "931:\tlearn: 0.0080293\ttotal: 2.54s\tremaining: 186ms\n",
      "932:\tlearn: 0.0080150\ttotal: 2.55s\tremaining: 183ms\n",
      "933:\tlearn: 0.0080024\ttotal: 2.55s\tremaining: 180ms\n",
      "934:\tlearn: 0.0079878\ttotal: 2.56s\tremaining: 178ms\n",
      "935:\tlearn: 0.0079753\ttotal: 2.56s\tremaining: 175ms\n",
      "936:\tlearn: 0.0079627\ttotal: 2.56s\tremaining: 172ms\n",
      "937:\tlearn: 0.0079501\ttotal: 2.56s\tremaining: 169ms\n",
      "938:\tlearn: 0.0079371\ttotal: 2.57s\tremaining: 167ms\n",
      "939:\tlearn: 0.0079222\ttotal: 2.57s\tremaining: 164ms\n",
      "940:\tlearn: 0.0079099\ttotal: 2.57s\tremaining: 161ms\n",
      "941:\tlearn: 0.0078990\ttotal: 2.57s\tremaining: 159ms\n",
      "942:\tlearn: 0.0078840\ttotal: 2.58s\tremaining: 156ms\n",
      "943:\tlearn: 0.0078696\ttotal: 2.58s\tremaining: 153ms\n",
      "944:\tlearn: 0.0078568\ttotal: 2.58s\tremaining: 150ms\n",
      "945:\tlearn: 0.0078427\ttotal: 2.58s\tremaining: 148ms\n",
      "946:\tlearn: 0.0078299\ttotal: 2.59s\tremaining: 145ms\n",
      "947:\tlearn: 0.0078127\ttotal: 2.59s\tremaining: 142ms\n",
      "948:\tlearn: 0.0078011\ttotal: 2.59s\tremaining: 139ms\n",
      "949:\tlearn: 0.0077875\ttotal: 2.59s\tremaining: 137ms\n",
      "950:\tlearn: 0.0077753\ttotal: 2.6s\tremaining: 134ms\n",
      "951:\tlearn: 0.0077630\ttotal: 2.6s\tremaining: 131ms\n",
      "952:\tlearn: 0.0077429\ttotal: 2.6s\tremaining: 128ms\n",
      "953:\tlearn: 0.0077285\ttotal: 2.6s\tremaining: 126ms\n",
      "954:\tlearn: 0.0077147\ttotal: 2.61s\tremaining: 123ms\n",
      "955:\tlearn: 0.0077014\ttotal: 2.61s\tremaining: 120ms\n",
      "956:\tlearn: 0.0076903\ttotal: 2.61s\tremaining: 117ms\n",
      "957:\tlearn: 0.0076764\ttotal: 2.61s\tremaining: 115ms\n",
      "958:\tlearn: 0.0076623\ttotal: 2.62s\tremaining: 112ms\n",
      "959:\tlearn: 0.0076495\ttotal: 2.62s\tremaining: 109ms\n",
      "960:\tlearn: 0.0076336\ttotal: 2.62s\tremaining: 106ms\n",
      "961:\tlearn: 0.0076226\ttotal: 2.62s\tremaining: 104ms\n",
      "962:\tlearn: 0.0076103\ttotal: 2.63s\tremaining: 101ms\n",
      "963:\tlearn: 0.0075966\ttotal: 2.63s\tremaining: 98.2ms\n",
      "964:\tlearn: 0.0075829\ttotal: 2.63s\tremaining: 95.4ms\n",
      "965:\tlearn: 0.0075745\ttotal: 2.63s\tremaining: 92.7ms\n",
      "966:\tlearn: 0.0075592\ttotal: 2.64s\tremaining: 90ms\n",
      "967:\tlearn: 0.0075484\ttotal: 2.64s\tremaining: 87.2ms\n",
      "968:\tlearn: 0.0075398\ttotal: 2.64s\tremaining: 84.5ms\n",
      "969:\tlearn: 0.0075288\ttotal: 2.64s\tremaining: 81.8ms\n",
      "970:\tlearn: 0.0075200\ttotal: 2.65s\tremaining: 79ms\n",
      "971:\tlearn: 0.0075057\ttotal: 2.65s\tremaining: 76.3ms\n",
      "972:\tlearn: 0.0074961\ttotal: 2.65s\tremaining: 73.6ms\n",
      "973:\tlearn: 0.0074850\ttotal: 2.65s\tremaining: 70.8ms\n",
      "974:\tlearn: 0.0074747\ttotal: 2.65s\tremaining: 68.1ms\n",
      "975:\tlearn: 0.0074635\ttotal: 2.66s\tremaining: 65.4ms\n",
      "976:\tlearn: 0.0074519\ttotal: 2.66s\tremaining: 62.6ms\n",
      "977:\tlearn: 0.0074410\ttotal: 2.66s\tremaining: 59.9ms\n",
      "978:\tlearn: 0.0074314\ttotal: 2.67s\tremaining: 57.2ms\n",
      "979:\tlearn: 0.0074169\ttotal: 2.67s\tremaining: 54.4ms\n",
      "980:\tlearn: 0.0074047\ttotal: 2.67s\tremaining: 51.7ms\n",
      "981:\tlearn: 0.0073909\ttotal: 2.67s\tremaining: 49ms\n",
      "982:\tlearn: 0.0073825\ttotal: 2.67s\tremaining: 46.3ms\n",
      "983:\tlearn: 0.0073743\ttotal: 2.68s\tremaining: 43.5ms\n",
      "984:\tlearn: 0.0073594\ttotal: 2.68s\tremaining: 40.8ms\n",
      "985:\tlearn: 0.0073494\ttotal: 2.68s\tremaining: 38.1ms\n",
      "986:\tlearn: 0.0073407\ttotal: 2.69s\tremaining: 35.4ms\n",
      "987:\tlearn: 0.0073286\ttotal: 2.69s\tremaining: 32.6ms\n",
      "988:\tlearn: 0.0073170\ttotal: 2.69s\tremaining: 29.9ms\n",
      "989:\tlearn: 0.0073069\ttotal: 2.69s\tremaining: 27.2ms\n",
      "990:\tlearn: 0.0072954\ttotal: 2.69s\tremaining: 24.5ms\n",
      "991:\tlearn: 0.0072849\ttotal: 2.7s\tremaining: 21.8ms\n",
      "992:\tlearn: 0.0072680\ttotal: 2.7s\tremaining: 19ms\n",
      "993:\tlearn: 0.0072581\ttotal: 2.7s\tremaining: 16.3ms\n",
      "994:\tlearn: 0.0072417\ttotal: 2.7s\tremaining: 13.6ms\n",
      "995:\tlearn: 0.0072293\ttotal: 2.71s\tremaining: 10.9ms\n",
      "996:\tlearn: 0.0072165\ttotal: 2.71s\tremaining: 8.15ms\n",
      "997:\tlearn: 0.0072024\ttotal: 2.71s\tremaining: 5.43ms\n",
      "998:\tlearn: 0.0071858\ttotal: 2.71s\tremaining: 2.72ms\n",
      "999:\tlearn: 0.0071761\ttotal: 2.72s\tremaining: 0us\n"
     ]
    },
    {
     "name": "stdout",
     "output_type": "stream",
     "text": [
      "Train accuracy score of cat_model is 1.0\n",
      "Test accuracy score of cat_model is 1.0\n",
      "confusion_matrix score of cat_model is \n",
      "[[47  0]\n",
      " [ 0 33]]\n",
      "classification_report score of cat_model is \n",
      "              precision    recall  f1-score   support\n",
      "\n",
      "           0       1.00      1.00      1.00        47\n",
      "           1       1.00      1.00      1.00        33\n",
      "\n",
      "    accuracy                           1.00        80\n",
      "   macro avg       1.00      1.00      1.00        80\n",
      "weighted avg       1.00      1.00      1.00        80\n",
      "\n"
     ]
    }
   ],
   "source": [
    "# import CatBoostClassifier\n",
    "from catboost import CatBoostClassifier\n",
    "\n",
    "cat_model = CatBoostClassifier()\n",
    "cat_model.fit(X_train, y_train)\n",
    "cat_model_acc = accuracy_score(y_test, cat_model.predict(X_test))\n",
    "# accuracy score, confusion matrix and classification report of cat boost\n",
    "\n",
    "print(f'Train accuracy score of cat_model is {accuracy_score(y_train, cat_model.predict(X_train))}')\n",
    "\n",
    "print(f'Test accuracy score of cat_model is {cat_model_acc}')\n",
    "\n",
    "print(f'confusion_matrix score of cat_model is \\n{confusion_matrix(y_test, cat_model.predict(X_test))}')\n",
    "\n",
    "print(f'classification_report score of cat_model is \\n{classification_report(y_test, cat_model.predict(X_test))}')\n"
   ]
  },
  {
   "cell_type": "code",
   "execution_count": 53,
   "metadata": {
    "colab": {
     "base_uri": "https://localhost:8080/"
    },
    "id": "0QBEvlIzgHlp",
    "outputId": "ae672055-b957-42fd-8094-8a203732deed"
   },
   "outputs": [
    {
     "name": "stdout",
     "output_type": "stream",
     "text": [
      "Train accuracy score of etc_model is 1.0\n",
      "Test accuracy score of etc_model is 0.9875\n",
      "confusion_matrix score of etc_model is \n",
      "[[47  0]\n",
      " [ 1 32]]\n",
      "classification_report score of etc_model is \n",
      "              precision    recall  f1-score   support\n",
      "\n",
      "           0       0.98      1.00      0.99        47\n",
      "           1       1.00      0.97      0.98        33\n",
      "\n",
      "    accuracy                           0.99        80\n",
      "   macro avg       0.99      0.98      0.99        80\n",
      "weighted avg       0.99      0.99      0.99        80\n",
      "\n"
     ]
    }
   ],
   "source": [
    "# import ExtraTreesClassifier\n",
    "\n",
    "from sklearn.ensemble import ExtraTreesClassifier\n",
    "\n",
    "etc_model = ExtraTreesClassifier()\n",
    "\n",
    "etc_model.fit(X_train, y_train)\n",
    "\n",
    "# accuracy score, confusion matrix and classification report of extra trees classifier\n",
    "etc_model_acc = accuracy_score(y_test, etc_model.predict(X_test))\n",
    "\n",
    "print(f'Train accuracy score of etc_model is {accuracy_score(y_train, etc_model.predict(X_train))}')\n",
    "\n",
    "print(f'Test accuracy score of etc_model is {etc_model_acc}')\n",
    "\n",
    "print(f'confusion_matrix score of etc_model is \\n{confusion_matrix(y_test, etc_model.predict(X_test))}')\n",
    "\n",
    "print(f'classification_report score of etc_model is \\n{classification_report(y_test, etc_model.predict(X_test))}')\n"
   ]
  },
  {
   "cell_type": "code",
   "execution_count": 54,
   "metadata": {},
   "outputs": [
    {
     "name": "stdout",
     "output_type": "stream",
     "text": [
      "Requirement already satisfied: lightgbm in c:\\users\\siva reddy\\anaconda3\\lib\\site-packages (3.3.5)\n",
      "Requirement already satisfied: numpy in c:\\users\\siva reddy\\anaconda3\\lib\\site-packages (from lightgbm) (1.23.5)\n",
      "Requirement already satisfied: wheel in c:\\users\\siva reddy\\anaconda3\\lib\\site-packages (from lightgbm) (0.38.4)\n",
      "Requirement already satisfied: scikit-learn!=0.22.0 in c:\\users\\siva reddy\\anaconda3\\lib\\site-packages (from lightgbm) (1.3.0)\n",
      "Requirement already satisfied: scipy in c:\\users\\siva reddy\\anaconda3\\lib\\site-packages (from lightgbm) (1.10.0)\n",
      "Requirement already satisfied: threadpoolctl>=2.0.0 in c:\\users\\siva reddy\\anaconda3\\lib\\site-packages (from scikit-learn!=0.22.0->lightgbm) (2.2.0)\n",
      "Requirement already satisfied: joblib>=1.1.1 in c:\\users\\siva reddy\\anaconda3\\lib\\site-packages (from scikit-learn!=0.22.0->lightgbm) (1.1.1)\n",
      "Note: you may need to restart the kernel to use updated packages.\n"
     ]
    }
   ],
   "source": [
    "pip install lightgbm"
   ]
  },
  {
   "cell_type": "code",
   "execution_count": 55,
   "metadata": {
    "colab": {
     "base_uri": "https://localhost:8080/"
    },
    "id": "UmjtTA_-gNSp",
    "outputId": "3b9fc0e9-29c6-499e-ed61-dca475a2cbd7"
   },
   "outputs": [
    {
     "name": "stdout",
     "output_type": "stream",
     "text": [
      "Train accuracy score of lgbm_model is 1.0\n",
      "Test accuracy score of lgbm_model is 0.975\n",
      "confusion_matrix score of lgbm_model is \n",
      "[[46  1]\n",
      " [ 1 32]]\n",
      "classification_report score of lgbm_model is \n",
      "              precision    recall  f1-score   support\n",
      "\n",
      "           0       0.98      0.98      0.98        47\n",
      "           1       0.97      0.97      0.97        33\n",
      "\n",
      "    accuracy                           0.97        80\n",
      "   macro avg       0.97      0.97      0.97        80\n",
      "weighted avg       0.97      0.97      0.97        80\n",
      "\n"
     ]
    }
   ],
   "source": [
    "# import LGBMClassifier\n",
    "from lightgbm import LGBMClassifier\n",
    "\n",
    "lgbm_model = LGBMClassifier()\n",
    "\n",
    "lgbm_model.fit(X_train, y_train)\n",
    "\n",
    "# accuracy score, confusion matrix and classification report of lgbm classifier\n",
    "lgbm_model_acc = accuracy_score(y_test, lgbm_model.predict(X_test))\n",
    "\n",
    "print(f'Train accuracy score of lgbm_model is {accuracy_score(y_train, lgbm_model.predict(X_train))}')\n",
    "\n",
    "print(f'Test accuracy score of lgbm_model is {lgbm_model_acc}')\n",
    "\n",
    "print(f'confusion_matrix score of lgbm_model is \\n{confusion_matrix(y_test, lgbm_model.predict(X_test))}')\n",
    "\n",
    "print(f'classification_report score of lgbm_model is \\n{classification_report(y_test, lgbm_model.predict(X_test))}')\n"
   ]
  },
  {
   "cell_type": "code",
   "execution_count": 56,
   "metadata": {
    "colab": {
     "base_uri": "https://localhost:8080/",
     "height": 332
    },
    "id": "4wNh2OlrgS4d",
    "outputId": "54780507-7574-4c95-f48a-fccf38d909c7"
   },
   "outputs": [],
   "source": [
    "# comparing all models accuracy by creating a df\n",
    "models = pd.DataFrame({'Models' : ['KNeighborsClassifier', 'DecisionTreeClassifier','RandomForestClassifier', 'AdaBoostClassifier',\n",
    "                                  'GradientBoostingClassifier', 'XGBClassifier','CatBoostClassifier', 'ExtraTreesClassifier','LGBMClassifier'],\n",
    "                      \n",
    "                      \n",
    "                     'Test Scores' : [knn_model_acc, dtc_model_acc, rd_clf_acc, ada_model_acc, sgb_acc, xgb_model_acc,\n",
    "                                      cat_model_acc, etc_model_acc, lgbm_model_acc]})\n",
    "\n"
   ]
  },
  {
   "cell_type": "code",
   "execution_count": 57,
   "metadata": {
    "id": "XFtk3W4ERU6b"
   },
   "outputs": [
    {
     "data": {
      "text/html": [
       "<div>\n",
       "<style scoped>\n",
       "    .dataframe tbody tr th:only-of-type {\n",
       "        vertical-align: middle;\n",
       "    }\n",
       "\n",
       "    .dataframe tbody tr th {\n",
       "        vertical-align: top;\n",
       "    }\n",
       "\n",
       "    .dataframe thead th {\n",
       "        text-align: right;\n",
       "    }\n",
       "</style>\n",
       "<table border=\"1\" class=\"dataframe\">\n",
       "  <thead>\n",
       "    <tr style=\"text-align: right;\">\n",
       "      <th></th>\n",
       "      <th>Models</th>\n",
       "      <th>Test Scores</th>\n",
       "    </tr>\n",
       "  </thead>\n",
       "  <tbody>\n",
       "    <tr>\n",
       "      <th>6</th>\n",
       "      <td>CatBoostClassifier</td>\n",
       "      <td>1.0000</td>\n",
       "    </tr>\n",
       "    <tr>\n",
       "      <th>1</th>\n",
       "      <td>DecisionTreeClassifier</td>\n",
       "      <td>0.9875</td>\n",
       "    </tr>\n",
       "    <tr>\n",
       "      <th>2</th>\n",
       "      <td>RandomForestClassifier</td>\n",
       "      <td>0.9875</td>\n",
       "    </tr>\n",
       "    <tr>\n",
       "      <th>3</th>\n",
       "      <td>AdaBoostClassifier</td>\n",
       "      <td>0.9875</td>\n",
       "    </tr>\n",
       "    <tr>\n",
       "      <th>5</th>\n",
       "      <td>XGBClassifier</td>\n",
       "      <td>0.9875</td>\n",
       "    </tr>\n",
       "    <tr>\n",
       "      <th>7</th>\n",
       "      <td>ExtraTreesClassifier</td>\n",
       "      <td>0.9875</td>\n",
       "    </tr>\n",
       "    <tr>\n",
       "      <th>4</th>\n",
       "      <td>GradientBoostingClassifier</td>\n",
       "      <td>0.9750</td>\n",
       "    </tr>\n",
       "    <tr>\n",
       "      <th>8</th>\n",
       "      <td>LGBMClassifier</td>\n",
       "      <td>0.9750</td>\n",
       "    </tr>\n",
       "    <tr>\n",
       "      <th>0</th>\n",
       "      <td>KNeighborsClassifier</td>\n",
       "      <td>0.6500</td>\n",
       "    </tr>\n",
       "  </tbody>\n",
       "</table>\n",
       "</div>"
      ],
      "text/plain": [
       "                       Models  Test Scores\n",
       "6          CatBoostClassifier       1.0000\n",
       "1      DecisionTreeClassifier       0.9875\n",
       "2      RandomForestClassifier       0.9875\n",
       "3          AdaBoostClassifier       0.9875\n",
       "5               XGBClassifier       0.9875\n",
       "7        ExtraTreesClassifier       0.9875\n",
       "4  GradientBoostingClassifier       0.9750\n",
       "8              LGBMClassifier       0.9750\n",
       "0        KNeighborsClassifier       0.6500"
      ]
     },
     "execution_count": 57,
     "metadata": {},
     "output_type": "execute_result"
    }
   ],
   "source": [
    "models.sort_values(by='Test Scores', ascending=False)"
   ]
  },
  {
   "cell_type": "code",
   "execution_count": null,
   "metadata": {},
   "outputs": [],
   "source": []
  }
 ],
 "metadata": {
  "colab": {
   "provenance": []
  },
  "kernelspec": {
   "display_name": "Python 3 (ipykernel)",
   "language": "python",
   "name": "python3"
  },
  "language_info": {
   "codemirror_mode": {
    "name": "ipython",
    "version": 3
   },
   "file_extension": ".py",
   "mimetype": "text/x-python",
   "name": "python",
   "nbconvert_exporter": "python",
   "pygments_lexer": "ipython3",
   "version": "3.10.9"
  }
 },
 "nbformat": 4,
 "nbformat_minor": 1
}
